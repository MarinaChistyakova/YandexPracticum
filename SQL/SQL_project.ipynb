{
 "cells": [
  {
   "cell_type": "markdown",
   "id": "b8849116",
   "metadata": {
    "toc": true
   },
   "source": [
    "<h1>Содержание<span class=\"tocSkip\"></span></h1>\n",
    "<div class=\"toc\"><ul class=\"toc-item\"><li><span><a href=\"#Описание-данных\" data-toc-modified-id=\"Описание-данных-1\"><span class=\"toc-item-num\">1&nbsp;&nbsp;</span>Описание данных</a></span></li><li><span><a href=\"#Обзор-данных\" data-toc-modified-id=\"Обзор-данных-2\"><span class=\"toc-item-num\">2&nbsp;&nbsp;</span>Обзор данных</a></span><ul class=\"toc-item\"><li><span><a href=\"#Обзор-данных-books\" data-toc-modified-id=\"Обзор-данных-books-2.1\"><span class=\"toc-item-num\">2.1&nbsp;&nbsp;</span>Обзор данных <code>books</code></a></span></li><li><span><a href=\"#Обзор-данных-authors\" data-toc-modified-id=\"Обзор-данных-authors-2.2\"><span class=\"toc-item-num\">2.2&nbsp;&nbsp;</span>Обзор данных <code>authors</code></a></span></li><li><span><a href=\"#Обзор-данных-publishers\" data-toc-modified-id=\"Обзор-данных-publishers-2.3\"><span class=\"toc-item-num\">2.3&nbsp;&nbsp;</span>Обзор данных <code>publishers</code></a></span></li><li><span><a href=\"#Обзор-данных-ratings\" data-toc-modified-id=\"Обзор-данных-ratings-2.4\"><span class=\"toc-item-num\">2.4&nbsp;&nbsp;</span>Обзор данных <code>ratings</code></a></span></li><li><span><a href=\"#Обзор-данных-reviews\" data-toc-modified-id=\"Обзор-данных-reviews-2.5\"><span class=\"toc-item-num\">2.5&nbsp;&nbsp;</span>Обзор данных <code>reviews</code></a></span></li></ul></li><li><span><a href=\"#Задания\" data-toc-modified-id=\"Задания-3\"><span class=\"toc-item-num\">3&nbsp;&nbsp;</span>Задания</a></span><ul class=\"toc-item\"><li><span><a href=\"#Посчитать,-сколько-книг-вышло-после-1-января-2000-года\" data-toc-modified-id=\"Посчитать,-сколько-книг-вышло-после-1-января-2000-года-3.1\"><span class=\"toc-item-num\">3.1&nbsp;&nbsp;</span>Посчитать, сколько книг вышло после 1 января 2000 года</a></span></li><li><span><a href=\"#Для-каждой-книги-посчитать-количество-обзоров-и-среднюю-оценку\" data-toc-modified-id=\"Для-каждой-книги-посчитать-количество-обзоров-и-среднюю-оценку-3.2\"><span class=\"toc-item-num\">3.2&nbsp;&nbsp;</span>Для каждой книги посчитать количество обзоров и среднюю оценку</a></span></li><li><span><a href=\"#Определить-издательство,-которое-выпустило-наибольшее-число-книг-толще-50-страниц-(так-мы-исключите-из-анализа-брошюры)\" data-toc-modified-id=\"Определить-издательство,-которое-выпустило-наибольшее-число-книг-толще-50-страниц-(так-мы-исключите-из-анализа-брошюры)-3.3\"><span class=\"toc-item-num\">3.3&nbsp;&nbsp;</span>Определить издательство, которое выпустило наибольшее число книг толще 50 страниц (так мы исключите из анализа брошюры)</a></span></li><li><span><a href=\"#Определить-автора-с-самой-высокой-средней-оценкой-книг---учитываются-только-книги-с-50-и-более-оценками\" data-toc-modified-id=\"Определить-автора-с-самой-высокой-средней-оценкой-книг---учитываются-только-книги-с-50-и-более-оценками-3.4\"><span class=\"toc-item-num\">3.4&nbsp;&nbsp;</span>Определить автора с самой высокой средней оценкой книг - учитываются только книги с 50 и более оценками</a></span></li><li><span><a href=\"#Посчитать-среднее-количество-обзоров-от-пользователей,-которые-поставили-больше-50-оценок\" data-toc-modified-id=\"Посчитать-среднее-количество-обзоров-от-пользователей,-которые-поставили-больше-50-оценок-3.5\"><span class=\"toc-item-num\">3.5&nbsp;&nbsp;</span>Посчитать среднее количество обзоров от пользователей, которые поставили больше 50 оценок</a></span></li></ul></li><li><span><a href=\"#Вывод\" data-toc-modified-id=\"Вывод-4\"><span class=\"toc-item-num\">4&nbsp;&nbsp;</span>Вывод</a></span></li></ul></div>"
   ]
  },
  {
   "cell_type": "markdown",
   "id": "c7339d88",
   "metadata": {},
   "source": [
    "# Задачи по SQL"
   ]
  },
  {
   "cell_type": "markdown",
   "id": "abfdf776",
   "metadata": {},
   "source": [
    "## Описание данных\n",
    "\n",
    "**Таблица `books`**\n",
    "\n",
    "Содержит данные о книгах:\n",
    "\n",
    "- `book_id` - идентификатор книги;\n",
    "- `author_id` - идентификатор автора;\n",
    "- `title` - название книги;\n",
    "- `num_pages` - количество страниц;\n",
    "- `publication_date` - дата публикации книги;\n",
    "- `publisher_id` - идентификатор издателя.\n",
    "\n",
    "**Таблица `authors`**\n",
    "\n",
    "Содержит данные об авторах:\n",
    "\n",
    "- `author_id` - идентификатор автора;\n",
    "- `author` - имя автора.\n",
    "\n",
    "**Таблица `publishers`**\n",
    "\n",
    "Содержит данные об издательствах:\n",
    "\n",
    "- `publisher_id` - идентификатор издательства;\n",
    "- `publisher` - название издательства;\n",
    "\n",
    "**Таблица `ratings`**\n",
    "\n",
    "Содержит данные о пользовательских оценках книг:\n",
    "\n",
    "- `rating_id` - идентификатор оценки;\n",
    "- `book_id` - идентификатор книги;\n",
    "- `username` - имя пользователя, оставившего оценку;\n",
    "- `rating` - оценка книги.\n",
    "\n",
    "**Таблица `reviews`**\n",
    "\n",
    "Содержит данные о пользовательских обзорах на книги:\n",
    "\n",
    "- `review_id` - идентификатор обзора;\n",
    "- `book_id` - идентификатор книги;\n",
    "- `username` - имя пользователя, написавшего обзор;\n",
    "- `text` - текст обзора."
   ]
  },
  {
   "cell_type": "code",
   "execution_count": 1,
   "id": "7e3dc270",
   "metadata": {},
   "outputs": [
    {
     "data": {
      "text/html": [
       "<img src=\"https://concrete-web-bad.notion.site/image/https%3A%2F%2Fs3-us-west-2.amazonaws.com%2Fsecure.notion-static.com%2F069818d1-0e5c-4d87-a461-0de584ab9c33%2FUntitled_(33).png?table=block&id=bd53c8db-b4fd-49eb-8cc9-572ebb3c9163&spaceId=9e4bd47b-c6e6-4ca3-bcee-279794b47315&width=2000&userId=&cache=v2\" width=\"822\" height=\"522\"/>"
      ],
      "text/plain": [
       "<IPython.core.display.Image object>"
      ]
     },
     "execution_count": 1,
     "metadata": {},
     "output_type": "execute_result"
    }
   ],
   "source": [
    "from IPython.display import Image\n",
    "from IPython.core.display import HTML\n",
    "Image(url=\"https://concrete-web-bad.notion.site/image/https%3A%2F%2Fs3-us-west-2.amazonaws.com%2Fsecure.notion-static.com%2F069818d1-0e5c-4d87-a461-0de584ab9c33%2FUntitled_(33).png?table=block&id=bd53c8db-b4fd-49eb-8cc9-572ebb3c9163&spaceId=9e4bd47b-c6e6-4ca3-bcee-279794b47315&width=2000&userId=&cache=v2\", width=822, height=522)"
   ]
  },
  {
   "cell_type": "markdown",
   "id": "040b8e7a",
   "metadata": {},
   "source": [
    "## Обзор данных"
   ]
  },
  {
   "cell_type": "code",
   "execution_count": 2,
   "id": "97c14f43",
   "metadata": {},
   "outputs": [
    {
     "name": "stdout",
     "output_type": "stream",
     "text": [
      "Requirement already satisfied: sqlalchemy in /opt/conda/lib/python3.9/site-packages (1.4.20)\n",
      "Requirement already satisfied: greenlet!=0.4.17 in /opt/conda/lib/python3.9/site-packages (from sqlalchemy) (1.1.0)\n"
     ]
    }
   ],
   "source": [
    "!pip install sqlalchemy"
   ]
  },
  {
   "cell_type": "code",
   "execution_count": 3,
   "id": "e1754add",
   "metadata": {},
   "outputs": [],
   "source": [
    "# импортируем библиотеки\n",
    "\n",
    "import pandas as pd\n",
    "from sqlalchemy import create_engine"
   ]
  },
  {
   "cell_type": "code",
   "execution_count": 4,
   "id": "1c92503d",
   "metadata": {},
   "outputs": [],
   "source": [
    "# устанавливаем параметры\n",
    "\n",
    "db_config = {'user': 'praktikum_student', # имя пользователя\n",
    "             'pwd': 'Sdf4$2;d-d30pp', # пароль\n",
    "             'host': 'rc1b-wcoijxj3yxfsf3fs.mdb.yandexcloud.net',\n",
    "             'port': 6432, # порт подключения\n",
    "             'db': 'data-analyst-final-project-db'} # название базы данных\n",
    "\n",
    "connection_string = 'postgresql://{}:{}@{}:{}/{}'.format(db_config['user'],\n",
    "                                                         db_config['pwd'],\n",
    "                                                         db_config['host'],\n",
    "                                                         db_config['port'],\n",
    "                                                         db_config['db'])\n",
    "\n",
    "# сохраняем коннектор\n",
    "\n",
    "con = create_engine(connection_string, connect_args={'sslmode':'require'}) "
   ]
  },
  {
   "cell_type": "code",
   "execution_count": 5,
   "id": "00d4ec59",
   "metadata": {},
   "outputs": [],
   "source": [
    "# функция для первичного просмотра датасета\n",
    "\n",
    "def data_look(data):\n",
    "    # приводим названия всех колонок к змеиному регистру\n",
    "    data.columns = [x.lower().replace(' ', '_') for x in data.columns]\n",
    "    print()\n",
    "    print('\\033[1m === Информация по датасету === \\033[0m')\n",
    "    print()\n",
    "    data.info() # выводим информацию по датасету\n",
    "    print()\n",
    "    print('\\033[1m === Первые 5 строк данных === \\033[0m')\n",
    "    display(data.head()) # выводим первые 5 строк\n",
    "    print()\n",
    "    print('\\033[1m === Случайные 5 строк данных === \\033[0m')\n",
    "    display(data.sample(5, random_state=10)) # выводим последние 5 строк  \n",
    "    print()\n",
    "    print('\\033[1m === Пропуски и уникальные значения по столбцам === \\033[0m')\n",
    "    # выводим данные о пропусках и уникальных значениях по каждому столбцу\n",
    "    display(pd.concat([data.isna().sum().rename('nan_count'), # количество пропусков\n",
    "                       data.isna().mean().rename('nan_percent'), # % пропусков\n",
    "                       data.nunique().rename('unique_values')], # количество уникальных значений\n",
    "                      axis=1).style.format({'nan_percent' : '{:.2%}'})) \n",
    "    print()\n",
    "    print('\\033[1m === Явные дубликаты === \\033[0m')\n",
    "    print()\n",
    "    print('Количество явных дубликатов:', data.duplicated().sum())"
   ]
  },
  {
   "cell_type": "code",
   "execution_count": 6,
   "id": "5da08ce9",
   "metadata": {},
   "outputs": [],
   "source": [
    "# функция для вывода результата по полученому SQL запросу\n",
    "\n",
    "def select(sql):\n",
    "    return pd.io.sql.read_sql(sql, con)"
   ]
  },
  {
   "cell_type": "markdown",
   "id": "a261aeb6",
   "metadata": {},
   "source": [
    "### Обзор данных `books`"
   ]
  },
  {
   "cell_type": "code",
   "execution_count": 7,
   "id": "bfc614ec",
   "metadata": {},
   "outputs": [],
   "source": [
    "# выполним запрос к базе данных и сохраним необходимую таблицу в переменную `books`\n",
    "\n",
    "query_books = '''\n",
    "          SELECT *\n",
    "          FROM books\n",
    "          LIMIT(5)\n",
    "              '''\n",
    "books = select(query_books)"
   ]
  },
  {
   "cell_type": "code",
   "execution_count": 8,
   "id": "ad024a11",
   "metadata": {
    "scrolled": false
   },
   "outputs": [
    {
     "name": "stdout",
     "output_type": "stream",
     "text": [
      "\n",
      "\u001b[1m === Информация по датасету === \u001b[0m\n",
      "\n",
      "<class 'pandas.core.frame.DataFrame'>\n",
      "RangeIndex: 5 entries, 0 to 4\n",
      "Data columns (total 6 columns):\n",
      " #   Column            Non-Null Count  Dtype \n",
      "---  ------            --------------  ----- \n",
      " 0   book_id           5 non-null      int64 \n",
      " 1   author_id         5 non-null      int64 \n",
      " 2   title             5 non-null      object\n",
      " 3   num_pages         5 non-null      int64 \n",
      " 4   publication_date  5 non-null      object\n",
      " 5   publisher_id      5 non-null      int64 \n",
      "dtypes: int64(4), object(2)\n",
      "memory usage: 368.0+ bytes\n",
      "\n",
      "\u001b[1m === Первые 5 строк данных === \u001b[0m\n"
     ]
    },
    {
     "data": {
      "text/html": [
       "<div>\n",
       "<style scoped>\n",
       "    .dataframe tbody tr th:only-of-type {\n",
       "        vertical-align: middle;\n",
       "    }\n",
       "\n",
       "    .dataframe tbody tr th {\n",
       "        vertical-align: top;\n",
       "    }\n",
       "\n",
       "    .dataframe thead th {\n",
       "        text-align: right;\n",
       "    }\n",
       "</style>\n",
       "<table border=\"1\" class=\"dataframe\">\n",
       "  <thead>\n",
       "    <tr style=\"text-align: right;\">\n",
       "      <th></th>\n",
       "      <th>book_id</th>\n",
       "      <th>author_id</th>\n",
       "      <th>title</th>\n",
       "      <th>num_pages</th>\n",
       "      <th>publication_date</th>\n",
       "      <th>publisher_id</th>\n",
       "    </tr>\n",
       "  </thead>\n",
       "  <tbody>\n",
       "    <tr>\n",
       "      <th>0</th>\n",
       "      <td>1</td>\n",
       "      <td>546</td>\n",
       "      <td>'Salem's Lot</td>\n",
       "      <td>594</td>\n",
       "      <td>2005-11-01</td>\n",
       "      <td>93</td>\n",
       "    </tr>\n",
       "    <tr>\n",
       "      <th>1</th>\n",
       "      <td>2</td>\n",
       "      <td>465</td>\n",
       "      <td>1 000 Places to See Before You Die</td>\n",
       "      <td>992</td>\n",
       "      <td>2003-05-22</td>\n",
       "      <td>336</td>\n",
       "    </tr>\n",
       "    <tr>\n",
       "      <th>2</th>\n",
       "      <td>3</td>\n",
       "      <td>407</td>\n",
       "      <td>13 Little Blue Envelopes (Little Blue Envelope...</td>\n",
       "      <td>322</td>\n",
       "      <td>2010-12-21</td>\n",
       "      <td>135</td>\n",
       "    </tr>\n",
       "    <tr>\n",
       "      <th>3</th>\n",
       "      <td>4</td>\n",
       "      <td>82</td>\n",
       "      <td>1491: New Revelations of the Americas Before C...</td>\n",
       "      <td>541</td>\n",
       "      <td>2006-10-10</td>\n",
       "      <td>309</td>\n",
       "    </tr>\n",
       "    <tr>\n",
       "      <th>4</th>\n",
       "      <td>5</td>\n",
       "      <td>125</td>\n",
       "      <td>1776</td>\n",
       "      <td>386</td>\n",
       "      <td>2006-07-04</td>\n",
       "      <td>268</td>\n",
       "    </tr>\n",
       "  </tbody>\n",
       "</table>\n",
       "</div>"
      ],
      "text/plain": [
       "   book_id  author_id                                              title  \\\n",
       "0        1        546                                       'Salem's Lot   \n",
       "1        2        465                 1 000 Places to See Before You Die   \n",
       "2        3        407  13 Little Blue Envelopes (Little Blue Envelope...   \n",
       "3        4         82  1491: New Revelations of the Americas Before C...   \n",
       "4        5        125                                               1776   \n",
       "\n",
       "   num_pages publication_date  publisher_id  \n",
       "0        594       2005-11-01            93  \n",
       "1        992       2003-05-22           336  \n",
       "2        322       2010-12-21           135  \n",
       "3        541       2006-10-10           309  \n",
       "4        386       2006-07-04           268  "
      ]
     },
     "metadata": {},
     "output_type": "display_data"
    },
    {
     "name": "stdout",
     "output_type": "stream",
     "text": [
      "\n",
      "\u001b[1m === Случайные 5 строк данных === \u001b[0m\n"
     ]
    },
    {
     "data": {
      "text/html": [
       "<div>\n",
       "<style scoped>\n",
       "    .dataframe tbody tr th:only-of-type {\n",
       "        vertical-align: middle;\n",
       "    }\n",
       "\n",
       "    .dataframe tbody tr th {\n",
       "        vertical-align: top;\n",
       "    }\n",
       "\n",
       "    .dataframe thead th {\n",
       "        text-align: right;\n",
       "    }\n",
       "</style>\n",
       "<table border=\"1\" class=\"dataframe\">\n",
       "  <thead>\n",
       "    <tr style=\"text-align: right;\">\n",
       "      <th></th>\n",
       "      <th>book_id</th>\n",
       "      <th>author_id</th>\n",
       "      <th>title</th>\n",
       "      <th>num_pages</th>\n",
       "      <th>publication_date</th>\n",
       "      <th>publisher_id</th>\n",
       "    </tr>\n",
       "  </thead>\n",
       "  <tbody>\n",
       "    <tr>\n",
       "      <th>2</th>\n",
       "      <td>3</td>\n",
       "      <td>407</td>\n",
       "      <td>13 Little Blue Envelopes (Little Blue Envelope...</td>\n",
       "      <td>322</td>\n",
       "      <td>2010-12-21</td>\n",
       "      <td>135</td>\n",
       "    </tr>\n",
       "    <tr>\n",
       "      <th>3</th>\n",
       "      <td>4</td>\n",
       "      <td>82</td>\n",
       "      <td>1491: New Revelations of the Americas Before C...</td>\n",
       "      <td>541</td>\n",
       "      <td>2006-10-10</td>\n",
       "      <td>309</td>\n",
       "    </tr>\n",
       "    <tr>\n",
       "      <th>0</th>\n",
       "      <td>1</td>\n",
       "      <td>546</td>\n",
       "      <td>'Salem's Lot</td>\n",
       "      <td>594</td>\n",
       "      <td>2005-11-01</td>\n",
       "      <td>93</td>\n",
       "    </tr>\n",
       "    <tr>\n",
       "      <th>4</th>\n",
       "      <td>5</td>\n",
       "      <td>125</td>\n",
       "      <td>1776</td>\n",
       "      <td>386</td>\n",
       "      <td>2006-07-04</td>\n",
       "      <td>268</td>\n",
       "    </tr>\n",
       "    <tr>\n",
       "      <th>1</th>\n",
       "      <td>2</td>\n",
       "      <td>465</td>\n",
       "      <td>1 000 Places to See Before You Die</td>\n",
       "      <td>992</td>\n",
       "      <td>2003-05-22</td>\n",
       "      <td>336</td>\n",
       "    </tr>\n",
       "  </tbody>\n",
       "</table>\n",
       "</div>"
      ],
      "text/plain": [
       "   book_id  author_id                                              title  \\\n",
       "2        3        407  13 Little Blue Envelopes (Little Blue Envelope...   \n",
       "3        4         82  1491: New Revelations of the Americas Before C...   \n",
       "0        1        546                                       'Salem's Lot   \n",
       "4        5        125                                               1776   \n",
       "1        2        465                 1 000 Places to See Before You Die   \n",
       "\n",
       "   num_pages publication_date  publisher_id  \n",
       "2        322       2010-12-21           135  \n",
       "3        541       2006-10-10           309  \n",
       "0        594       2005-11-01            93  \n",
       "4        386       2006-07-04           268  \n",
       "1        992       2003-05-22           336  "
      ]
     },
     "metadata": {},
     "output_type": "display_data"
    },
    {
     "name": "stdout",
     "output_type": "stream",
     "text": [
      "\n",
      "\u001b[1m === Пропуски и уникальные значения по столбцам === \u001b[0m\n"
     ]
    },
    {
     "data": {
      "text/html": [
       "<style  type=\"text/css\" >\n",
       "</style><table id=\"T_8ffeb_\" ><thead>    <tr>        <th class=\"blank level0\" ></th>        <th class=\"col_heading level0 col0\" >nan_count</th>        <th class=\"col_heading level0 col1\" >nan_percent</th>        <th class=\"col_heading level0 col2\" >unique_values</th>    </tr></thead><tbody>\n",
       "                <tr>\n",
       "                        <th id=\"T_8ffeb_level0_row0\" class=\"row_heading level0 row0\" >book_id</th>\n",
       "                        <td id=\"T_8ffeb_row0_col0\" class=\"data row0 col0\" >0</td>\n",
       "                        <td id=\"T_8ffeb_row0_col1\" class=\"data row0 col1\" >0.00%</td>\n",
       "                        <td id=\"T_8ffeb_row0_col2\" class=\"data row0 col2\" >5</td>\n",
       "            </tr>\n",
       "            <tr>\n",
       "                        <th id=\"T_8ffeb_level0_row1\" class=\"row_heading level0 row1\" >author_id</th>\n",
       "                        <td id=\"T_8ffeb_row1_col0\" class=\"data row1 col0\" >0</td>\n",
       "                        <td id=\"T_8ffeb_row1_col1\" class=\"data row1 col1\" >0.00%</td>\n",
       "                        <td id=\"T_8ffeb_row1_col2\" class=\"data row1 col2\" >5</td>\n",
       "            </tr>\n",
       "            <tr>\n",
       "                        <th id=\"T_8ffeb_level0_row2\" class=\"row_heading level0 row2\" >title</th>\n",
       "                        <td id=\"T_8ffeb_row2_col0\" class=\"data row2 col0\" >0</td>\n",
       "                        <td id=\"T_8ffeb_row2_col1\" class=\"data row2 col1\" >0.00%</td>\n",
       "                        <td id=\"T_8ffeb_row2_col2\" class=\"data row2 col2\" >5</td>\n",
       "            </tr>\n",
       "            <tr>\n",
       "                        <th id=\"T_8ffeb_level0_row3\" class=\"row_heading level0 row3\" >num_pages</th>\n",
       "                        <td id=\"T_8ffeb_row3_col0\" class=\"data row3 col0\" >0</td>\n",
       "                        <td id=\"T_8ffeb_row3_col1\" class=\"data row3 col1\" >0.00%</td>\n",
       "                        <td id=\"T_8ffeb_row3_col2\" class=\"data row3 col2\" >5</td>\n",
       "            </tr>\n",
       "            <tr>\n",
       "                        <th id=\"T_8ffeb_level0_row4\" class=\"row_heading level0 row4\" >publication_date</th>\n",
       "                        <td id=\"T_8ffeb_row4_col0\" class=\"data row4 col0\" >0</td>\n",
       "                        <td id=\"T_8ffeb_row4_col1\" class=\"data row4 col1\" >0.00%</td>\n",
       "                        <td id=\"T_8ffeb_row4_col2\" class=\"data row4 col2\" >5</td>\n",
       "            </tr>\n",
       "            <tr>\n",
       "                        <th id=\"T_8ffeb_level0_row5\" class=\"row_heading level0 row5\" >publisher_id</th>\n",
       "                        <td id=\"T_8ffeb_row5_col0\" class=\"data row5 col0\" >0</td>\n",
       "                        <td id=\"T_8ffeb_row5_col1\" class=\"data row5 col1\" >0.00%</td>\n",
       "                        <td id=\"T_8ffeb_row5_col2\" class=\"data row5 col2\" >5</td>\n",
       "            </tr>\n",
       "    </tbody></table>"
      ],
      "text/plain": [
       "<pandas.io.formats.style.Styler at 0x7fdafc689640>"
      ]
     },
     "metadata": {},
     "output_type": "display_data"
    },
    {
     "name": "stdout",
     "output_type": "stream",
     "text": [
      "\n",
      "\u001b[1m === Явные дубликаты === \u001b[0m\n",
      "\n",
      "Количество явных дубликатов: 0\n"
     ]
    }
   ],
   "source": [
    "data_look(books)"
   ]
  },
  {
   "cell_type": "markdown",
   "id": "f7ba5109",
   "metadata": {},
   "source": [
    "В таблице `books` (содержит данные о книгах) 6 столбцов:\n",
    "\n",
    "* `book_id` - идентификатор книги;\n",
    "* `author_id` - идентификатор автора;\n",
    "* `title` - название книги;\n",
    "* `num_pages` - количество страниц;\n",
    "* `publication_date` - дата публикации книги;\n",
    "* `publisher_id` - идентификатор издателя.\n",
    "\n",
    "Всего в таблице 1000 строк. Пропущенных значений и дубликатов нет."
   ]
  },
  {
   "cell_type": "markdown",
   "id": "1a3b8fff",
   "metadata": {},
   "source": [
    "### Обзор данных `authors`"
   ]
  },
  {
   "cell_type": "code",
   "execution_count": 9,
   "id": "cd3381a7",
   "metadata": {},
   "outputs": [],
   "source": [
    "# выполним запрос к базе данных и сохраним необходимую таблицу в переменную `authors`\n",
    "\n",
    "query_authors = '''\n",
    "            SELECT *\n",
    "            FROM authors\n",
    "                '''\n",
    "authors = select(query_authors)"
   ]
  },
  {
   "cell_type": "code",
   "execution_count": 10,
   "id": "20dbe94d",
   "metadata": {
    "scrolled": false
   },
   "outputs": [
    {
     "name": "stdout",
     "output_type": "stream",
     "text": [
      "\n",
      "\u001b[1m === Информация по датасету === \u001b[0m\n",
      "\n",
      "<class 'pandas.core.frame.DataFrame'>\n",
      "RangeIndex: 636 entries, 0 to 635\n",
      "Data columns (total 2 columns):\n",
      " #   Column     Non-Null Count  Dtype \n",
      "---  ------     --------------  ----- \n",
      " 0   author_id  636 non-null    int64 \n",
      " 1   author     636 non-null    object\n",
      "dtypes: int64(1), object(1)\n",
      "memory usage: 10.1+ KB\n",
      "\n",
      "\u001b[1m === Первые 5 строк данных === \u001b[0m\n"
     ]
    },
    {
     "data": {
      "text/html": [
       "<div>\n",
       "<style scoped>\n",
       "    .dataframe tbody tr th:only-of-type {\n",
       "        vertical-align: middle;\n",
       "    }\n",
       "\n",
       "    .dataframe tbody tr th {\n",
       "        vertical-align: top;\n",
       "    }\n",
       "\n",
       "    .dataframe thead th {\n",
       "        text-align: right;\n",
       "    }\n",
       "</style>\n",
       "<table border=\"1\" class=\"dataframe\">\n",
       "  <thead>\n",
       "    <tr style=\"text-align: right;\">\n",
       "      <th></th>\n",
       "      <th>author_id</th>\n",
       "      <th>author</th>\n",
       "    </tr>\n",
       "  </thead>\n",
       "  <tbody>\n",
       "    <tr>\n",
       "      <th>0</th>\n",
       "      <td>1</td>\n",
       "      <td>A.S. Byatt</td>\n",
       "    </tr>\n",
       "    <tr>\n",
       "      <th>1</th>\n",
       "      <td>2</td>\n",
       "      <td>Aesop/Laura Harris/Laura Gibbs</td>\n",
       "    </tr>\n",
       "    <tr>\n",
       "      <th>2</th>\n",
       "      <td>3</td>\n",
       "      <td>Agatha Christie</td>\n",
       "    </tr>\n",
       "    <tr>\n",
       "      <th>3</th>\n",
       "      <td>4</td>\n",
       "      <td>Alan Brennert</td>\n",
       "    </tr>\n",
       "    <tr>\n",
       "      <th>4</th>\n",
       "      <td>5</td>\n",
       "      <td>Alan Moore/David   Lloyd</td>\n",
       "    </tr>\n",
       "  </tbody>\n",
       "</table>\n",
       "</div>"
      ],
      "text/plain": [
       "   author_id                          author\n",
       "0          1                      A.S. Byatt\n",
       "1          2  Aesop/Laura Harris/Laura Gibbs\n",
       "2          3                 Agatha Christie\n",
       "3          4                   Alan Brennert\n",
       "4          5        Alan Moore/David   Lloyd"
      ]
     },
     "metadata": {},
     "output_type": "display_data"
    },
    {
     "name": "stdout",
     "output_type": "stream",
     "text": [
      "\n",
      "\u001b[1m === Случайные 5 строк данных === \u001b[0m\n"
     ]
    },
    {
     "data": {
      "text/html": [
       "<div>\n",
       "<style scoped>\n",
       "    .dataframe tbody tr th:only-of-type {\n",
       "        vertical-align: middle;\n",
       "    }\n",
       "\n",
       "    .dataframe tbody tr th {\n",
       "        vertical-align: top;\n",
       "    }\n",
       "\n",
       "    .dataframe thead th {\n",
       "        text-align: right;\n",
       "    }\n",
       "</style>\n",
       "<table border=\"1\" class=\"dataframe\">\n",
       "  <thead>\n",
       "    <tr style=\"text-align: right;\">\n",
       "      <th></th>\n",
       "      <th>author_id</th>\n",
       "      <th>author</th>\n",
       "    </tr>\n",
       "  </thead>\n",
       "  <tbody>\n",
       "    <tr>\n",
       "      <th>27</th>\n",
       "      <td>28</td>\n",
       "      <td>Anna Sewell</td>\n",
       "    </tr>\n",
       "    <tr>\n",
       "      <th>475</th>\n",
       "      <td>476</td>\n",
       "      <td>Peter Straub</td>\n",
       "    </tr>\n",
       "    <tr>\n",
       "      <th>309</th>\n",
       "      <td>310</td>\n",
       "      <td>John Sandford</td>\n",
       "    </tr>\n",
       "    <tr>\n",
       "      <th>238</th>\n",
       "      <td>239</td>\n",
       "      <td>J.R. Ward</td>\n",
       "    </tr>\n",
       "    <tr>\n",
       "      <th>571</th>\n",
       "      <td>572</td>\n",
       "      <td>Tess Gerritsen</td>\n",
       "    </tr>\n",
       "  </tbody>\n",
       "</table>\n",
       "</div>"
      ],
      "text/plain": [
       "     author_id          author\n",
       "27          28     Anna Sewell\n",
       "475        476    Peter Straub\n",
       "309        310   John Sandford\n",
       "238        239       J.R. Ward\n",
       "571        572  Tess Gerritsen"
      ]
     },
     "metadata": {},
     "output_type": "display_data"
    },
    {
     "name": "stdout",
     "output_type": "stream",
     "text": [
      "\n",
      "\u001b[1m === Пропуски и уникальные значения по столбцам === \u001b[0m\n"
     ]
    },
    {
     "data": {
      "text/html": [
       "<style  type=\"text/css\" >\n",
       "</style><table id=\"T_d9816_\" ><thead>    <tr>        <th class=\"blank level0\" ></th>        <th class=\"col_heading level0 col0\" >nan_count</th>        <th class=\"col_heading level0 col1\" >nan_percent</th>        <th class=\"col_heading level0 col2\" >unique_values</th>    </tr></thead><tbody>\n",
       "                <tr>\n",
       "                        <th id=\"T_d9816_level0_row0\" class=\"row_heading level0 row0\" >author_id</th>\n",
       "                        <td id=\"T_d9816_row0_col0\" class=\"data row0 col0\" >0</td>\n",
       "                        <td id=\"T_d9816_row0_col1\" class=\"data row0 col1\" >0.00%</td>\n",
       "                        <td id=\"T_d9816_row0_col2\" class=\"data row0 col2\" >636</td>\n",
       "            </tr>\n",
       "            <tr>\n",
       "                        <th id=\"T_d9816_level0_row1\" class=\"row_heading level0 row1\" >author</th>\n",
       "                        <td id=\"T_d9816_row1_col0\" class=\"data row1 col0\" >0</td>\n",
       "                        <td id=\"T_d9816_row1_col1\" class=\"data row1 col1\" >0.00%</td>\n",
       "                        <td id=\"T_d9816_row1_col2\" class=\"data row1 col2\" >636</td>\n",
       "            </tr>\n",
       "    </tbody></table>"
      ],
      "text/plain": [
       "<pandas.io.formats.style.Styler at 0x7fdae41ecf70>"
      ]
     },
     "metadata": {},
     "output_type": "display_data"
    },
    {
     "name": "stdout",
     "output_type": "stream",
     "text": [
      "\n",
      "\u001b[1m === Явные дубликаты === \u001b[0m\n",
      "\n",
      "Количество явных дубликатов: 0\n"
     ]
    }
   ],
   "source": [
    "data_look(authors)"
   ]
  },
  {
   "cell_type": "markdown",
   "id": "8c8595c7",
   "metadata": {},
   "source": [
    "В таблице `authors` (содержит данные об авторах) 2 столбца:\n",
    "\n",
    "* `author_id` - идентификатор автора;\n",
    "* `author` - имя автора.\n",
    "\n",
    "Всего в таблице 636 строк. Пропущенных значений и дубликатов нет."
   ]
  },
  {
   "cell_type": "markdown",
   "id": "bf07d23c",
   "metadata": {},
   "source": [
    "### Обзор данных `publishers`"
   ]
  },
  {
   "cell_type": "code",
   "execution_count": 11,
   "id": "66cb8386",
   "metadata": {},
   "outputs": [],
   "source": [
    "# выполним запрос к базе данных и сохраним необходимую таблицу в переменную `publishers`\n",
    "\n",
    "query_publishers = '''\n",
    "               SELECT *\n",
    "               FROM publishers\n",
    "                   '''\n",
    "publishers = select(query_publishers)"
   ]
  },
  {
   "cell_type": "code",
   "execution_count": 12,
   "id": "2a7fcc30",
   "metadata": {
    "scrolled": false
   },
   "outputs": [
    {
     "name": "stdout",
     "output_type": "stream",
     "text": [
      "\n",
      "\u001b[1m === Информация по датасету === \u001b[0m\n",
      "\n",
      "<class 'pandas.core.frame.DataFrame'>\n",
      "RangeIndex: 340 entries, 0 to 339\n",
      "Data columns (total 2 columns):\n",
      " #   Column        Non-Null Count  Dtype \n",
      "---  ------        --------------  ----- \n",
      " 0   publisher_id  340 non-null    int64 \n",
      " 1   publisher     340 non-null    object\n",
      "dtypes: int64(1), object(1)\n",
      "memory usage: 5.4+ KB\n",
      "\n",
      "\u001b[1m === Первые 5 строк данных === \u001b[0m\n"
     ]
    },
    {
     "data": {
      "text/html": [
       "<div>\n",
       "<style scoped>\n",
       "    .dataframe tbody tr th:only-of-type {\n",
       "        vertical-align: middle;\n",
       "    }\n",
       "\n",
       "    .dataframe tbody tr th {\n",
       "        vertical-align: top;\n",
       "    }\n",
       "\n",
       "    .dataframe thead th {\n",
       "        text-align: right;\n",
       "    }\n",
       "</style>\n",
       "<table border=\"1\" class=\"dataframe\">\n",
       "  <thead>\n",
       "    <tr style=\"text-align: right;\">\n",
       "      <th></th>\n",
       "      <th>publisher_id</th>\n",
       "      <th>publisher</th>\n",
       "    </tr>\n",
       "  </thead>\n",
       "  <tbody>\n",
       "    <tr>\n",
       "      <th>0</th>\n",
       "      <td>1</td>\n",
       "      <td>Ace</td>\n",
       "    </tr>\n",
       "    <tr>\n",
       "      <th>1</th>\n",
       "      <td>2</td>\n",
       "      <td>Ace Book</td>\n",
       "    </tr>\n",
       "    <tr>\n",
       "      <th>2</th>\n",
       "      <td>3</td>\n",
       "      <td>Ace Books</td>\n",
       "    </tr>\n",
       "    <tr>\n",
       "      <th>3</th>\n",
       "      <td>4</td>\n",
       "      <td>Ace Hardcover</td>\n",
       "    </tr>\n",
       "    <tr>\n",
       "      <th>4</th>\n",
       "      <td>5</td>\n",
       "      <td>Addison Wesley Publishing Company</td>\n",
       "    </tr>\n",
       "  </tbody>\n",
       "</table>\n",
       "</div>"
      ],
      "text/plain": [
       "   publisher_id                          publisher\n",
       "0             1                                Ace\n",
       "1             2                           Ace Book\n",
       "2             3                          Ace Books\n",
       "3             4                      Ace Hardcover\n",
       "4             5  Addison Wesley Publishing Company"
      ]
     },
     "metadata": {},
     "output_type": "display_data"
    },
    {
     "name": "stdout",
     "output_type": "stream",
     "text": [
      "\n",
      "\u001b[1m === Случайные 5 строк данных === \u001b[0m\n"
     ]
    },
    {
     "data": {
      "text/html": [
       "<div>\n",
       "<style scoped>\n",
       "    .dataframe tbody tr th:only-of-type {\n",
       "        vertical-align: middle;\n",
       "    }\n",
       "\n",
       "    .dataframe tbody tr th {\n",
       "        vertical-align: top;\n",
       "    }\n",
       "\n",
       "    .dataframe thead th {\n",
       "        text-align: right;\n",
       "    }\n",
       "</style>\n",
       "<table border=\"1\" class=\"dataframe\">\n",
       "  <thead>\n",
       "    <tr style=\"text-align: right;\">\n",
       "      <th></th>\n",
       "      <th>publisher_id</th>\n",
       "      <th>publisher</th>\n",
       "    </tr>\n",
       "  </thead>\n",
       "  <tbody>\n",
       "    <tr>\n",
       "      <th>322</th>\n",
       "      <td>323</td>\n",
       "      <td>W.W. Norton &amp; Company (NYC)</td>\n",
       "    </tr>\n",
       "    <tr>\n",
       "      <th>227</th>\n",
       "      <td>228</td>\n",
       "      <td>Pocket</td>\n",
       "    </tr>\n",
       "    <tr>\n",
       "      <th>323</th>\n",
       "      <td>324</td>\n",
       "      <td>Walker Books</td>\n",
       "    </tr>\n",
       "    <tr>\n",
       "      <th>113</th>\n",
       "      <td>114</td>\n",
       "      <td>Gollancz</td>\n",
       "    </tr>\n",
       "    <tr>\n",
       "      <th>80</th>\n",
       "      <td>81</td>\n",
       "      <td>Dell Laurel-Leaf</td>\n",
       "    </tr>\n",
       "  </tbody>\n",
       "</table>\n",
       "</div>"
      ],
      "text/plain": [
       "     publisher_id                    publisher\n",
       "322           323  W.W. Norton & Company (NYC)\n",
       "227           228                       Pocket\n",
       "323           324                 Walker Books\n",
       "113           114                     Gollancz\n",
       "80             81             Dell Laurel-Leaf"
      ]
     },
     "metadata": {},
     "output_type": "display_data"
    },
    {
     "name": "stdout",
     "output_type": "stream",
     "text": [
      "\n",
      "\u001b[1m === Пропуски и уникальные значения по столбцам === \u001b[0m\n"
     ]
    },
    {
     "data": {
      "text/html": [
       "<style  type=\"text/css\" >\n",
       "</style><table id=\"T_68fa1_\" ><thead>    <tr>        <th class=\"blank level0\" ></th>        <th class=\"col_heading level0 col0\" >nan_count</th>        <th class=\"col_heading level0 col1\" >nan_percent</th>        <th class=\"col_heading level0 col2\" >unique_values</th>    </tr></thead><tbody>\n",
       "                <tr>\n",
       "                        <th id=\"T_68fa1_level0_row0\" class=\"row_heading level0 row0\" >publisher_id</th>\n",
       "                        <td id=\"T_68fa1_row0_col0\" class=\"data row0 col0\" >0</td>\n",
       "                        <td id=\"T_68fa1_row0_col1\" class=\"data row0 col1\" >0.00%</td>\n",
       "                        <td id=\"T_68fa1_row0_col2\" class=\"data row0 col2\" >340</td>\n",
       "            </tr>\n",
       "            <tr>\n",
       "                        <th id=\"T_68fa1_level0_row1\" class=\"row_heading level0 row1\" >publisher</th>\n",
       "                        <td id=\"T_68fa1_row1_col0\" class=\"data row1 col0\" >0</td>\n",
       "                        <td id=\"T_68fa1_row1_col1\" class=\"data row1 col1\" >0.00%</td>\n",
       "                        <td id=\"T_68fa1_row1_col2\" class=\"data row1 col2\" >340</td>\n",
       "            </tr>\n",
       "    </tbody></table>"
      ],
      "text/plain": [
       "<pandas.io.formats.style.Styler at 0x7fda945d5ac0>"
      ]
     },
     "metadata": {},
     "output_type": "display_data"
    },
    {
     "name": "stdout",
     "output_type": "stream",
     "text": [
      "\n",
      "\u001b[1m === Явные дубликаты === \u001b[0m\n",
      "\n",
      "Количество явных дубликатов: 0\n"
     ]
    }
   ],
   "source": [
    "data_look(publishers)"
   ]
  },
  {
   "cell_type": "markdown",
   "id": "14521323",
   "metadata": {},
   "source": [
    "В таблице `publishers` (содержит данные об издательствах) 2 столбца:\n",
    "\n",
    "* `publisher_id` - идентификатор издательства;\n",
    "* `publisher` - название издательства.\n",
    "\n",
    "Всего в таблице 340 строк. Пропущенных значений и дубликатов нет."
   ]
  },
  {
   "cell_type": "markdown",
   "id": "c3743bf6",
   "metadata": {},
   "source": [
    "### Обзор данных `ratings`"
   ]
  },
  {
   "cell_type": "code",
   "execution_count": 13,
   "id": "1efaf083",
   "metadata": {},
   "outputs": [],
   "source": [
    "# выполним запрос к базе данных и сохраним необходимую таблицу в переменную `ratings`\n",
    "\n",
    "query_ratings = '''\n",
    "            SELECT *\n",
    "            FROM ratings\n",
    "                '''\n",
    "ratings = select(query_ratings)"
   ]
  },
  {
   "cell_type": "code",
   "execution_count": 14,
   "id": "68e31d04",
   "metadata": {
    "scrolled": false
   },
   "outputs": [
    {
     "name": "stdout",
     "output_type": "stream",
     "text": [
      "\n",
      "\u001b[1m === Информация по датасету === \u001b[0m\n",
      "\n",
      "<class 'pandas.core.frame.DataFrame'>\n",
      "RangeIndex: 6456 entries, 0 to 6455\n",
      "Data columns (total 4 columns):\n",
      " #   Column     Non-Null Count  Dtype \n",
      "---  ------     --------------  ----- \n",
      " 0   rating_id  6456 non-null   int64 \n",
      " 1   book_id    6456 non-null   int64 \n",
      " 2   username   6456 non-null   object\n",
      " 3   rating     6456 non-null   int64 \n",
      "dtypes: int64(3), object(1)\n",
      "memory usage: 201.9+ KB\n",
      "\n",
      "\u001b[1m === Первые 5 строк данных === \u001b[0m\n"
     ]
    },
    {
     "data": {
      "text/html": [
       "<div>\n",
       "<style scoped>\n",
       "    .dataframe tbody tr th:only-of-type {\n",
       "        vertical-align: middle;\n",
       "    }\n",
       "\n",
       "    .dataframe tbody tr th {\n",
       "        vertical-align: top;\n",
       "    }\n",
       "\n",
       "    .dataframe thead th {\n",
       "        text-align: right;\n",
       "    }\n",
       "</style>\n",
       "<table border=\"1\" class=\"dataframe\">\n",
       "  <thead>\n",
       "    <tr style=\"text-align: right;\">\n",
       "      <th></th>\n",
       "      <th>rating_id</th>\n",
       "      <th>book_id</th>\n",
       "      <th>username</th>\n",
       "      <th>rating</th>\n",
       "    </tr>\n",
       "  </thead>\n",
       "  <tbody>\n",
       "    <tr>\n",
       "      <th>0</th>\n",
       "      <td>1</td>\n",
       "      <td>1</td>\n",
       "      <td>ryanfranco</td>\n",
       "      <td>4</td>\n",
       "    </tr>\n",
       "    <tr>\n",
       "      <th>1</th>\n",
       "      <td>2</td>\n",
       "      <td>1</td>\n",
       "      <td>grantpatricia</td>\n",
       "      <td>2</td>\n",
       "    </tr>\n",
       "    <tr>\n",
       "      <th>2</th>\n",
       "      <td>3</td>\n",
       "      <td>1</td>\n",
       "      <td>brandtandrea</td>\n",
       "      <td>5</td>\n",
       "    </tr>\n",
       "    <tr>\n",
       "      <th>3</th>\n",
       "      <td>4</td>\n",
       "      <td>2</td>\n",
       "      <td>lorichen</td>\n",
       "      <td>3</td>\n",
       "    </tr>\n",
       "    <tr>\n",
       "      <th>4</th>\n",
       "      <td>5</td>\n",
       "      <td>2</td>\n",
       "      <td>mariokeller</td>\n",
       "      <td>2</td>\n",
       "    </tr>\n",
       "  </tbody>\n",
       "</table>\n",
       "</div>"
      ],
      "text/plain": [
       "   rating_id  book_id       username  rating\n",
       "0          1        1     ryanfranco       4\n",
       "1          2        1  grantpatricia       2\n",
       "2          3        1   brandtandrea       5\n",
       "3          4        2       lorichen       3\n",
       "4          5        2    mariokeller       2"
      ]
     },
     "metadata": {},
     "output_type": "display_data"
    },
    {
     "name": "stdout",
     "output_type": "stream",
     "text": [
      "\n",
      "\u001b[1m === Случайные 5 строк данных === \u001b[0m\n"
     ]
    },
    {
     "data": {
      "text/html": [
       "<div>\n",
       "<style scoped>\n",
       "    .dataframe tbody tr th:only-of-type {\n",
       "        vertical-align: middle;\n",
       "    }\n",
       "\n",
       "    .dataframe tbody tr th {\n",
       "        vertical-align: top;\n",
       "    }\n",
       "\n",
       "    .dataframe thead th {\n",
       "        text-align: right;\n",
       "    }\n",
       "</style>\n",
       "<table border=\"1\" class=\"dataframe\">\n",
       "  <thead>\n",
       "    <tr style=\"text-align: right;\">\n",
       "      <th></th>\n",
       "      <th>rating_id</th>\n",
       "      <th>book_id</th>\n",
       "      <th>username</th>\n",
       "      <th>rating</th>\n",
       "    </tr>\n",
       "  </thead>\n",
       "  <tbody>\n",
       "    <tr>\n",
       "      <th>1901</th>\n",
       "      <td>1902</td>\n",
       "      <td>302</td>\n",
       "      <td>jennifermiller</td>\n",
       "      <td>3</td>\n",
       "    </tr>\n",
       "    <tr>\n",
       "      <th>330</th>\n",
       "      <td>331</td>\n",
       "      <td>67</td>\n",
       "      <td>abigailmoore</td>\n",
       "      <td>4</td>\n",
       "    </tr>\n",
       "    <tr>\n",
       "      <th>3559</th>\n",
       "      <td>3560</td>\n",
       "      <td>577</td>\n",
       "      <td>stacyfrost</td>\n",
       "      <td>4</td>\n",
       "    </tr>\n",
       "    <tr>\n",
       "      <th>3601</th>\n",
       "      <td>3602</td>\n",
       "      <td>583</td>\n",
       "      <td>ashleyjoshua</td>\n",
       "      <td>5</td>\n",
       "    </tr>\n",
       "    <tr>\n",
       "      <th>5044</th>\n",
       "      <td>5045</td>\n",
       "      <td>779</td>\n",
       "      <td>johnsonamanda</td>\n",
       "      <td>5</td>\n",
       "    </tr>\n",
       "  </tbody>\n",
       "</table>\n",
       "</div>"
      ],
      "text/plain": [
       "      rating_id  book_id        username  rating\n",
       "1901       1902      302  jennifermiller       3\n",
       "330         331       67    abigailmoore       4\n",
       "3559       3560      577      stacyfrost       4\n",
       "3601       3602      583    ashleyjoshua       5\n",
       "5044       5045      779   johnsonamanda       5"
      ]
     },
     "metadata": {},
     "output_type": "display_data"
    },
    {
     "name": "stdout",
     "output_type": "stream",
     "text": [
      "\n",
      "\u001b[1m === Пропуски и уникальные значения по столбцам === \u001b[0m\n"
     ]
    },
    {
     "data": {
      "text/html": [
       "<style  type=\"text/css\" >\n",
       "</style><table id=\"T_e5ee7_\" ><thead>    <tr>        <th class=\"blank level0\" ></th>        <th class=\"col_heading level0 col0\" >nan_count</th>        <th class=\"col_heading level0 col1\" >nan_percent</th>        <th class=\"col_heading level0 col2\" >unique_values</th>    </tr></thead><tbody>\n",
       "                <tr>\n",
       "                        <th id=\"T_e5ee7_level0_row0\" class=\"row_heading level0 row0\" >rating_id</th>\n",
       "                        <td id=\"T_e5ee7_row0_col0\" class=\"data row0 col0\" >0</td>\n",
       "                        <td id=\"T_e5ee7_row0_col1\" class=\"data row0 col1\" >0.00%</td>\n",
       "                        <td id=\"T_e5ee7_row0_col2\" class=\"data row0 col2\" >6456</td>\n",
       "            </tr>\n",
       "            <tr>\n",
       "                        <th id=\"T_e5ee7_level0_row1\" class=\"row_heading level0 row1\" >book_id</th>\n",
       "                        <td id=\"T_e5ee7_row1_col0\" class=\"data row1 col0\" >0</td>\n",
       "                        <td id=\"T_e5ee7_row1_col1\" class=\"data row1 col1\" >0.00%</td>\n",
       "                        <td id=\"T_e5ee7_row1_col2\" class=\"data row1 col2\" >1000</td>\n",
       "            </tr>\n",
       "            <tr>\n",
       "                        <th id=\"T_e5ee7_level0_row2\" class=\"row_heading level0 row2\" >username</th>\n",
       "                        <td id=\"T_e5ee7_row2_col0\" class=\"data row2 col0\" >0</td>\n",
       "                        <td id=\"T_e5ee7_row2_col1\" class=\"data row2 col1\" >0.00%</td>\n",
       "                        <td id=\"T_e5ee7_row2_col2\" class=\"data row2 col2\" >160</td>\n",
       "            </tr>\n",
       "            <tr>\n",
       "                        <th id=\"T_e5ee7_level0_row3\" class=\"row_heading level0 row3\" >rating</th>\n",
       "                        <td id=\"T_e5ee7_row3_col0\" class=\"data row3 col0\" >0</td>\n",
       "                        <td id=\"T_e5ee7_row3_col1\" class=\"data row3 col1\" >0.00%</td>\n",
       "                        <td id=\"T_e5ee7_row3_col2\" class=\"data row3 col2\" >5</td>\n",
       "            </tr>\n",
       "    </tbody></table>"
      ],
      "text/plain": [
       "<pandas.io.formats.style.Styler at 0x7fda945d5ac0>"
      ]
     },
     "metadata": {},
     "output_type": "display_data"
    },
    {
     "name": "stdout",
     "output_type": "stream",
     "text": [
      "\n",
      "\u001b[1m === Явные дубликаты === \u001b[0m\n",
      "\n",
      "Количество явных дубликатов: 0\n"
     ]
    }
   ],
   "source": [
    "data_look(ratings)"
   ]
  },
  {
   "cell_type": "markdown",
   "id": "1b7cb54f",
   "metadata": {},
   "source": [
    "В таблице `ratings` (содержит данные о пользовательских оценках книг) 4 столбца:\n",
    "\n",
    "* `rating_id` - идентификатор оценки;\n",
    "* `book_id` - идентификатор книги;\n",
    "* `username` - имя пользователя, оставившего оценку;\n",
    "* `rating` - оценка книги.\n",
    "\n",
    "Всего в таблице 6456 строк. Пропущенных значений и дубликатов нет."
   ]
  },
  {
   "cell_type": "markdown",
   "id": "f0248232",
   "metadata": {},
   "source": [
    "### Обзор данных `reviews`"
   ]
  },
  {
   "cell_type": "code",
   "execution_count": 15,
   "id": "8fe14133",
   "metadata": {},
   "outputs": [],
   "source": [
    "# выполним запрос к базе данных и сохраним необходимую таблицу в переменную `reviews`\n",
    "\n",
    "query_reviews = '''\n",
    "            SELECT *\n",
    "            FROM reviews\n",
    "                '''\n",
    "reviews = select(query_reviews)"
   ]
  },
  {
   "cell_type": "code",
   "execution_count": 16,
   "id": "065a51ec",
   "metadata": {
    "scrolled": false
   },
   "outputs": [
    {
     "name": "stdout",
     "output_type": "stream",
     "text": [
      "\n",
      "\u001b[1m === Информация по датасету === \u001b[0m\n",
      "\n",
      "<class 'pandas.core.frame.DataFrame'>\n",
      "RangeIndex: 2793 entries, 0 to 2792\n",
      "Data columns (total 4 columns):\n",
      " #   Column     Non-Null Count  Dtype \n",
      "---  ------     --------------  ----- \n",
      " 0   review_id  2793 non-null   int64 \n",
      " 1   book_id    2793 non-null   int64 \n",
      " 2   username   2793 non-null   object\n",
      " 3   text       2793 non-null   object\n",
      "dtypes: int64(2), object(2)\n",
      "memory usage: 87.4+ KB\n",
      "\n",
      "\u001b[1m === Первые 5 строк данных === \u001b[0m\n"
     ]
    },
    {
     "data": {
      "text/html": [
       "<div>\n",
       "<style scoped>\n",
       "    .dataframe tbody tr th:only-of-type {\n",
       "        vertical-align: middle;\n",
       "    }\n",
       "\n",
       "    .dataframe tbody tr th {\n",
       "        vertical-align: top;\n",
       "    }\n",
       "\n",
       "    .dataframe thead th {\n",
       "        text-align: right;\n",
       "    }\n",
       "</style>\n",
       "<table border=\"1\" class=\"dataframe\">\n",
       "  <thead>\n",
       "    <tr style=\"text-align: right;\">\n",
       "      <th></th>\n",
       "      <th>review_id</th>\n",
       "      <th>book_id</th>\n",
       "      <th>username</th>\n",
       "      <th>text</th>\n",
       "    </tr>\n",
       "  </thead>\n",
       "  <tbody>\n",
       "    <tr>\n",
       "      <th>0</th>\n",
       "      <td>1</td>\n",
       "      <td>1</td>\n",
       "      <td>brandtandrea</td>\n",
       "      <td>Mention society tell send professor analysis. ...</td>\n",
       "    </tr>\n",
       "    <tr>\n",
       "      <th>1</th>\n",
       "      <td>2</td>\n",
       "      <td>1</td>\n",
       "      <td>ryanfranco</td>\n",
       "      <td>Foot glass pretty audience hit themselves. Amo...</td>\n",
       "    </tr>\n",
       "    <tr>\n",
       "      <th>2</th>\n",
       "      <td>3</td>\n",
       "      <td>2</td>\n",
       "      <td>lorichen</td>\n",
       "      <td>Listen treat keep worry. Miss husband tax but ...</td>\n",
       "    </tr>\n",
       "    <tr>\n",
       "      <th>3</th>\n",
       "      <td>4</td>\n",
       "      <td>3</td>\n",
       "      <td>johnsonamanda</td>\n",
       "      <td>Finally month interesting blue could nature cu...</td>\n",
       "    </tr>\n",
       "    <tr>\n",
       "      <th>4</th>\n",
       "      <td>5</td>\n",
       "      <td>3</td>\n",
       "      <td>scotttamara</td>\n",
       "      <td>Nation purpose heavy give wait song will. List...</td>\n",
       "    </tr>\n",
       "  </tbody>\n",
       "</table>\n",
       "</div>"
      ],
      "text/plain": [
       "   review_id  book_id       username  \\\n",
       "0          1        1   brandtandrea   \n",
       "1          2        1     ryanfranco   \n",
       "2          3        2       lorichen   \n",
       "3          4        3  johnsonamanda   \n",
       "4          5        3    scotttamara   \n",
       "\n",
       "                                                text  \n",
       "0  Mention society tell send professor analysis. ...  \n",
       "1  Foot glass pretty audience hit themselves. Amo...  \n",
       "2  Listen treat keep worry. Miss husband tax but ...  \n",
       "3  Finally month interesting blue could nature cu...  \n",
       "4  Nation purpose heavy give wait song will. List...  "
      ]
     },
     "metadata": {},
     "output_type": "display_data"
    },
    {
     "name": "stdout",
     "output_type": "stream",
     "text": [
      "\n",
      "\u001b[1m === Случайные 5 строк данных === \u001b[0m\n"
     ]
    },
    {
     "data": {
      "text/html": [
       "<div>\n",
       "<style scoped>\n",
       "    .dataframe tbody tr th:only-of-type {\n",
       "        vertical-align: middle;\n",
       "    }\n",
       "\n",
       "    .dataframe tbody tr th {\n",
       "        vertical-align: top;\n",
       "    }\n",
       "\n",
       "    .dataframe thead th {\n",
       "        text-align: right;\n",
       "    }\n",
       "</style>\n",
       "<table border=\"1\" class=\"dataframe\">\n",
       "  <thead>\n",
       "    <tr style=\"text-align: right;\">\n",
       "      <th></th>\n",
       "      <th>review_id</th>\n",
       "      <th>book_id</th>\n",
       "      <th>username</th>\n",
       "      <th>text</th>\n",
       "    </tr>\n",
       "  </thead>\n",
       "  <tbody>\n",
       "    <tr>\n",
       "      <th>311</th>\n",
       "      <td>310</td>\n",
       "      <td>108</td>\n",
       "      <td>emcdaniel</td>\n",
       "      <td>Although here season weight writer activity. S...</td>\n",
       "    </tr>\n",
       "    <tr>\n",
       "      <th>1936</th>\n",
       "      <td>1934</td>\n",
       "      <td>698</td>\n",
       "      <td>martinyvonne</td>\n",
       "      <td>Recently director affect identify various sing...</td>\n",
       "    </tr>\n",
       "    <tr>\n",
       "      <th>1493</th>\n",
       "      <td>1492</td>\n",
       "      <td>542</td>\n",
       "      <td>bobbyhood</td>\n",
       "      <td>Early culture control cut strategy manager wee...</td>\n",
       "    </tr>\n",
       "    <tr>\n",
       "      <th>862</th>\n",
       "      <td>863</td>\n",
       "      <td>317</td>\n",
       "      <td>martinadam</td>\n",
       "      <td>Month set where several. Game adult language o...</td>\n",
       "    </tr>\n",
       "    <tr>\n",
       "      <th>774</th>\n",
       "      <td>773</td>\n",
       "      <td>286</td>\n",
       "      <td>taylorjeffrey</td>\n",
       "      <td>Environment finally seek return water. All sou...</td>\n",
       "    </tr>\n",
       "  </tbody>\n",
       "</table>\n",
       "</div>"
      ],
      "text/plain": [
       "      review_id  book_id       username  \\\n",
       "311         310      108      emcdaniel   \n",
       "1936       1934      698   martinyvonne   \n",
       "1493       1492      542      bobbyhood   \n",
       "862         863      317     martinadam   \n",
       "774         773      286  taylorjeffrey   \n",
       "\n",
       "                                                   text  \n",
       "311   Although here season weight writer activity. S...  \n",
       "1936  Recently director affect identify various sing...  \n",
       "1493  Early culture control cut strategy manager wee...  \n",
       "862   Month set where several. Game adult language o...  \n",
       "774   Environment finally seek return water. All sou...  "
      ]
     },
     "metadata": {},
     "output_type": "display_data"
    },
    {
     "name": "stdout",
     "output_type": "stream",
     "text": [
      "\n",
      "\u001b[1m === Пропуски и уникальные значения по столбцам === \u001b[0m\n"
     ]
    },
    {
     "data": {
      "text/html": [
       "<style  type=\"text/css\" >\n",
       "</style><table id=\"T_f114e_\" ><thead>    <tr>        <th class=\"blank level0\" ></th>        <th class=\"col_heading level0 col0\" >nan_count</th>        <th class=\"col_heading level0 col1\" >nan_percent</th>        <th class=\"col_heading level0 col2\" >unique_values</th>    </tr></thead><tbody>\n",
       "                <tr>\n",
       "                        <th id=\"T_f114e_level0_row0\" class=\"row_heading level0 row0\" >review_id</th>\n",
       "                        <td id=\"T_f114e_row0_col0\" class=\"data row0 col0\" >0</td>\n",
       "                        <td id=\"T_f114e_row0_col1\" class=\"data row0 col1\" >0.00%</td>\n",
       "                        <td id=\"T_f114e_row0_col2\" class=\"data row0 col2\" >2793</td>\n",
       "            </tr>\n",
       "            <tr>\n",
       "                        <th id=\"T_f114e_level0_row1\" class=\"row_heading level0 row1\" >book_id</th>\n",
       "                        <td id=\"T_f114e_row1_col0\" class=\"data row1 col0\" >0</td>\n",
       "                        <td id=\"T_f114e_row1_col1\" class=\"data row1 col1\" >0.00%</td>\n",
       "                        <td id=\"T_f114e_row1_col2\" class=\"data row1 col2\" >994</td>\n",
       "            </tr>\n",
       "            <tr>\n",
       "                        <th id=\"T_f114e_level0_row2\" class=\"row_heading level0 row2\" >username</th>\n",
       "                        <td id=\"T_f114e_row2_col0\" class=\"data row2 col0\" >0</td>\n",
       "                        <td id=\"T_f114e_row2_col1\" class=\"data row2 col1\" >0.00%</td>\n",
       "                        <td id=\"T_f114e_row2_col2\" class=\"data row2 col2\" >160</td>\n",
       "            </tr>\n",
       "            <tr>\n",
       "                        <th id=\"T_f114e_level0_row3\" class=\"row_heading level0 row3\" >text</th>\n",
       "                        <td id=\"T_f114e_row3_col0\" class=\"data row3 col0\" >0</td>\n",
       "                        <td id=\"T_f114e_row3_col1\" class=\"data row3 col1\" >0.00%</td>\n",
       "                        <td id=\"T_f114e_row3_col2\" class=\"data row3 col2\" >2793</td>\n",
       "            </tr>\n",
       "    </tbody></table>"
      ],
      "text/plain": [
       "<pandas.io.formats.style.Styler at 0x7fda928bc6a0>"
      ]
     },
     "metadata": {},
     "output_type": "display_data"
    },
    {
     "name": "stdout",
     "output_type": "stream",
     "text": [
      "\n",
      "\u001b[1m === Явные дубликаты === \u001b[0m\n",
      "\n",
      "Количество явных дубликатов: 0\n"
     ]
    }
   ],
   "source": [
    "data_look(reviews)"
   ]
  },
  {
   "cell_type": "markdown",
   "id": "80c87b9c",
   "metadata": {},
   "source": [
    "В таблице `reviews` (содержит данные о пользовательских обзорах на книги) 4 столбца:\n",
    "\n",
    "* `review_id` - идентификатор обзора;\n",
    "* `book_id` - идентификатор книги;\n",
    "* `username` - имя пользователя, написавшего обзор;\n",
    "* `text` - текст обзора.\n",
    "\n",
    "Всего в таблице 2793 строк. Пропущенных значений и дубликатов нет."
   ]
  },
  {
   "cell_type": "markdown",
   "id": "974ca767",
   "metadata": {},
   "source": [
    "## Задания"
   ]
  },
  {
   "cell_type": "markdown",
   "id": "2f043387",
   "metadata": {},
   "source": [
    "### Посчитать, сколько книг вышло после 1 января 2000 года"
   ]
  },
  {
   "cell_type": "code",
   "execution_count": 17,
   "id": "3bef7d01",
   "metadata": {},
   "outputs": [
    {
     "name": "stdout",
     "output_type": "stream",
     "text": [
      "C 1 января 2000 года выпущено 819 книг\n"
     ]
    }
   ],
   "source": [
    "query_1 = '''\n",
    "    SELECT COUNT(book_id)\n",
    "    FROM books\n",
    "    WHERE publication_date > '2000-01-01';\n",
    "        '''\n",
    "\n",
    "df_1 = select(query_1)\n",
    "\n",
    "print('C 1 января 2000 года выпущено {} книг'.format(df_1.loc[:, 'count'][0]))"
   ]
  },
  {
   "cell_type": "markdown",
   "id": "fbd5ca04",
   "metadata": {},
   "source": [
    "### Для каждой книги посчитать количество обзоров и среднюю оценку"
   ]
  },
  {
   "cell_type": "code",
   "execution_count": 18,
   "id": "40f76556",
   "metadata": {},
   "outputs": [
    {
     "data": {
      "text/html": [
       "<div>\n",
       "<style scoped>\n",
       "    .dataframe tbody tr th:only-of-type {\n",
       "        vertical-align: middle;\n",
       "    }\n",
       "\n",
       "    .dataframe tbody tr th {\n",
       "        vertical-align: top;\n",
       "    }\n",
       "\n",
       "    .dataframe thead th {\n",
       "        text-align: right;\n",
       "    }\n",
       "</style>\n",
       "<table border=\"1\" class=\"dataframe\">\n",
       "  <thead>\n",
       "    <tr style=\"text-align: right;\">\n",
       "      <th></th>\n",
       "      <th>title</th>\n",
       "      <th>book_id</th>\n",
       "      <th>cnt_review</th>\n",
       "      <th>avg_rating</th>\n",
       "    </tr>\n",
       "  </thead>\n",
       "  <tbody>\n",
       "    <tr>\n",
       "      <th>0</th>\n",
       "      <td>The Body in the Library (Miss Marple  #3)</td>\n",
       "      <td>652</td>\n",
       "      <td>2.0</td>\n",
       "      <td>4.50</td>\n",
       "    </tr>\n",
       "    <tr>\n",
       "      <th>1</th>\n",
       "      <td>Galápagos</td>\n",
       "      <td>273</td>\n",
       "      <td>2.0</td>\n",
       "      <td>4.50</td>\n",
       "    </tr>\n",
       "    <tr>\n",
       "      <th>2</th>\n",
       "      <td>A Tree Grows in Brooklyn</td>\n",
       "      <td>51</td>\n",
       "      <td>5.0</td>\n",
       "      <td>4.25</td>\n",
       "    </tr>\n",
       "    <tr>\n",
       "      <th>3</th>\n",
       "      <td>Undaunted Courage: The Pioneering First Missio...</td>\n",
       "      <td>951</td>\n",
       "      <td>2.0</td>\n",
       "      <td>4.00</td>\n",
       "    </tr>\n",
       "    <tr>\n",
       "      <th>4</th>\n",
       "      <td>The Prophet</td>\n",
       "      <td>839</td>\n",
       "      <td>4.0</td>\n",
       "      <td>4.29</td>\n",
       "    </tr>\n",
       "    <tr>\n",
       "      <th>...</th>\n",
       "      <td>...</td>\n",
       "      <td>...</td>\n",
       "      <td>...</td>\n",
       "      <td>...</td>\n",
       "    </tr>\n",
       "    <tr>\n",
       "      <th>995</th>\n",
       "      <td>The Cat in the Hat and Other Dr. Seuss Favorites</td>\n",
       "      <td>672</td>\n",
       "      <td>NaN</td>\n",
       "      <td>5.00</td>\n",
       "    </tr>\n",
       "    <tr>\n",
       "      <th>996</th>\n",
       "      <td>Anne Rice's The Vampire Lestat: A Graphic Novel</td>\n",
       "      <td>83</td>\n",
       "      <td>NaN</td>\n",
       "      <td>3.67</td>\n",
       "    </tr>\n",
       "    <tr>\n",
       "      <th>997</th>\n",
       "      <td>Essential Tales and Poems</td>\n",
       "      <td>221</td>\n",
       "      <td>NaN</td>\n",
       "      <td>4.00</td>\n",
       "    </tr>\n",
       "    <tr>\n",
       "      <th>998</th>\n",
       "      <td>Leonardo's Notebooks</td>\n",
       "      <td>387</td>\n",
       "      <td>NaN</td>\n",
       "      <td>4.00</td>\n",
       "    </tr>\n",
       "    <tr>\n",
       "      <th>999</th>\n",
       "      <td>The Natural Way to Draw</td>\n",
       "      <td>808</td>\n",
       "      <td>NaN</td>\n",
       "      <td>3.00</td>\n",
       "    </tr>\n",
       "  </tbody>\n",
       "</table>\n",
       "<p>1000 rows × 4 columns</p>\n",
       "</div>"
      ],
      "text/plain": [
       "                                                 title  book_id  cnt_review  \\\n",
       "0            The Body in the Library (Miss Marple  #3)      652         2.0   \n",
       "1                                            Galápagos      273         2.0   \n",
       "2                             A Tree Grows in Brooklyn       51         5.0   \n",
       "3    Undaunted Courage: The Pioneering First Missio...      951         2.0   \n",
       "4                                          The Prophet      839         4.0   \n",
       "..                                                 ...      ...         ...   \n",
       "995   The Cat in the Hat and Other Dr. Seuss Favorites      672         NaN   \n",
       "996    Anne Rice's The Vampire Lestat: A Graphic Novel       83         NaN   \n",
       "997                          Essential Tales and Poems      221         NaN   \n",
       "998                               Leonardo's Notebooks      387         NaN   \n",
       "999                            The Natural Way to Draw      808         NaN   \n",
       "\n",
       "     avg_rating  \n",
       "0          4.50  \n",
       "1          4.50  \n",
       "2          4.25  \n",
       "3          4.00  \n",
       "4          4.29  \n",
       "..          ...  \n",
       "995        5.00  \n",
       "996        3.67  \n",
       "997        4.00  \n",
       "998        4.00  \n",
       "999        3.00  \n",
       "\n",
       "[1000 rows x 4 columns]"
      ]
     },
     "execution_count": 18,
     "metadata": {},
     "output_type": "execute_result"
    }
   ],
   "source": [
    "query_2 = '''\n",
    "    WITH\n",
    "    review_count AS\n",
    "    \n",
    "    (SELECT book_id,\n",
    "            COUNT(review_id) AS cnt_review\n",
    "     FROM reviews\n",
    "     GROUP BY book_id),\n",
    "     \n",
    "    rating_agv AS\n",
    "     \n",
    "    (SELECT book_id,\n",
    "            ROUND(AVG(rating), 2) AS avg_rating\n",
    "     FROM ratings\n",
    "     GROUP BY book_id)\n",
    "      \n",
    "    SELECT b.title,\n",
    "           b.book_id,\n",
    "           rc.cnt_review,\n",
    "           ra.avg_rating\n",
    "    FROM books b\n",
    "    LEFT JOIN review_count rc ON b.book_id = rc.book_id\n",
    "    LEFT JOIN rating_agv ra ON b.book_id = ra.book_id;\n",
    "        '''\n",
    "df_2 = select(query_2)\n",
    "df_2"
   ]
  },
  {
   "cell_type": "markdown",
   "id": "431d05b8",
   "metadata": {},
   "source": [
    "### Определить издательство, которое выпустило наибольшее число книг толще 50 страниц (так мы исключите из анализа брошюры)"
   ]
  },
  {
   "cell_type": "code",
   "execution_count": 19,
   "id": "8f9e5dc1",
   "metadata": {},
   "outputs": [
    {
     "name": "stdout",
     "output_type": "stream",
     "text": [
      "Издательство Penguin Books, выпустило наибольшее число книг толще 50 страниц — 42 шт.\n"
     ]
    }
   ],
   "source": [
    "query_3 = '''\n",
    "      SELECT b.publisher_id,\n",
    "             p.publisher,\n",
    "             COUNT(b.book_id) AS cnt_book\n",
    "      FROM books b\n",
    "      LEFT JOIN publishers p ON b.publisher_id = p.publisher_id\n",
    "      WHERE b.num_pages > 50\n",
    "      GROUP BY b.publisher_id,\n",
    "               p.publisher\n",
    "      ORDER BY cnt_book DESC\n",
    "      LIMIT(1);\n",
    "           '''\n",
    "df_3 = select(query_3)\n",
    "print('Издательство {}, выпустило наибольшее число книг толще 50 страниц — {} шт.'.format(\n",
    "    df_3.loc[:, 'publisher'][0], df_3.loc[:, 'cnt_book'][0]))"
   ]
  },
  {
   "cell_type": "markdown",
   "id": "71b00688",
   "metadata": {},
   "source": [
    "### Определить автора с самой высокой средней оценкой книг - учитываются только книги с 50 и более оценками"
   ]
  },
  {
   "cell_type": "code",
   "execution_count": 20,
   "id": "c10be707",
   "metadata": {},
   "outputs": [
    {
     "name": "stdout",
     "output_type": "stream",
     "text": [
      "У автора J.K. Rowling/Mary GrandPré самая высокая средняя оценка - 4.29 среди книг с 50 и более оценками\n"
     ]
    }
   ],
   "source": [
    "query_4 = '''\n",
    "    SELECT a.author,\n",
    "           ROUND(AVG(r.rating), 2) AS avg_rating \n",
    "    FROM books b\n",
    "    LEFT JOIN authors a ON b.author_id = a.author_id\n",
    "    LEFT JOIN ratings r ON b.book_id = r.book_id \n",
    "    WHERE b.book_id IN (SELECT book_id\n",
    "                        FROM ratings\n",
    "                        GROUP BY book_id\n",
    "                        HAVING COUNT(rating) >= 50)\n",
    "    GROUP BY a.author\n",
    "    ORDER BY avg_rating DESC\n",
    "    LIMIT(1);\n",
    "             '''\n",
    "df_4 = select(query_4)\n",
    "print('У автора {} самая высокая средняя оценка - {} среди книг с 50 и более оценками'.format(\n",
    "    df_4.loc[:, 'author'][0], df_4.loc[:, 'avg_rating'][0]))"
   ]
  },
  {
   "cell_type": "markdown",
   "id": "f5764046",
   "metadata": {},
   "source": [
    "### Посчитать среднее количество обзоров от пользователей, которые поставили больше 50 оценок"
   ]
  },
  {
   "cell_type": "code",
   "execution_count": 21,
   "id": "009ec401",
   "metadata": {},
   "outputs": [
    {
     "name": "stdout",
     "output_type": "stream",
     "text": [
      "Cреднее количество обзоров от пользователей, которые поставили больше 50 оценок - 24.33\n"
     ]
    }
   ],
   "source": [
    "query_5 = '''\n",
    "    WITH\n",
    "    count_review AS\n",
    "    \n",
    "    (SELECT username,\n",
    "            COUNT(review_id)\n",
    "    FROM reviews\n",
    "    GROUP BY username)\n",
    "    \n",
    "    SELECT ROUND(AVG(count), 2)\n",
    "    FROM count_review\n",
    "    WHERE username IN (SELECT username\n",
    "                       FROM ratings\n",
    "                       GROUP BY username\n",
    "                       HAVING COUNT(rating) > 50);\n",
    "    '''\n",
    "df_5 = select(query_5)\n",
    "print('Cреднее количество обзоров от пользователей, которые поставили больше 50 оценок - {}'.format(df_5.loc[:, 'round'][0]))"
   ]
  },
  {
   "cell_type": "markdown",
   "id": "07387964",
   "metadata": {},
   "source": [
    "## Вывод\n",
    "\n",
    "1. C 1 января 2000 года выпущено 819 книг;\n",
    "2. Издательство Penguin Books, выпустило наибольшее число книг толще 50 страниц — 42 шт.;\n",
    "3. У автора J.K. Rowling/Mary GrandPré самая высокая средняя оценка - 4.28 среди книг с 50 и более оценками;\n",
    "4. Cреднее количество обзоров от пользователей, которые поставили больше 50 оценок - 24.33."
   ]
  }
 ],
 "metadata": {
  "ExecuteTimeLog": [
   {
    "duration": 58,
    "start_time": "2022-08-12T12:38:31.644Z"
   },
   {
    "duration": 468,
    "start_time": "2022-08-12T12:38:36.748Z"
   },
   {
    "duration": 6320,
    "start_time": "2022-08-12T12:38:37.746Z"
   },
   {
    "duration": 289,
    "start_time": "2022-08-12T12:40:05.691Z"
   },
   {
    "duration": 435,
    "start_time": "2022-08-12T12:52:52.099Z"
   },
   {
    "duration": 5741,
    "start_time": "2022-08-12T12:52:52.536Z"
   },
   {
    "duration": 5,
    "start_time": "2022-08-12T12:52:58.278Z"
   },
   {
    "duration": 303,
    "start_time": "2022-08-12T12:52:58.285Z"
   },
   {
    "duration": 412,
    "start_time": "2022-08-12T12:52:58.589Z"
   },
   {
    "duration": 460,
    "start_time": "2022-08-12T12:55:41.682Z"
   },
   {
    "duration": 6782,
    "start_time": "2022-08-12T12:55:42.144Z"
   },
   {
    "duration": 8,
    "start_time": "2022-08-12T12:55:48.929Z"
   },
   {
    "duration": 297,
    "start_time": "2022-08-12T12:55:48.939Z"
   },
   {
    "duration": 346,
    "start_time": "2022-08-12T12:55:49.238Z"
   },
   {
    "duration": 73,
    "start_time": "2022-08-12T12:55:49.586Z"
   },
   {
    "duration": 32,
    "start_time": "2022-08-12T12:55:49.661Z"
   },
   {
    "duration": 79,
    "start_time": "2022-08-12T12:55:49.695Z"
   },
   {
    "duration": 27,
    "start_time": "2022-08-12T12:55:49.777Z"
   },
   {
    "duration": 105,
    "start_time": "2022-08-12T12:55:49.806Z"
   },
   {
    "duration": 30,
    "start_time": "2022-08-12T12:55:49.913Z"
   },
   {
    "duration": 89,
    "start_time": "2022-08-12T12:55:49.944Z"
   },
   {
    "duration": 78,
    "start_time": "2022-08-12T12:55:50.034Z"
   },
   {
    "duration": 523,
    "start_time": "2022-08-12T12:56:01.736Z"
   },
   {
    "duration": 6280,
    "start_time": "2022-08-12T12:56:02.261Z"
   },
   {
    "duration": 6,
    "start_time": "2022-08-12T12:56:08.543Z"
   },
   {
    "duration": 311,
    "start_time": "2022-08-12T12:56:08.552Z"
   },
   {
    "duration": 351,
    "start_time": "2022-08-12T12:56:08.865Z"
   },
   {
    "duration": 73,
    "start_time": "2022-08-12T12:56:09.217Z"
   },
   {
    "duration": 33,
    "start_time": "2022-08-12T12:56:09.292Z"
   },
   {
    "duration": 72,
    "start_time": "2022-08-12T12:56:09.326Z"
   },
   {
    "duration": 38,
    "start_time": "2022-08-12T12:56:09.401Z"
   },
   {
    "duration": 113,
    "start_time": "2022-08-12T12:56:09.442Z"
   },
   {
    "duration": 39,
    "start_time": "2022-08-12T12:56:09.557Z"
   },
   {
    "duration": 100,
    "start_time": "2022-08-12T12:56:09.598Z"
   },
   {
    "duration": 42,
    "start_time": "2022-08-12T12:56:09.700Z"
   },
   {
    "duration": 122,
    "start_time": "2022-08-12T13:13:02.490Z"
   },
   {
    "duration": 103,
    "start_time": "2022-08-12T13:30:44.971Z"
   },
   {
    "duration": 125,
    "start_time": "2022-08-12T13:31:06.168Z"
   },
   {
    "duration": 79,
    "start_time": "2022-08-12T13:31:42.426Z"
   },
   {
    "duration": 8,
    "start_time": "2022-08-12T13:32:41.124Z"
   },
   {
    "duration": 2,
    "start_time": "2022-08-12T13:38:56.687Z"
   },
   {
    "duration": 4,
    "start_time": "2022-08-12T13:39:01.396Z"
   },
   {
    "duration": 3,
    "start_time": "2022-08-12T13:39:40.994Z"
   },
   {
    "duration": 77,
    "start_time": "2022-08-12T13:44:56.545Z"
   },
   {
    "duration": 75,
    "start_time": "2022-08-12T13:45:02.401Z"
   },
   {
    "duration": 82,
    "start_time": "2022-08-12T13:45:15.105Z"
   },
   {
    "duration": 15,
    "start_time": "2022-08-12T13:46:03.037Z"
   },
   {
    "duration": 75,
    "start_time": "2022-08-12T13:46:13.352Z"
   },
   {
    "duration": 90,
    "start_time": "2022-08-12T13:47:53.829Z"
   },
   {
    "duration": 84,
    "start_time": "2022-08-12T13:51:48.260Z"
   },
   {
    "duration": 94,
    "start_time": "2022-08-12T13:52:02.768Z"
   },
   {
    "duration": 205,
    "start_time": "2022-08-12T13:52:04.760Z"
   },
   {
    "duration": 91,
    "start_time": "2022-08-12T13:52:39.101Z"
   },
   {
    "duration": 97,
    "start_time": "2022-08-12T13:54:15.669Z"
   },
   {
    "duration": 150,
    "start_time": "2022-08-12T13:54:56.176Z"
   },
   {
    "duration": 2808,
    "start_time": "2022-08-12T13:56:09.612Z"
   },
   {
    "duration": 5,
    "start_time": "2022-08-12T14:00:02.720Z"
   },
   {
    "duration": 4,
    "start_time": "2022-08-12T14:00:15.112Z"
   },
   {
    "duration": 3,
    "start_time": "2022-08-12T14:01:22.364Z"
   },
   {
    "duration": 103,
    "start_time": "2022-08-12T14:10:15.911Z"
   },
   {
    "duration": 220,
    "start_time": "2022-08-12T14:10:43.320Z"
   },
   {
    "duration": 151,
    "start_time": "2022-08-12T14:10:55.436Z"
   },
   {
    "duration": 159,
    "start_time": "2022-08-12T14:11:04.421Z"
   },
   {
    "duration": 170,
    "start_time": "2022-08-12T14:11:39.313Z"
   },
   {
    "duration": 93,
    "start_time": "2022-08-12T14:12:22.688Z"
   },
   {
    "duration": 166,
    "start_time": "2022-08-12T14:28:17.013Z"
   },
   {
    "duration": 159,
    "start_time": "2022-08-12T14:28:27.798Z"
   },
   {
    "duration": 142,
    "start_time": "2022-08-12T14:28:36.625Z"
   },
   {
    "duration": 135,
    "start_time": "2022-08-12T14:29:44.539Z"
   },
   {
    "duration": 142,
    "start_time": "2022-08-12T16:02:53.960Z"
   },
   {
    "duration": 135,
    "start_time": "2022-08-12T16:03:10.130Z"
   },
   {
    "duration": 130,
    "start_time": "2022-08-12T16:03:20.735Z"
   },
   {
    "duration": 143,
    "start_time": "2022-08-12T16:04:59.642Z"
   },
   {
    "duration": 177,
    "start_time": "2022-08-12T16:33:32.546Z"
   },
   {
    "duration": 191,
    "start_time": "2022-08-12T16:37:26.190Z"
   },
   {
    "duration": 11,
    "start_time": "2022-08-12T16:39:47.347Z"
   },
   {
    "duration": 499,
    "start_time": "2022-08-12T16:39:47.360Z"
   },
   {
    "duration": 5779,
    "start_time": "2022-08-12T16:39:47.861Z"
   },
   {
    "duration": 6,
    "start_time": "2022-08-12T16:39:53.641Z"
   },
   {
    "duration": 279,
    "start_time": "2022-08-12T16:39:53.648Z"
   },
   {
    "duration": 267,
    "start_time": "2022-08-12T16:39:53.929Z"
   },
   {
    "duration": 81,
    "start_time": "2022-08-12T16:39:54.198Z"
   },
   {
    "duration": 26,
    "start_time": "2022-08-12T16:39:54.282Z"
   },
   {
    "duration": 73,
    "start_time": "2022-08-12T16:39:54.309Z"
   },
   {
    "duration": 24,
    "start_time": "2022-08-12T16:39:54.383Z"
   },
   {
    "duration": 105,
    "start_time": "2022-08-12T16:39:54.408Z"
   },
   {
    "duration": 31,
    "start_time": "2022-08-12T16:39:54.514Z"
   },
   {
    "duration": 89,
    "start_time": "2022-08-12T16:39:54.546Z"
   },
   {
    "duration": 36,
    "start_time": "2022-08-12T16:39:54.637Z"
   },
   {
    "duration": 73,
    "start_time": "2022-08-12T16:39:54.674Z"
   },
   {
    "duration": 189,
    "start_time": "2022-08-12T16:39:54.748Z"
   },
   {
    "duration": 129,
    "start_time": "2022-08-12T16:40:38.628Z"
   },
   {
    "duration": 131,
    "start_time": "2022-08-12T16:40:51.635Z"
   },
   {
    "duration": 161,
    "start_time": "2022-08-12T16:41:35.864Z"
   },
   {
    "duration": 106,
    "start_time": "2022-08-12T16:41:45.483Z"
   },
   {
    "duration": 109,
    "start_time": "2022-08-12T16:42:41.829Z"
   },
   {
    "duration": 107,
    "start_time": "2022-08-12T16:45:12.580Z"
   },
   {
    "duration": 76,
    "start_time": "2022-08-12T16:46:11.873Z"
   },
   {
    "duration": 135,
    "start_time": "2022-08-12T16:46:56.393Z"
   },
   {
    "duration": 135,
    "start_time": "2022-08-12T16:47:34.971Z"
   },
   {
    "duration": 77,
    "start_time": "2022-08-12T16:47:47.185Z"
   },
   {
    "duration": 130,
    "start_time": "2022-08-12T16:48:11.962Z"
   },
   {
    "duration": 77,
    "start_time": "2022-08-12T16:51:01.936Z"
   },
   {
    "duration": 194,
    "start_time": "2022-08-12T16:53:07.416Z"
   },
   {
    "duration": 76,
    "start_time": "2022-08-12T16:53:59.547Z"
   },
   {
    "duration": 139,
    "start_time": "2022-08-12T16:55:28.825Z"
   },
   {
    "duration": 128,
    "start_time": "2022-08-12T16:55:45.127Z"
   },
   {
    "duration": 130,
    "start_time": "2022-08-12T16:56:06.775Z"
   },
   {
    "duration": 78,
    "start_time": "2022-08-12T17:00:19.004Z"
   },
   {
    "duration": 154,
    "start_time": "2022-08-12T17:01:35.393Z"
   },
   {
    "duration": 76,
    "start_time": "2022-08-12T17:01:50.503Z"
   },
   {
    "duration": 149,
    "start_time": "2022-08-12T17:02:22.472Z"
   },
   {
    "duration": 134,
    "start_time": "2022-08-12T17:04:09.412Z"
   },
   {
    "duration": 155,
    "start_time": "2022-08-12T17:05:17.752Z"
   },
   {
    "duration": 82,
    "start_time": "2022-08-12T17:05:37.483Z"
   },
   {
    "duration": 138,
    "start_time": "2022-08-12T17:07:36.772Z"
   },
   {
    "duration": 78,
    "start_time": "2022-08-12T17:09:42.521Z"
   },
   {
    "duration": 78,
    "start_time": "2022-08-12T17:10:15.044Z"
   },
   {
    "duration": 77,
    "start_time": "2022-08-12T17:12:36.854Z"
   },
   {
    "duration": 131,
    "start_time": "2022-08-12T17:24:12.046Z"
   },
   {
    "duration": 130,
    "start_time": "2022-08-12T17:24:47.753Z"
   },
   {
    "duration": 141,
    "start_time": "2022-08-12T17:25:41.660Z"
   },
   {
    "duration": 132,
    "start_time": "2022-08-12T17:26:00.605Z"
   },
   {
    "duration": 125,
    "start_time": "2022-08-12T17:26:25.688Z"
   },
   {
    "duration": 148,
    "start_time": "2022-08-12T17:26:42.893Z"
   },
   {
    "duration": 147,
    "start_time": "2022-08-12T17:27:16.862Z"
   },
   {
    "duration": 118,
    "start_time": "2022-08-12T17:27:26.531Z"
   },
   {
    "duration": 138,
    "start_time": "2022-08-12T17:28:14.463Z"
   },
   {
    "duration": 130,
    "start_time": "2022-08-12T17:28:28.366Z"
   },
   {
    "duration": 80,
    "start_time": "2022-08-12T17:31:15.119Z"
   },
   {
    "duration": 75,
    "start_time": "2022-08-12T17:32:28.456Z"
   },
   {
    "duration": 75,
    "start_time": "2022-08-12T17:32:33.239Z"
   },
   {
    "duration": 83,
    "start_time": "2022-08-12T17:32:38.159Z"
   },
   {
    "duration": 81,
    "start_time": "2022-08-12T17:33:58.668Z"
   },
   {
    "duration": 123,
    "start_time": "2022-08-12T17:34:08.218Z"
   },
   {
    "duration": 124,
    "start_time": "2022-08-12T17:34:32.580Z"
   },
   {
    "duration": 136,
    "start_time": "2022-08-12T17:35:09.782Z"
   },
   {
    "duration": 147,
    "start_time": "2022-08-12T17:36:57.242Z"
   },
   {
    "duration": 145,
    "start_time": "2022-08-12T17:38:11.716Z"
   },
   {
    "duration": 123,
    "start_time": "2022-08-12T17:38:17.311Z"
   },
   {
    "duration": 132,
    "start_time": "2022-08-12T17:38:44.322Z"
   },
   {
    "duration": 137,
    "start_time": "2022-08-12T17:39:32.171Z"
   },
   {
    "duration": 900,
    "start_time": "2022-08-12T17:39:49.477Z"
   },
   {
    "duration": 142,
    "start_time": "2022-08-12T17:41:34.528Z"
   },
   {
    "duration": 128,
    "start_time": "2022-08-12T17:41:40.588Z"
   },
   {
    "duration": 108,
    "start_time": "2022-08-12T17:41:45.945Z"
   },
   {
    "duration": 140,
    "start_time": "2022-08-12T17:42:05.857Z"
   },
   {
    "duration": 81,
    "start_time": "2022-08-12T17:42:21.146Z"
   },
   {
    "duration": 81,
    "start_time": "2022-08-12T17:43:17.250Z"
   },
   {
    "duration": 145,
    "start_time": "2022-08-12T18:18:53.223Z"
   },
   {
    "duration": 80,
    "start_time": "2022-08-12T18:19:21.850Z"
   },
   {
    "duration": 3523,
    "start_time": "2022-08-12T18:21:21.467Z"
   },
   {
    "duration": 153,
    "start_time": "2022-08-12T18:21:45.511Z"
   },
   {
    "duration": 81,
    "start_time": "2022-08-12T18:21:54.055Z"
   },
   {
    "duration": 139,
    "start_time": "2022-08-12T18:30:35.528Z"
   },
   {
    "duration": 184,
    "start_time": "2022-08-12T18:30:44.934Z"
   },
   {
    "duration": 80,
    "start_time": "2022-08-12T18:31:41.766Z"
   },
   {
    "duration": 134,
    "start_time": "2022-08-12T18:36:24.259Z"
   },
   {
    "duration": 136,
    "start_time": "2022-08-12T18:37:09.527Z"
   },
   {
    "duration": 137,
    "start_time": "2022-08-12T18:37:22.076Z"
   },
   {
    "duration": 131,
    "start_time": "2022-08-12T18:38:19.521Z"
   },
   {
    "duration": 78,
    "start_time": "2022-08-12T18:38:24.694Z"
   },
   {
    "duration": 76,
    "start_time": "2022-08-12T18:40:52.371Z"
   },
   {
    "duration": 143,
    "start_time": "2022-08-12T18:42:14.070Z"
   },
   {
    "duration": 152,
    "start_time": "2022-08-12T18:44:46.372Z"
   },
   {
    "duration": 128,
    "start_time": "2022-08-12T18:45:18.324Z"
   },
   {
    "duration": 1010,
    "start_time": "2022-08-12T18:46:25.712Z"
   },
   {
    "duration": 126,
    "start_time": "2022-08-12T18:46:39.030Z"
   },
   {
    "duration": 77,
    "start_time": "2022-08-12T18:46:43.799Z"
   },
   {
    "duration": 76,
    "start_time": "2022-08-12T18:48:22.748Z"
   },
   {
    "duration": 134,
    "start_time": "2022-08-12T18:49:08.065Z"
   },
   {
    "duration": 939,
    "start_time": "2022-08-12T18:49:15.514Z"
   },
   {
    "duration": 141,
    "start_time": "2022-08-12T18:51:57.584Z"
   },
   {
    "duration": 5428,
    "start_time": "2022-08-12T18:52:20.017Z"
   },
   {
    "duration": 76,
    "start_time": "2022-08-12T18:52:50.237Z"
   },
   {
    "duration": 76,
    "start_time": "2022-08-12T18:53:01.428Z"
   },
   {
    "duration": 77,
    "start_time": "2022-08-12T18:53:39.919Z"
   },
   {
    "duration": 75,
    "start_time": "2022-08-12T18:53:50.000Z"
   },
   {
    "duration": 76,
    "start_time": "2022-08-12T18:54:03.514Z"
   },
   {
    "duration": 76,
    "start_time": "2022-08-12T19:01:37.896Z"
   },
   {
    "duration": 108,
    "start_time": "2022-08-12T19:16:10.257Z"
   },
   {
    "duration": 107,
    "start_time": "2022-08-12T19:17:09.372Z"
   },
   {
    "duration": 80,
    "start_time": "2022-08-12T19:18:18.315Z"
   },
   {
    "duration": 82,
    "start_time": "2022-08-12T19:19:26.071Z"
   },
   {
    "duration": 80,
    "start_time": "2022-08-12T19:19:53.298Z"
   },
   {
    "duration": 80,
    "start_time": "2022-08-12T19:20:06.730Z"
   },
   {
    "duration": 134,
    "start_time": "2022-08-12T19:27:31.860Z"
   },
   {
    "duration": 168,
    "start_time": "2022-08-12T19:29:16.457Z"
   },
   {
    "duration": 80,
    "start_time": "2022-08-12T19:29:44.367Z"
   },
   {
    "duration": 79,
    "start_time": "2022-08-12T19:31:24.314Z"
   },
   {
    "duration": 14,
    "start_time": "2022-08-12T19:31:58.915Z"
   },
   {
    "duration": 492,
    "start_time": "2022-08-12T19:31:58.931Z"
   },
   {
    "duration": 11208,
    "start_time": "2022-08-12T19:31:59.424Z"
   },
   {
    "duration": 6,
    "start_time": "2022-08-12T19:32:10.633Z"
   },
   {
    "duration": 288,
    "start_time": "2022-08-12T19:32:10.642Z"
   },
   {
    "duration": 268,
    "start_time": "2022-08-12T19:32:10.931Z"
   },
   {
    "duration": 73,
    "start_time": "2022-08-12T19:32:11.200Z"
   },
   {
    "duration": 25,
    "start_time": "2022-08-12T19:32:11.275Z"
   },
   {
    "duration": 83,
    "start_time": "2022-08-12T19:32:11.302Z"
   },
   {
    "duration": 23,
    "start_time": "2022-08-12T19:32:11.387Z"
   },
   {
    "duration": 121,
    "start_time": "2022-08-12T19:32:11.411Z"
   },
   {
    "duration": 37,
    "start_time": "2022-08-12T19:32:11.534Z"
   },
   {
    "duration": 86,
    "start_time": "2022-08-12T19:32:11.573Z"
   },
   {
    "duration": 33,
    "start_time": "2022-08-12T19:32:11.661Z"
   },
   {
    "duration": 76,
    "start_time": "2022-08-12T19:32:11.695Z"
   },
   {
    "duration": 85,
    "start_time": "2022-08-12T19:32:11.772Z"
   },
   {
    "duration": 75,
    "start_time": "2022-08-12T19:32:11.858Z"
   },
   {
    "duration": 81,
    "start_time": "2022-08-12T19:32:11.935Z"
   },
   {
    "duration": 78,
    "start_time": "2022-08-12T19:32:12.018Z"
   },
   {
    "duration": 11,
    "start_time": "2022-08-13T06:20:20.644Z"
   },
   {
    "duration": 411,
    "start_time": "2022-08-13T06:20:20.656Z"
   },
   {
    "duration": 5283,
    "start_time": "2022-08-13T06:20:21.069Z"
   },
   {
    "duration": 6,
    "start_time": "2022-08-13T06:20:26.353Z"
   },
   {
    "duration": 290,
    "start_time": "2022-08-13T06:20:26.360Z"
   },
   {
    "duration": 243,
    "start_time": "2022-08-13T06:20:26.652Z"
   },
   {
    "duration": 77,
    "start_time": "2022-08-13T06:20:26.897Z"
   },
   {
    "duration": 22,
    "start_time": "2022-08-13T06:20:26.975Z"
   },
   {
    "duration": 78,
    "start_time": "2022-08-13T06:20:26.998Z"
   },
   {
    "duration": 0,
    "start_time": "2022-08-13T06:20:27.078Z"
   },
   {
    "duration": 0,
    "start_time": "2022-08-13T06:20:27.080Z"
   },
   {
    "duration": 0,
    "start_time": "2022-08-13T06:20:27.080Z"
   },
   {
    "duration": 0,
    "start_time": "2022-08-13T06:20:27.081Z"
   },
   {
    "duration": 0,
    "start_time": "2022-08-13T06:20:27.084Z"
   },
   {
    "duration": 0,
    "start_time": "2022-08-13T06:20:27.085Z"
   },
   {
    "duration": 0,
    "start_time": "2022-08-13T06:20:27.098Z"
   },
   {
    "duration": 0,
    "start_time": "2022-08-13T06:20:27.099Z"
   },
   {
    "duration": 0,
    "start_time": "2022-08-13T06:20:27.101Z"
   },
   {
    "duration": 0,
    "start_time": "2022-08-13T06:20:27.102Z"
   },
   {
    "duration": 71,
    "start_time": "2022-08-13T06:20:53.734Z"
   },
   {
    "duration": 22,
    "start_time": "2022-08-13T06:20:57.108Z"
   },
   {
    "duration": 6,
    "start_time": "2022-08-13T06:21:05.942Z"
   },
   {
    "duration": 10,
    "start_time": "2022-08-13T06:21:14.351Z"
   },
   {
    "duration": 447,
    "start_time": "2022-08-13T06:21:14.363Z"
   },
   {
    "duration": 5251,
    "start_time": "2022-08-13T06:21:14.811Z"
   },
   {
    "duration": 5,
    "start_time": "2022-08-13T06:21:20.064Z"
   },
   {
    "duration": 286,
    "start_time": "2022-08-13T06:21:20.070Z"
   },
   {
    "duration": 286,
    "start_time": "2022-08-13T06:21:20.358Z"
   },
   {
    "duration": 72,
    "start_time": "2022-08-13T06:21:20.645Z"
   },
   {
    "duration": 24,
    "start_time": "2022-08-13T06:21:20.719Z"
   },
   {
    "duration": 71,
    "start_time": "2022-08-13T06:21:20.744Z"
   },
   {
    "duration": 21,
    "start_time": "2022-08-13T06:21:20.816Z"
   },
   {
    "duration": 100,
    "start_time": "2022-08-13T06:21:20.839Z"
   },
   {
    "duration": 27,
    "start_time": "2022-08-13T06:21:20.941Z"
   },
   {
    "duration": 110,
    "start_time": "2022-08-13T06:21:20.969Z"
   },
   {
    "duration": 28,
    "start_time": "2022-08-13T06:21:21.080Z"
   },
   {
    "duration": 72,
    "start_time": "2022-08-13T06:21:21.109Z"
   },
   {
    "duration": 83,
    "start_time": "2022-08-13T06:21:21.183Z"
   },
   {
    "duration": 74,
    "start_time": "2022-08-13T06:21:21.268Z"
   },
   {
    "duration": 84,
    "start_time": "2022-08-13T06:21:21.343Z"
   },
   {
    "duration": 83,
    "start_time": "2022-08-13T06:21:21.428Z"
   },
   {
    "duration": 28,
    "start_time": "2022-08-13T06:21:39.315Z"
   },
   {
    "duration": 72,
    "start_time": "2022-08-13T06:30:13.563Z"
   },
   {
    "duration": 104,
    "start_time": "2022-08-13T06:31:10.984Z"
   },
   {
    "duration": 76,
    "start_time": "2022-08-13T06:42:18.486Z"
   },
   {
    "duration": 75,
    "start_time": "2022-08-13T06:42:44.269Z"
   },
   {
    "duration": 75,
    "start_time": "2022-08-13T06:44:20.843Z"
   },
   {
    "duration": 12,
    "start_time": "2022-08-13T06:52:46.013Z"
   },
   {
    "duration": 441,
    "start_time": "2022-08-13T06:52:46.027Z"
   },
   {
    "duration": 5412,
    "start_time": "2022-08-13T06:52:46.469Z"
   },
   {
    "duration": 5,
    "start_time": "2022-08-13T06:52:51.898Z"
   },
   {
    "duration": 6,
    "start_time": "2022-08-13T06:52:51.905Z"
   },
   {
    "duration": 301,
    "start_time": "2022-08-13T06:52:51.912Z"
   },
   {
    "duration": 114,
    "start_time": "2022-08-13T06:52:52.214Z"
   },
   {
    "duration": 0,
    "start_time": "2022-08-13T06:52:52.329Z"
   },
   {
    "duration": 0,
    "start_time": "2022-08-13T06:52:52.330Z"
   },
   {
    "duration": 0,
    "start_time": "2022-08-13T06:52:52.331Z"
   },
   {
    "duration": 0,
    "start_time": "2022-08-13T06:52:52.332Z"
   },
   {
    "duration": 0,
    "start_time": "2022-08-13T06:52:52.333Z"
   },
   {
    "duration": 0,
    "start_time": "2022-08-13T06:52:52.334Z"
   },
   {
    "duration": 0,
    "start_time": "2022-08-13T06:52:52.335Z"
   },
   {
    "duration": 0,
    "start_time": "2022-08-13T06:52:52.335Z"
   },
   {
    "duration": 0,
    "start_time": "2022-08-13T06:52:52.336Z"
   },
   {
    "duration": 0,
    "start_time": "2022-08-13T06:52:52.337Z"
   },
   {
    "duration": 0,
    "start_time": "2022-08-13T06:52:52.338Z"
   },
   {
    "duration": 0,
    "start_time": "2022-08-13T06:52:52.339Z"
   },
   {
    "duration": 0,
    "start_time": "2022-08-13T06:52:52.339Z"
   },
   {
    "duration": 96,
    "start_time": "2022-08-13T06:53:44.681Z"
   },
   {
    "duration": 262,
    "start_time": "2022-08-13T06:53:46.147Z"
   },
   {
    "duration": 14,
    "start_time": "2022-08-13T06:55:32.108Z"
   },
   {
    "duration": 441,
    "start_time": "2022-08-13T06:55:32.124Z"
   },
   {
    "duration": 5662,
    "start_time": "2022-08-13T06:55:32.567Z"
   },
   {
    "duration": 5,
    "start_time": "2022-08-13T06:55:38.231Z"
   },
   {
    "duration": 8,
    "start_time": "2022-08-13T06:55:38.238Z"
   },
   {
    "duration": 264,
    "start_time": "2022-08-13T06:55:38.248Z"
   },
   {
    "duration": 300,
    "start_time": "2022-08-13T06:55:38.513Z"
   },
   {
    "duration": 71,
    "start_time": "2022-08-13T06:55:38.814Z"
   },
   {
    "duration": 27,
    "start_time": "2022-08-13T06:55:38.887Z"
   },
   {
    "duration": 71,
    "start_time": "2022-08-13T06:55:38.915Z"
   },
   {
    "duration": 23,
    "start_time": "2022-08-13T06:55:38.988Z"
   },
   {
    "duration": 101,
    "start_time": "2022-08-13T06:55:39.012Z"
   },
   {
    "duration": 26,
    "start_time": "2022-08-13T06:55:39.114Z"
   },
   {
    "duration": 88,
    "start_time": "2022-08-13T06:55:39.141Z"
   },
   {
    "duration": 31,
    "start_time": "2022-08-13T06:55:39.230Z"
   },
   {
    "duration": 76,
    "start_time": "2022-08-13T06:55:39.262Z"
   },
   {
    "duration": 0,
    "start_time": "2022-08-13T06:55:39.340Z"
   },
   {
    "duration": 0,
    "start_time": "2022-08-13T06:55:39.340Z"
   },
   {
    "duration": 0,
    "start_time": "2022-08-13T06:55:39.341Z"
   },
   {
    "duration": 0,
    "start_time": "2022-08-13T06:55:39.342Z"
   },
   {
    "duration": 71,
    "start_time": "2022-08-13T06:57:07.031Z"
   },
   {
    "duration": 104,
    "start_time": "2022-08-13T06:57:26.037Z"
   },
   {
    "duration": 134,
    "start_time": "2022-08-13T07:09:48.479Z"
   },
   {
    "duration": 105,
    "start_time": "2022-08-13T07:09:58.842Z"
   },
   {
    "duration": 113,
    "start_time": "2022-08-13T07:10:55.271Z"
   },
   {
    "duration": 108,
    "start_time": "2022-08-13T07:11:07.000Z"
   },
   {
    "duration": 105,
    "start_time": "2022-08-13T07:11:48.751Z"
   },
   {
    "duration": 105,
    "start_time": "2022-08-13T07:12:15.818Z"
   },
   {
    "duration": 74,
    "start_time": "2022-08-13T07:12:24.618Z"
   },
   {
    "duration": 73,
    "start_time": "2022-08-13T07:14:44.109Z"
   },
   {
    "duration": 81,
    "start_time": "2022-08-13T07:14:54.584Z"
   },
   {
    "duration": 73,
    "start_time": "2022-08-13T07:15:01.948Z"
   },
   {
    "duration": 895,
    "start_time": "2022-08-13T07:15:28.252Z"
   },
   {
    "duration": 44,
    "start_time": "2022-08-13T07:16:01.422Z"
   },
   {
    "duration": 1012,
    "start_time": "2022-08-13T07:16:07.177Z"
   },
   {
    "duration": 72,
    "start_time": "2022-08-13T07:16:21.753Z"
   },
   {
    "duration": 72,
    "start_time": "2022-08-13T07:16:47.431Z"
   },
   {
    "duration": 76,
    "start_time": "2022-08-13T07:17:28.044Z"
   },
   {
    "duration": 176,
    "start_time": "2022-08-13T07:17:45.632Z"
   },
   {
    "duration": 78,
    "start_time": "2022-08-13T07:19:01.993Z"
   },
   {
    "duration": 587,
    "start_time": "2022-08-13T07:19:37.974Z"
   },
   {
    "duration": 73,
    "start_time": "2022-08-13T07:21:10.153Z"
   },
   {
    "duration": 78,
    "start_time": "2022-08-13T07:21:39.456Z"
   },
   {
    "duration": 80,
    "start_time": "2022-08-13T07:22:04.913Z"
   },
   {
    "duration": 77,
    "start_time": "2022-08-13T07:22:23.327Z"
   },
   {
    "duration": 7,
    "start_time": "2022-08-13T07:23:20.740Z"
   },
   {
    "duration": 79,
    "start_time": "2022-08-13T07:23:29.587Z"
   },
   {
    "duration": 170,
    "start_time": "2022-08-13T07:24:33.117Z"
   },
   {
    "duration": 103,
    "start_time": "2022-08-13T07:25:20.576Z"
   },
   {
    "duration": 77,
    "start_time": "2022-08-13T07:25:51.076Z"
   },
   {
    "duration": 81,
    "start_time": "2022-08-13T07:26:27.897Z"
   },
   {
    "duration": 78,
    "start_time": "2022-08-13T07:29:02.071Z"
   },
   {
    "duration": 141,
    "start_time": "2022-08-13T07:32:32.205Z"
   },
   {
    "duration": 147,
    "start_time": "2022-08-13T07:32:42.817Z"
   },
   {
    "duration": 140,
    "start_time": "2022-08-13T07:32:53.399Z"
   },
   {
    "duration": 78,
    "start_time": "2022-08-13T07:33:12.972Z"
   },
   {
    "duration": 77,
    "start_time": "2022-08-13T07:33:39.035Z"
   },
   {
    "duration": 75,
    "start_time": "2022-08-13T07:34:39.808Z"
   },
   {
    "duration": 88,
    "start_time": "2022-08-13T07:34:46.935Z"
   },
   {
    "duration": 74,
    "start_time": "2022-08-13T07:34:56.504Z"
   },
   {
    "duration": 10,
    "start_time": "2022-08-13T07:38:12.536Z"
   },
   {
    "duration": 437,
    "start_time": "2022-08-13T07:38:12.548Z"
   },
   {
    "duration": 7490,
    "start_time": "2022-08-13T07:38:12.986Z"
   },
   {
    "duration": 5,
    "start_time": "2022-08-13T07:38:20.478Z"
   },
   {
    "duration": 8,
    "start_time": "2022-08-13T07:38:20.485Z"
   },
   {
    "duration": 274,
    "start_time": "2022-08-13T07:38:20.495Z"
   },
   {
    "duration": 261,
    "start_time": "2022-08-13T07:38:20.770Z"
   },
   {
    "duration": 72,
    "start_time": "2022-08-13T07:38:21.033Z"
   },
   {
    "duration": 25,
    "start_time": "2022-08-13T07:38:21.108Z"
   },
   {
    "duration": 70,
    "start_time": "2022-08-13T07:38:21.135Z"
   },
   {
    "duration": 25,
    "start_time": "2022-08-13T07:38:21.207Z"
   },
   {
    "duration": 103,
    "start_time": "2022-08-13T07:38:21.233Z"
   },
   {
    "duration": 25,
    "start_time": "2022-08-13T07:38:21.338Z"
   },
   {
    "duration": 87,
    "start_time": "2022-08-13T07:38:21.364Z"
   },
   {
    "duration": 27,
    "start_time": "2022-08-13T07:38:21.453Z"
   },
   {
    "duration": 77,
    "start_time": "2022-08-13T07:38:21.481Z"
   },
   {
    "duration": 86,
    "start_time": "2022-08-13T07:38:21.560Z"
   },
   {
    "duration": 90,
    "start_time": "2022-08-13T07:38:21.648Z"
   },
   {
    "duration": 74,
    "start_time": "2022-08-13T07:38:21.739Z"
   },
   {
    "duration": 75,
    "start_time": "2022-08-13T07:38:21.815Z"
   },
   {
    "duration": 112,
    "start_time": "2022-08-13T07:39:50.178Z"
   },
   {
    "duration": 105,
    "start_time": "2022-08-13T07:39:57.465Z"
   },
   {
    "duration": 112,
    "start_time": "2022-08-13T07:40:15.944Z"
   },
   {
    "duration": 11,
    "start_time": "2022-08-13T07:41:06.898Z"
   },
   {
    "duration": 489,
    "start_time": "2022-08-13T07:41:06.911Z"
   },
   {
    "duration": 4799,
    "start_time": "2022-08-13T07:41:07.402Z"
   },
   {
    "duration": 5,
    "start_time": "2022-08-13T07:41:12.203Z"
   },
   {
    "duration": 5,
    "start_time": "2022-08-13T07:41:12.210Z"
   },
   {
    "duration": 265,
    "start_time": "2022-08-13T07:41:12.217Z"
   },
   {
    "duration": 268,
    "start_time": "2022-08-13T07:41:12.483Z"
   },
   {
    "duration": 72,
    "start_time": "2022-08-13T07:41:12.753Z"
   },
   {
    "duration": 28,
    "start_time": "2022-08-13T07:41:12.828Z"
   },
   {
    "duration": 72,
    "start_time": "2022-08-13T07:41:12.858Z"
   },
   {
    "duration": 25,
    "start_time": "2022-08-13T07:41:12.932Z"
   },
   {
    "duration": 102,
    "start_time": "2022-08-13T07:41:12.958Z"
   },
   {
    "duration": 28,
    "start_time": "2022-08-13T07:41:13.062Z"
   },
   {
    "duration": 89,
    "start_time": "2022-08-13T07:41:13.092Z"
   },
   {
    "duration": 36,
    "start_time": "2022-08-13T07:41:13.182Z"
   },
   {
    "duration": 75,
    "start_time": "2022-08-13T07:41:13.219Z"
   },
   {
    "duration": 86,
    "start_time": "2022-08-13T07:41:13.295Z"
   },
   {
    "duration": 75,
    "start_time": "2022-08-13T07:41:13.382Z"
   },
   {
    "duration": 75,
    "start_time": "2022-08-13T07:41:13.459Z"
   },
   {
    "duration": 73,
    "start_time": "2022-08-13T07:41:13.536Z"
   },
   {
    "duration": 16,
    "start_time": "2022-08-13T08:52:11.206Z"
   },
   {
    "duration": 509,
    "start_time": "2022-08-13T08:52:11.223Z"
   },
   {
    "duration": 9861,
    "start_time": "2022-08-13T08:52:11.734Z"
   },
   {
    "duration": 5,
    "start_time": "2022-08-13T08:52:21.597Z"
   },
   {
    "duration": 20,
    "start_time": "2022-08-13T08:52:21.603Z"
   },
   {
    "duration": 339,
    "start_time": "2022-08-13T08:52:21.624Z"
   },
   {
    "duration": 284,
    "start_time": "2022-08-13T08:52:21.964Z"
   },
   {
    "duration": 74,
    "start_time": "2022-08-13T08:52:22.249Z"
   },
   {
    "duration": 25,
    "start_time": "2022-08-13T08:52:22.325Z"
   },
   {
    "duration": 80,
    "start_time": "2022-08-13T08:52:22.351Z"
   },
   {
    "duration": 23,
    "start_time": "2022-08-13T08:52:22.433Z"
   },
   {
    "duration": 105,
    "start_time": "2022-08-13T08:52:22.458Z"
   },
   {
    "duration": 28,
    "start_time": "2022-08-13T08:52:22.565Z"
   },
   {
    "duration": 87,
    "start_time": "2022-08-13T08:52:22.595Z"
   },
   {
    "duration": 28,
    "start_time": "2022-08-13T08:52:22.684Z"
   },
   {
    "duration": 72,
    "start_time": "2022-08-13T08:52:22.713Z"
   },
   {
    "duration": 85,
    "start_time": "2022-08-13T08:52:22.786Z"
   },
   {
    "duration": 73,
    "start_time": "2022-08-13T08:52:22.873Z"
   },
   {
    "duration": 79,
    "start_time": "2022-08-13T08:52:22.947Z"
   },
   {
    "duration": 76,
    "start_time": "2022-08-13T08:52:23.027Z"
   },
   {
    "duration": 46,
    "start_time": "2022-08-18T16:21:58.277Z"
   },
   {
    "duration": 14,
    "start_time": "2022-08-18T16:22:03.611Z"
   },
   {
    "duration": 603,
    "start_time": "2022-08-18T16:22:03.627Z"
   },
   {
    "duration": 6973,
    "start_time": "2022-08-18T16:22:04.231Z"
   },
   {
    "duration": 6,
    "start_time": "2022-08-18T16:22:11.205Z"
   },
   {
    "duration": 19,
    "start_time": "2022-08-18T16:22:11.213Z"
   },
   {
    "duration": 265,
    "start_time": "2022-08-18T16:22:11.241Z"
   },
   {
    "duration": 302,
    "start_time": "2022-08-18T16:22:11.507Z"
   },
   {
    "duration": 82,
    "start_time": "2022-08-18T16:22:11.811Z"
   },
   {
    "duration": 27,
    "start_time": "2022-08-18T16:22:11.896Z"
   },
   {
    "duration": 72,
    "start_time": "2022-08-18T16:22:11.925Z"
   },
   {
    "duration": 29,
    "start_time": "2022-08-18T16:22:11.999Z"
   },
   {
    "duration": 167,
    "start_time": "2022-08-18T16:22:12.029Z"
   },
   {
    "duration": 41,
    "start_time": "2022-08-18T16:22:12.198Z"
   },
   {
    "duration": 92,
    "start_time": "2022-08-18T16:22:12.241Z"
   },
   {
    "duration": 46,
    "start_time": "2022-08-18T16:22:12.335Z"
   },
   {
    "duration": 72,
    "start_time": "2022-08-18T16:22:12.382Z"
   },
   {
    "duration": 87,
    "start_time": "2022-08-18T16:22:12.455Z"
   },
   {
    "duration": 74,
    "start_time": "2022-08-18T16:22:12.544Z"
   },
   {
    "duration": 75,
    "start_time": "2022-08-18T16:22:12.620Z"
   },
   {
    "duration": 75,
    "start_time": "2022-08-18T16:22:12.697Z"
   },
   {
    "duration": 250,
    "start_time": "2022-08-18T16:24:08.626Z"
   },
   {
    "duration": 184,
    "start_time": "2022-08-18T16:24:42.661Z"
   },
   {
    "duration": 78,
    "start_time": "2022-08-18T16:25:27.526Z"
   },
   {
    "duration": 159,
    "start_time": "2022-08-18T16:27:30.291Z"
   },
   {
    "duration": 158,
    "start_time": "2022-08-18T16:29:06.025Z"
   },
   {
    "duration": 159,
    "start_time": "2022-08-18T16:29:22.181Z"
   },
   {
    "duration": 157,
    "start_time": "2022-08-18T16:29:50.142Z"
   },
   {
    "duration": 148,
    "start_time": "2022-08-18T16:30:37.470Z"
   },
   {
    "duration": 197,
    "start_time": "2022-08-18T16:31:32.349Z"
   },
   {
    "duration": 159,
    "start_time": "2022-08-18T16:32:08.847Z"
   },
   {
    "duration": 148,
    "start_time": "2022-08-18T16:32:30.786Z"
   },
   {
    "duration": 13,
    "start_time": "2022-08-18T16:32:38.609Z"
   },
   {
    "duration": 466,
    "start_time": "2022-08-18T16:32:38.623Z"
   },
   {
    "duration": 6168,
    "start_time": "2022-08-18T16:32:39.091Z"
   },
   {
    "duration": 7,
    "start_time": "2022-08-18T16:32:45.269Z"
   },
   {
    "duration": 19,
    "start_time": "2022-08-18T16:32:45.278Z"
   },
   {
    "duration": 315,
    "start_time": "2022-08-18T16:32:45.300Z"
   },
   {
    "duration": 284,
    "start_time": "2022-08-18T16:32:45.617Z"
   },
   {
    "duration": 92,
    "start_time": "2022-08-18T16:32:45.903Z"
   },
   {
    "duration": 32,
    "start_time": "2022-08-18T16:32:45.998Z"
   },
   {
    "duration": 83,
    "start_time": "2022-08-18T16:32:46.032Z"
   },
   {
    "duration": 29,
    "start_time": "2022-08-18T16:32:46.117Z"
   },
   {
    "duration": 199,
    "start_time": "2022-08-18T16:32:46.148Z"
   },
   {
    "duration": 42,
    "start_time": "2022-08-18T16:32:46.349Z"
   },
   {
    "duration": 93,
    "start_time": "2022-08-18T16:32:46.393Z"
   },
   {
    "duration": 35,
    "start_time": "2022-08-18T16:32:46.487Z"
   },
   {
    "duration": 84,
    "start_time": "2022-08-18T16:32:46.523Z"
   },
   {
    "duration": 87,
    "start_time": "2022-08-18T16:32:46.609Z"
   },
   {
    "duration": 85,
    "start_time": "2022-08-18T16:32:46.697Z"
   },
   {
    "duration": 236,
    "start_time": "2022-08-18T16:32:46.784Z"
   },
   {
    "duration": 0,
    "start_time": "2022-08-18T16:32:47.022Z"
   },
   {
    "duration": 0,
    "start_time": "2022-08-18T16:32:47.023Z"
   },
   {
    "duration": 76,
    "start_time": "2022-08-18T16:47:54.471Z"
   },
   {
    "duration": 161,
    "start_time": "2022-08-18T16:48:38.031Z"
   },
   {
    "duration": 156,
    "start_time": "2022-08-18T16:48:52.224Z"
   },
   {
    "duration": 79,
    "start_time": "2022-08-18T16:50:05.082Z"
   },
   {
    "duration": 78,
    "start_time": "2022-08-18T16:51:10.650Z"
   },
   {
    "duration": 77,
    "start_time": "2022-08-18T16:51:35.478Z"
   },
   {
    "duration": 76,
    "start_time": "2022-08-18T16:51:46.509Z"
   },
   {
    "duration": 130,
    "start_time": "2022-08-18T16:53:59.782Z"
   },
   {
    "duration": 75,
    "start_time": "2022-08-18T16:55:49.579Z"
   },
   {
    "duration": 14,
    "start_time": "2022-08-18T16:56:50.614Z"
   },
   {
    "duration": 549,
    "start_time": "2022-08-18T16:56:50.630Z"
   },
   {
    "duration": 6690,
    "start_time": "2022-08-18T16:56:51.181Z"
   },
   {
    "duration": 6,
    "start_time": "2022-08-18T16:56:57.873Z"
   },
   {
    "duration": 9,
    "start_time": "2022-08-18T16:56:57.881Z"
   },
   {
    "duration": 328,
    "start_time": "2022-08-18T16:56:57.891Z"
   },
   {
    "duration": 281,
    "start_time": "2022-08-18T16:56:58.221Z"
   },
   {
    "duration": 87,
    "start_time": "2022-08-18T16:56:58.504Z"
   },
   {
    "duration": 29,
    "start_time": "2022-08-18T16:56:58.593Z"
   },
   {
    "duration": 85,
    "start_time": "2022-08-18T16:56:58.624Z"
   },
   {
    "duration": 26,
    "start_time": "2022-08-18T16:56:58.711Z"
   },
   {
    "duration": 190,
    "start_time": "2022-08-18T16:56:58.739Z"
   },
   {
    "duration": 36,
    "start_time": "2022-08-18T16:56:58.930Z"
   },
   {
    "duration": 93,
    "start_time": "2022-08-18T16:56:58.971Z"
   },
   {
    "duration": 36,
    "start_time": "2022-08-18T16:56:59.073Z"
   },
   {
    "duration": 84,
    "start_time": "2022-08-18T16:56:59.111Z"
   },
   {
    "duration": 92,
    "start_time": "2022-08-18T16:56:59.197Z"
   },
   {
    "duration": 86,
    "start_time": "2022-08-18T16:56:59.291Z"
   },
   {
    "duration": 102,
    "start_time": "2022-08-18T16:56:59.378Z"
   },
   {
    "duration": 82,
    "start_time": "2022-08-18T16:56:59.481Z"
   },
   {
    "duration": 14,
    "start_time": "2022-08-28T07:33:35.330Z"
   },
   {
    "duration": 2431,
    "start_time": "2022-08-28T07:33:35.345Z"
   },
   {
    "duration": 493,
    "start_time": "2022-08-28T07:33:37.778Z"
   },
   {
    "duration": 8683,
    "start_time": "2022-08-28T07:33:38.273Z"
   },
   {
    "duration": 6,
    "start_time": "2022-08-28T07:33:46.958Z"
   },
   {
    "duration": 24,
    "start_time": "2022-08-28T07:33:46.966Z"
   },
   {
    "duration": 59,
    "start_time": "2022-08-28T07:33:46.992Z"
   },
   {
    "duration": 273,
    "start_time": "2022-08-28T07:33:47.053Z"
   },
   {
    "duration": 8,
    "start_time": "2022-08-28T07:33:47.329Z"
   },
   {
    "duration": 47,
    "start_time": "2022-08-28T07:33:47.339Z"
   },
   {
    "duration": 8,
    "start_time": "2022-08-28T07:33:47.388Z"
   },
   {
    "duration": 28,
    "start_time": "2022-08-28T07:33:47.398Z"
   },
   {
    "duration": 115,
    "start_time": "2022-08-28T07:33:47.428Z"
   },
   {
    "duration": 42,
    "start_time": "2022-08-28T07:33:47.545Z"
   },
   {
    "duration": 15,
    "start_time": "2022-08-28T07:33:47.589Z"
   },
   {
    "duration": 70,
    "start_time": "2022-08-28T07:33:47.605Z"
   },
   {
    "duration": 9,
    "start_time": "2022-08-28T07:33:47.676Z"
   },
   {
    "duration": 23,
    "start_time": "2022-08-28T07:33:47.687Z"
   },
   {
    "duration": 10,
    "start_time": "2022-08-28T07:33:47.712Z"
   },
   {
    "duration": 11,
    "start_time": "2022-08-28T07:33:47.723Z"
   },
   {
    "duration": 9,
    "start_time": "2022-08-28T07:33:47.736Z"
   },
   {
    "duration": 14,
    "start_time": "2022-08-28T08:14:22.547Z"
   },
   {
    "duration": 2085,
    "start_time": "2022-08-28T08:14:22.563Z"
   },
   {
    "duration": 549,
    "start_time": "2022-08-28T08:14:24.650Z"
   },
   {
    "duration": 8288,
    "start_time": "2022-08-28T08:14:25.201Z"
   },
   {
    "duration": 6,
    "start_time": "2022-08-28T08:14:33.490Z"
   },
   {
    "duration": 19,
    "start_time": "2022-08-28T08:14:33.498Z"
   },
   {
    "duration": 55,
    "start_time": "2022-08-28T08:14:33.518Z"
   },
   {
    "duration": 282,
    "start_time": "2022-08-28T08:14:33.574Z"
   },
   {
    "duration": 9,
    "start_time": "2022-08-28T08:14:33.860Z"
   },
   {
    "duration": 50,
    "start_time": "2022-08-28T08:14:33.870Z"
   },
   {
    "duration": 8,
    "start_time": "2022-08-28T08:14:33.922Z"
   },
   {
    "duration": 66,
    "start_time": "2022-08-28T08:14:33.931Z"
   },
   {
    "duration": 89,
    "start_time": "2022-08-28T08:14:33.998Z"
   },
   {
    "duration": 34,
    "start_time": "2022-08-28T08:14:34.088Z"
   },
   {
    "duration": 46,
    "start_time": "2022-08-28T08:14:34.123Z"
   },
   {
    "duration": 53,
    "start_time": "2022-08-28T08:14:34.171Z"
   },
   {
    "duration": 7,
    "start_time": "2022-08-28T08:14:34.226Z"
   },
   {
    "duration": 41,
    "start_time": "2022-08-28T08:14:34.235Z"
   },
   {
    "duration": 9,
    "start_time": "2022-08-28T08:14:34.277Z"
   },
   {
    "duration": 10,
    "start_time": "2022-08-28T08:14:34.288Z"
   },
   {
    "duration": 21,
    "start_time": "2022-08-28T08:14:34.300Z"
   },
   {
    "duration": 15,
    "start_time": "2022-08-28T08:33:10.971Z"
   },
   {
    "duration": 1933,
    "start_time": "2022-08-28T08:33:10.988Z"
   },
   {
    "duration": 472,
    "start_time": "2022-08-28T08:33:12.924Z"
   },
   {
    "duration": 8696,
    "start_time": "2022-08-28T08:33:13.398Z"
   },
   {
    "duration": 6,
    "start_time": "2022-08-28T08:33:22.095Z"
   },
   {
    "duration": 10,
    "start_time": "2022-08-28T08:33:22.103Z"
   },
   {
    "duration": 57,
    "start_time": "2022-08-28T08:33:22.114Z"
   },
   {
    "duration": 268,
    "start_time": "2022-08-28T08:33:22.172Z"
   },
   {
    "duration": 9,
    "start_time": "2022-08-28T08:33:22.441Z"
   },
   {
    "duration": 42,
    "start_time": "2022-08-28T08:33:22.452Z"
   },
   {
    "duration": 8,
    "start_time": "2022-08-28T08:33:22.496Z"
   },
   {
    "duration": 27,
    "start_time": "2022-08-28T08:33:22.505Z"
   },
   {
    "duration": 72,
    "start_time": "2022-08-28T08:33:22.568Z"
   },
   {
    "duration": 43,
    "start_time": "2022-08-28T08:33:22.641Z"
   },
   {
    "duration": 15,
    "start_time": "2022-08-28T08:33:22.686Z"
   },
   {
    "duration": 33,
    "start_time": "2022-08-28T08:33:22.703Z"
   },
   {
    "duration": 36,
    "start_time": "2022-08-28T08:33:22.737Z"
   },
   {
    "duration": 21,
    "start_time": "2022-08-28T08:33:22.774Z"
   },
   {
    "duration": 8,
    "start_time": "2022-08-28T08:33:22.796Z"
   },
   {
    "duration": 9,
    "start_time": "2022-08-28T08:33:22.806Z"
   },
   {
    "duration": 8,
    "start_time": "2022-08-28T08:33:22.817Z"
   }
  ],
  "kernelspec": {
   "display_name": "Python 3 (ipykernel)",
   "language": "python",
   "name": "python3"
  },
  "language_info": {
   "codemirror_mode": {
    "name": "ipython",
    "version": 3
   },
   "file_extension": ".py",
   "mimetype": "text/x-python",
   "name": "python",
   "nbconvert_exporter": "python",
   "pygments_lexer": "ipython3",
   "version": "3.9.5"
  },
  "toc": {
   "base_numbering": 1,
   "nav_menu": {},
   "number_sections": true,
   "sideBar": true,
   "skip_h1_title": true,
   "title_cell": "Содержание",
   "title_sidebar": "Contents",
   "toc_cell": true,
   "toc_position": {
    "height": "calc(100% - 180px)",
    "left": "10px",
    "top": "150px",
    "width": "255.391px"
   },
   "toc_section_display": true,
   "toc_window_display": true
  }
 },
 "nbformat": 4,
 "nbformat_minor": 5
}
