{
 "cells": [
  {
   "cell_type": "markdown",
   "metadata": {
    "toc": true
   },
   "source": [
    "<h1>Содержание<span class=\"tocSkip\"></span></h1>\n",
    "<div class=\"toc\"><ul class=\"toc-item\"><li><span><a href=\"#Описание-данных\" data-toc-modified-id=\"Описание-данных-1\"><span class=\"toc-item-num\">1&nbsp;&nbsp;</span>Описание данных</a></span></li><li><span><a href=\"#Обзор-данных\" data-toc-modified-id=\"Обзор-данных-2\"><span class=\"toc-item-num\">2&nbsp;&nbsp;</span>Обзор данных</a></span></li><li><span><a href=\"#Предобработка-и-исследовательский-анализ-данных-(EDA)\" data-toc-modified-id=\"Предобработка-и-исследовательский-анализ-данных-(EDA)-3\"><span class=\"toc-item-num\">3&nbsp;&nbsp;</span>Предобработка и исследовательский анализ данных (EDA)</a></span><ul class=\"toc-item\"><li><span><a href=\"#Предобработка-данных\" data-toc-modified-id=\"Предобработка-данных-3.1\"><span class=\"toc-item-num\">3.1&nbsp;&nbsp;</span>Предобработка данных</a></span></li><li><span><a href=\"#Средние-значения-и-стандартные-отклонения\" data-toc-modified-id=\"Средние-значения-и-стандартные-отклонения-3.2\"><span class=\"toc-item-num\">3.2&nbsp;&nbsp;</span>Средние значения и стандартные отклонения</a></span></li><li><span><a href=\"#Столбчатые-гистограммы-и-распределения-признаков-для-тех,-кто-ушёл/остался\" data-toc-modified-id=\"Столбчатые-гистограммы-и-распределения-признаков-для-тех,-кто-ушёл/остался-3.3\"><span class=\"toc-item-num\">3.3&nbsp;&nbsp;</span>Столбчатые гистограммы и распределения признаков для тех, кто ушёл/остался</a></span></li><li><span><a href=\"#Матрица-корреляций\" data-toc-modified-id=\"Матрица-корреляций-3.4\"><span class=\"toc-item-num\">3.4&nbsp;&nbsp;</span>Матрица корреляций</a></span></li></ul></li><li><span><a href=\"#Модель-прогнозирования-оттока-клиентов\" data-toc-modified-id=\"Модель-прогнозирования-оттока-клиентов-4\"><span class=\"toc-item-num\">4&nbsp;&nbsp;</span>Модель прогнозирования оттока клиентов</a></span></li><li><span><a href=\"#Кластеризация-клиентов\" data-toc-modified-id=\"Кластеризация-клиентов-5\"><span class=\"toc-item-num\">5&nbsp;&nbsp;</span>Кластеризация клиентов</a></span></li><li><span><a href=\"#Выводы-и-базовые-рекомендации-по-работе-с-клиентами\" data-toc-modified-id=\"Выводы-и-базовые-рекомендации-по-работе-с-клиентами-6\"><span class=\"toc-item-num\">6&nbsp;&nbsp;</span>Выводы и базовые рекомендации по работе с клиентами</a></span></li></ul></div>"
   ]
  },
  {
   "cell_type": "markdown",
   "metadata": {},
   "source": [
    "# Анализ оттока клиентов в сети фитнес-центров «Культурист-датасаентист»\n",
    "\n",
    "## Описание данных"
   ]
  },
  {
   "cell_type": "markdown",
   "metadata": {},
   "source": [
    "«Культурист-датасаентист» предоставил сведения в csv-файлах. Заказчик подготовил данные, которые содержат данные на месяц до оттока и факт оттока на определённый месяц. Набор данных включает следующие поля:\n",
    "\n",
    "Данные клиента за предыдущий до проверки факта оттока месяц:\n",
    "* `gender` - пол;\n",
    "* `near_location` - проживание или работа в районе, где находится фитнес-центр;\n",
    "* `partner` - сотрудник компании-партнёра клуба (сотрудничество с компаниями, чьи сотрудники могут получать скидки на абонемент - в таком случае фитнес-центр хранит информацию о работодателе клиента);\n",
    "* `promo_friends` - факт первоначальной записи в рамках акции «приведи друга» (использовал промо-код от знакомого при оплате первого абонемента);\n",
    "* `phone` - наличие контактного телефона;\n",
    "* `age` - возраст;\n",
    "* `lifetime` - время с момента первого обращения в фитнес-центр (в месяцах).\n",
    "\n",
    "Информация на основе журнала посещений, покупок и информация о текущем статусе абонемента клиента:\n",
    "* `contract_period` - длительность текущего действующего абонемента (месяц, 6 месяцев, год);\n",
    "* `month_to_end_contract` - срок до окончания текущего действующего абонемента (в месяцах);\n",
    "* `group_visits` - факт посещения групповых занятий;\n",
    "* `avg_class_frequency_total` - средняя частота посещений в неделю за все время с начала действия абонемента;\n",
    "* `avg_class_frequency_current_month` - средняя частота посещений в неделю за предыдущий месяц;\n",
    "* `avg_additional_charges_total` - суммарная выручка от других услуг фитнес-центра: кафе, спорттовары, косметический и массажный салон.\n",
    "* `churn` - факт оттока в текущем месяце."
   ]
  },
  {
   "cell_type": "markdown",
   "metadata": {},
   "source": [
    "## Обзор данных"
   ]
  },
  {
   "cell_type": "markdown",
   "metadata": {},
   "source": [
    "Подгружаем необходимые библиотеки для работы:"
   ]
  },
  {
   "cell_type": "code",
   "execution_count": 1,
   "metadata": {},
   "outputs": [],
   "source": [
    "import pandas as pd\n",
    "import numpy as np\n",
    "import seaborn as sns\n",
    "from scipy import stats as st \n",
    "from sklearn.preprocessing import StandardScaler\n",
    "from sklearn.model_selection import train_test_split\n",
    "from sklearn.linear_model import LogisticRegression\n",
    "from sklearn.ensemble import RandomForestClassifier\n",
    "from sklearn.model_selection import GridSearchCV\n",
    "from sklearn.metrics import accuracy_score, precision_score, recall_score, silhouette_score\n",
    "from scipy.cluster.hierarchy import dendrogram, linkage \n",
    "from sklearn.cluster import KMeans\n",
    "\n",
    "import matplotlib.pyplot as plt\n",
    "\n",
    "\n",
    "pd.options.display.float_format = '{:.2f}'.format\n",
    "pd.options.display.max_columns = 50\n",
    "pd.set_option('max_colwidth', None)"
   ]
  },
  {
   "cell_type": "code",
   "execution_count": 2,
   "metadata": {},
   "outputs": [],
   "source": [
    "# загружаем данные\n",
    "\n",
    "gum_data = pd.read_csv('/datasets/gym_churn.csv')"
   ]
  },
  {
   "cell_type": "markdown",
   "metadata": {},
   "source": [
    "Зададим функции для первичного просмотра данных."
   ]
  },
  {
   "cell_type": "code",
   "execution_count": 3,
   "metadata": {},
   "outputs": [],
   "source": [
    "# функция для первичного просмотра датасета\n",
    "\n",
    "def data_look(data):\n",
    "    # приводим названия всех колонок к змеиному регистру\n",
    "    data.columns = [x.lower().replace(' ', '_') for x in data.columns]\n",
    "    print()\n",
    "    print('\\033[1m === Информация по датасету === \\033[0m')\n",
    "    print()\n",
    "    data.info() # выводим информацию по датасету\n",
    "    print()\n",
    "    print('\\033[1m === Первые 5 строк данных === \\033[0m')\n",
    "    display(data.head()) # выводим первые 5 строк\n",
    "    print()\n",
    "    print('\\033[1m === Случайные 5 строк данных === \\033[0m')\n",
    "    display(data.sample(5, random_state=10)) # выводим последние 5 строк  \n",
    "    print()\n",
    "    print('\\033[1m === Пропуски и уникальные значения по столбцам === \\033[0m')\n",
    "    # выводим данные о пропусках и уникальных значениях по каждому столбцу\n",
    "    display(pd.concat([data.isna().sum().rename('nan_count'), # количество пропусков\n",
    "                       data.isna().mean().rename('nan_percent'), # % пропусков\n",
    "                       data.nunique().rename('unique_values')], # количество уникальных значений\n",
    "                      axis=1).style.format({'nan_percent' : '{:.2%}'})) \n",
    "    print()\n",
    "    print('\\033[1m === Явные дубликаты === \\033[0m')\n",
    "    print()\n",
    "    print('Количество явных дубликатов:', data.duplicated().sum())"
   ]
  },
  {
   "cell_type": "markdown",
   "metadata": {},
   "source": [
    "Посмотрим на результаты по данным `gum_data`:"
   ]
  },
  {
   "cell_type": "code",
   "execution_count": 4,
   "metadata": {},
   "outputs": [
    {
     "name": "stdout",
     "output_type": "stream",
     "text": [
      "\n",
      "\u001b[1m === Информация по датасету === \u001b[0m\n",
      "\n",
      "<class 'pandas.core.frame.DataFrame'>\n",
      "RangeIndex: 4000 entries, 0 to 3999\n",
      "Data columns (total 14 columns):\n",
      " #   Column                             Non-Null Count  Dtype  \n",
      "---  ------                             --------------  -----  \n",
      " 0   gender                             4000 non-null   int64  \n",
      " 1   near_location                      4000 non-null   int64  \n",
      " 2   partner                            4000 non-null   int64  \n",
      " 3   promo_friends                      4000 non-null   int64  \n",
      " 4   phone                              4000 non-null   int64  \n",
      " 5   contract_period                    4000 non-null   int64  \n",
      " 6   group_visits                       4000 non-null   int64  \n",
      " 7   age                                4000 non-null   int64  \n",
      " 8   avg_additional_charges_total       4000 non-null   float64\n",
      " 9   month_to_end_contract              4000 non-null   float64\n",
      " 10  lifetime                           4000 non-null   int64  \n",
      " 11  avg_class_frequency_total          4000 non-null   float64\n",
      " 12  avg_class_frequency_current_month  4000 non-null   float64\n",
      " 13  churn                              4000 non-null   int64  \n",
      "dtypes: float64(4), int64(10)\n",
      "memory usage: 437.6 KB\n",
      "\n",
      "\u001b[1m === Первые 5 строк данных === \u001b[0m\n"
     ]
    },
    {
     "data": {
      "text/html": [
       "<div>\n",
       "<style scoped>\n",
       "    .dataframe tbody tr th:only-of-type {\n",
       "        vertical-align: middle;\n",
       "    }\n",
       "\n",
       "    .dataframe tbody tr th {\n",
       "        vertical-align: top;\n",
       "    }\n",
       "\n",
       "    .dataframe thead th {\n",
       "        text-align: right;\n",
       "    }\n",
       "</style>\n",
       "<table border=\"1\" class=\"dataframe\">\n",
       "  <thead>\n",
       "    <tr style=\"text-align: right;\">\n",
       "      <th></th>\n",
       "      <th>gender</th>\n",
       "      <th>near_location</th>\n",
       "      <th>partner</th>\n",
       "      <th>promo_friends</th>\n",
       "      <th>phone</th>\n",
       "      <th>contract_period</th>\n",
       "      <th>group_visits</th>\n",
       "      <th>age</th>\n",
       "      <th>avg_additional_charges_total</th>\n",
       "      <th>month_to_end_contract</th>\n",
       "      <th>lifetime</th>\n",
       "      <th>avg_class_frequency_total</th>\n",
       "      <th>avg_class_frequency_current_month</th>\n",
       "      <th>churn</th>\n",
       "    </tr>\n",
       "  </thead>\n",
       "  <tbody>\n",
       "    <tr>\n",
       "      <th>0</th>\n",
       "      <td>1</td>\n",
       "      <td>1</td>\n",
       "      <td>1</td>\n",
       "      <td>1</td>\n",
       "      <td>0</td>\n",
       "      <td>6</td>\n",
       "      <td>1</td>\n",
       "      <td>29</td>\n",
       "      <td>14.23</td>\n",
       "      <td>5.00</td>\n",
       "      <td>3</td>\n",
       "      <td>0.02</td>\n",
       "      <td>0.00</td>\n",
       "      <td>0</td>\n",
       "    </tr>\n",
       "    <tr>\n",
       "      <th>1</th>\n",
       "      <td>0</td>\n",
       "      <td>1</td>\n",
       "      <td>0</td>\n",
       "      <td>0</td>\n",
       "      <td>1</td>\n",
       "      <td>12</td>\n",
       "      <td>1</td>\n",
       "      <td>31</td>\n",
       "      <td>113.20</td>\n",
       "      <td>12.00</td>\n",
       "      <td>7</td>\n",
       "      <td>1.92</td>\n",
       "      <td>1.91</td>\n",
       "      <td>0</td>\n",
       "    </tr>\n",
       "    <tr>\n",
       "      <th>2</th>\n",
       "      <td>0</td>\n",
       "      <td>1</td>\n",
       "      <td>1</td>\n",
       "      <td>0</td>\n",
       "      <td>1</td>\n",
       "      <td>1</td>\n",
       "      <td>0</td>\n",
       "      <td>28</td>\n",
       "      <td>129.45</td>\n",
       "      <td>1.00</td>\n",
       "      <td>2</td>\n",
       "      <td>1.86</td>\n",
       "      <td>1.74</td>\n",
       "      <td>0</td>\n",
       "    </tr>\n",
       "    <tr>\n",
       "      <th>3</th>\n",
       "      <td>0</td>\n",
       "      <td>1</td>\n",
       "      <td>1</td>\n",
       "      <td>1</td>\n",
       "      <td>1</td>\n",
       "      <td>12</td>\n",
       "      <td>1</td>\n",
       "      <td>33</td>\n",
       "      <td>62.67</td>\n",
       "      <td>12.00</td>\n",
       "      <td>2</td>\n",
       "      <td>3.21</td>\n",
       "      <td>3.36</td>\n",
       "      <td>0</td>\n",
       "    </tr>\n",
       "    <tr>\n",
       "      <th>4</th>\n",
       "      <td>1</td>\n",
       "      <td>1</td>\n",
       "      <td>1</td>\n",
       "      <td>1</td>\n",
       "      <td>1</td>\n",
       "      <td>1</td>\n",
       "      <td>0</td>\n",
       "      <td>26</td>\n",
       "      <td>198.36</td>\n",
       "      <td>1.00</td>\n",
       "      <td>3</td>\n",
       "      <td>1.11</td>\n",
       "      <td>1.12</td>\n",
       "      <td>0</td>\n",
       "    </tr>\n",
       "  </tbody>\n",
       "</table>\n",
       "</div>"
      ],
      "text/plain": [
       "   gender  near_location  partner  promo_friends  phone  contract_period  \\\n",
       "0       1              1        1              1      0                6   \n",
       "1       0              1        0              0      1               12   \n",
       "2       0              1        1              0      1                1   \n",
       "3       0              1        1              1      1               12   \n",
       "4       1              1        1              1      1                1   \n",
       "\n",
       "   group_visits  age  avg_additional_charges_total  month_to_end_contract  \\\n",
       "0             1   29                         14.23                   5.00   \n",
       "1             1   31                        113.20                  12.00   \n",
       "2             0   28                        129.45                   1.00   \n",
       "3             1   33                         62.67                  12.00   \n",
       "4             0   26                        198.36                   1.00   \n",
       "\n",
       "   lifetime  avg_class_frequency_total  avg_class_frequency_current_month  \\\n",
       "0         3                       0.02                               0.00   \n",
       "1         7                       1.92                               1.91   \n",
       "2         2                       1.86                               1.74   \n",
       "3         2                       3.21                               3.36   \n",
       "4         3                       1.11                               1.12   \n",
       "\n",
       "   churn  \n",
       "0      0  \n",
       "1      0  \n",
       "2      0  \n",
       "3      0  \n",
       "4      0  "
      ]
     },
     "metadata": {},
     "output_type": "display_data"
    },
    {
     "name": "stdout",
     "output_type": "stream",
     "text": [
      "\n",
      "\u001b[1m === Случайные 5 строк данных === \u001b[0m\n"
     ]
    },
    {
     "data": {
      "text/html": [
       "<div>\n",
       "<style scoped>\n",
       "    .dataframe tbody tr th:only-of-type {\n",
       "        vertical-align: middle;\n",
       "    }\n",
       "\n",
       "    .dataframe tbody tr th {\n",
       "        vertical-align: top;\n",
       "    }\n",
       "\n",
       "    .dataframe thead th {\n",
       "        text-align: right;\n",
       "    }\n",
       "</style>\n",
       "<table border=\"1\" class=\"dataframe\">\n",
       "  <thead>\n",
       "    <tr style=\"text-align: right;\">\n",
       "      <th></th>\n",
       "      <th>gender</th>\n",
       "      <th>near_location</th>\n",
       "      <th>partner</th>\n",
       "      <th>promo_friends</th>\n",
       "      <th>phone</th>\n",
       "      <th>contract_period</th>\n",
       "      <th>group_visits</th>\n",
       "      <th>age</th>\n",
       "      <th>avg_additional_charges_total</th>\n",
       "      <th>month_to_end_contract</th>\n",
       "      <th>lifetime</th>\n",
       "      <th>avg_class_frequency_total</th>\n",
       "      <th>avg_class_frequency_current_month</th>\n",
       "      <th>churn</th>\n",
       "    </tr>\n",
       "  </thead>\n",
       "  <tbody>\n",
       "    <tr>\n",
       "      <th>2177</th>\n",
       "      <td>1</td>\n",
       "      <td>1</td>\n",
       "      <td>1</td>\n",
       "      <td>1</td>\n",
       "      <td>1</td>\n",
       "      <td>12</td>\n",
       "      <td>0</td>\n",
       "      <td>25</td>\n",
       "      <td>9.05</td>\n",
       "      <td>9.00</td>\n",
       "      <td>3</td>\n",
       "      <td>1.06</td>\n",
       "      <td>1.00</td>\n",
       "      <td>0</td>\n",
       "    </tr>\n",
       "    <tr>\n",
       "      <th>2382</th>\n",
       "      <td>0</td>\n",
       "      <td>1</td>\n",
       "      <td>1</td>\n",
       "      <td>0</td>\n",
       "      <td>1</td>\n",
       "      <td>1</td>\n",
       "      <td>0</td>\n",
       "      <td>21</td>\n",
       "      <td>228.46</td>\n",
       "      <td>1.00</td>\n",
       "      <td>0</td>\n",
       "      <td>1.26</td>\n",
       "      <td>0.31</td>\n",
       "      <td>1</td>\n",
       "    </tr>\n",
       "    <tr>\n",
       "      <th>1715</th>\n",
       "      <td>0</td>\n",
       "      <td>1</td>\n",
       "      <td>0</td>\n",
       "      <td>0</td>\n",
       "      <td>1</td>\n",
       "      <td>6</td>\n",
       "      <td>1</td>\n",
       "      <td>28</td>\n",
       "      <td>145.59</td>\n",
       "      <td>6.00</td>\n",
       "      <td>3</td>\n",
       "      <td>3.54</td>\n",
       "      <td>3.53</td>\n",
       "      <td>0</td>\n",
       "    </tr>\n",
       "    <tr>\n",
       "      <th>2303</th>\n",
       "      <td>1</td>\n",
       "      <td>0</td>\n",
       "      <td>0</td>\n",
       "      <td>0</td>\n",
       "      <td>1</td>\n",
       "      <td>1</td>\n",
       "      <td>0</td>\n",
       "      <td>30</td>\n",
       "      <td>257.43</td>\n",
       "      <td>1.00</td>\n",
       "      <td>1</td>\n",
       "      <td>2.15</td>\n",
       "      <td>1.51</td>\n",
       "      <td>1</td>\n",
       "    </tr>\n",
       "    <tr>\n",
       "      <th>822</th>\n",
       "      <td>0</td>\n",
       "      <td>1</td>\n",
       "      <td>1</td>\n",
       "      <td>1</td>\n",
       "      <td>1</td>\n",
       "      <td>1</td>\n",
       "      <td>1</td>\n",
       "      <td>29</td>\n",
       "      <td>460.90</td>\n",
       "      <td>1.00</td>\n",
       "      <td>10</td>\n",
       "      <td>3.16</td>\n",
       "      <td>3.15</td>\n",
       "      <td>0</td>\n",
       "    </tr>\n",
       "  </tbody>\n",
       "</table>\n",
       "</div>"
      ],
      "text/plain": [
       "      gender  near_location  partner  promo_friends  phone  contract_period  \\\n",
       "2177       1              1        1              1      1               12   \n",
       "2382       0              1        1              0      1                1   \n",
       "1715       0              1        0              0      1                6   \n",
       "2303       1              0        0              0      1                1   \n",
       "822        0              1        1              1      1                1   \n",
       "\n",
       "      group_visits  age  avg_additional_charges_total  month_to_end_contract  \\\n",
       "2177             0   25                          9.05                   9.00   \n",
       "2382             0   21                        228.46                   1.00   \n",
       "1715             1   28                        145.59                   6.00   \n",
       "2303             0   30                        257.43                   1.00   \n",
       "822              1   29                        460.90                   1.00   \n",
       "\n",
       "      lifetime  avg_class_frequency_total  avg_class_frequency_current_month  \\\n",
       "2177         3                       1.06                               1.00   \n",
       "2382         0                       1.26                               0.31   \n",
       "1715         3                       3.54                               3.53   \n",
       "2303         1                       2.15                               1.51   \n",
       "822         10                       3.16                               3.15   \n",
       "\n",
       "      churn  \n",
       "2177      0  \n",
       "2382      1  \n",
       "1715      0  \n",
       "2303      1  \n",
       "822       0  "
      ]
     },
     "metadata": {},
     "output_type": "display_data"
    },
    {
     "name": "stdout",
     "output_type": "stream",
     "text": [
      "\n",
      "\u001b[1m === Пропуски и уникальные значения по столбцам === \u001b[0m\n"
     ]
    },
    {
     "data": {
      "text/html": [
       "<style  type=\"text/css\" >\n",
       "</style><table id=\"T_9fdf3_\" ><thead>    <tr>        <th class=\"blank level0\" ></th>        <th class=\"col_heading level0 col0\" >nan_count</th>        <th class=\"col_heading level0 col1\" >nan_percent</th>        <th class=\"col_heading level0 col2\" >unique_values</th>    </tr></thead><tbody>\n",
       "                <tr>\n",
       "                        <th id=\"T_9fdf3_level0_row0\" class=\"row_heading level0 row0\" >gender</th>\n",
       "                        <td id=\"T_9fdf3_row0_col0\" class=\"data row0 col0\" >0</td>\n",
       "                        <td id=\"T_9fdf3_row0_col1\" class=\"data row0 col1\" >0.00%</td>\n",
       "                        <td id=\"T_9fdf3_row0_col2\" class=\"data row0 col2\" >2</td>\n",
       "            </tr>\n",
       "            <tr>\n",
       "                        <th id=\"T_9fdf3_level0_row1\" class=\"row_heading level0 row1\" >near_location</th>\n",
       "                        <td id=\"T_9fdf3_row1_col0\" class=\"data row1 col0\" >0</td>\n",
       "                        <td id=\"T_9fdf3_row1_col1\" class=\"data row1 col1\" >0.00%</td>\n",
       "                        <td id=\"T_9fdf3_row1_col2\" class=\"data row1 col2\" >2</td>\n",
       "            </tr>\n",
       "            <tr>\n",
       "                        <th id=\"T_9fdf3_level0_row2\" class=\"row_heading level0 row2\" >partner</th>\n",
       "                        <td id=\"T_9fdf3_row2_col0\" class=\"data row2 col0\" >0</td>\n",
       "                        <td id=\"T_9fdf3_row2_col1\" class=\"data row2 col1\" >0.00%</td>\n",
       "                        <td id=\"T_9fdf3_row2_col2\" class=\"data row2 col2\" >2</td>\n",
       "            </tr>\n",
       "            <tr>\n",
       "                        <th id=\"T_9fdf3_level0_row3\" class=\"row_heading level0 row3\" >promo_friends</th>\n",
       "                        <td id=\"T_9fdf3_row3_col0\" class=\"data row3 col0\" >0</td>\n",
       "                        <td id=\"T_9fdf3_row3_col1\" class=\"data row3 col1\" >0.00%</td>\n",
       "                        <td id=\"T_9fdf3_row3_col2\" class=\"data row3 col2\" >2</td>\n",
       "            </tr>\n",
       "            <tr>\n",
       "                        <th id=\"T_9fdf3_level0_row4\" class=\"row_heading level0 row4\" >phone</th>\n",
       "                        <td id=\"T_9fdf3_row4_col0\" class=\"data row4 col0\" >0</td>\n",
       "                        <td id=\"T_9fdf3_row4_col1\" class=\"data row4 col1\" >0.00%</td>\n",
       "                        <td id=\"T_9fdf3_row4_col2\" class=\"data row4 col2\" >2</td>\n",
       "            </tr>\n",
       "            <tr>\n",
       "                        <th id=\"T_9fdf3_level0_row5\" class=\"row_heading level0 row5\" >contract_period</th>\n",
       "                        <td id=\"T_9fdf3_row5_col0\" class=\"data row5 col0\" >0</td>\n",
       "                        <td id=\"T_9fdf3_row5_col1\" class=\"data row5 col1\" >0.00%</td>\n",
       "                        <td id=\"T_9fdf3_row5_col2\" class=\"data row5 col2\" >3</td>\n",
       "            </tr>\n",
       "            <tr>\n",
       "                        <th id=\"T_9fdf3_level0_row6\" class=\"row_heading level0 row6\" >group_visits</th>\n",
       "                        <td id=\"T_9fdf3_row6_col0\" class=\"data row6 col0\" >0</td>\n",
       "                        <td id=\"T_9fdf3_row6_col1\" class=\"data row6 col1\" >0.00%</td>\n",
       "                        <td id=\"T_9fdf3_row6_col2\" class=\"data row6 col2\" >2</td>\n",
       "            </tr>\n",
       "            <tr>\n",
       "                        <th id=\"T_9fdf3_level0_row7\" class=\"row_heading level0 row7\" >age</th>\n",
       "                        <td id=\"T_9fdf3_row7_col0\" class=\"data row7 col0\" >0</td>\n",
       "                        <td id=\"T_9fdf3_row7_col1\" class=\"data row7 col1\" >0.00%</td>\n",
       "                        <td id=\"T_9fdf3_row7_col2\" class=\"data row7 col2\" >23</td>\n",
       "            </tr>\n",
       "            <tr>\n",
       "                        <th id=\"T_9fdf3_level0_row8\" class=\"row_heading level0 row8\" >avg_additional_charges_total</th>\n",
       "                        <td id=\"T_9fdf3_row8_col0\" class=\"data row8 col0\" >0</td>\n",
       "                        <td id=\"T_9fdf3_row8_col1\" class=\"data row8 col1\" >0.00%</td>\n",
       "                        <td id=\"T_9fdf3_row8_col2\" class=\"data row8 col2\" >4000</td>\n",
       "            </tr>\n",
       "            <tr>\n",
       "                        <th id=\"T_9fdf3_level0_row9\" class=\"row_heading level0 row9\" >month_to_end_contract</th>\n",
       "                        <td id=\"T_9fdf3_row9_col0\" class=\"data row9 col0\" >0</td>\n",
       "                        <td id=\"T_9fdf3_row9_col1\" class=\"data row9 col1\" >0.00%</td>\n",
       "                        <td id=\"T_9fdf3_row9_col2\" class=\"data row9 col2\" >12</td>\n",
       "            </tr>\n",
       "            <tr>\n",
       "                        <th id=\"T_9fdf3_level0_row10\" class=\"row_heading level0 row10\" >lifetime</th>\n",
       "                        <td id=\"T_9fdf3_row10_col0\" class=\"data row10 col0\" >0</td>\n",
       "                        <td id=\"T_9fdf3_row10_col1\" class=\"data row10 col1\" >0.00%</td>\n",
       "                        <td id=\"T_9fdf3_row10_col2\" class=\"data row10 col2\" >29</td>\n",
       "            </tr>\n",
       "            <tr>\n",
       "                        <th id=\"T_9fdf3_level0_row11\" class=\"row_heading level0 row11\" >avg_class_frequency_total</th>\n",
       "                        <td id=\"T_9fdf3_row11_col0\" class=\"data row11 col0\" >0</td>\n",
       "                        <td id=\"T_9fdf3_row11_col1\" class=\"data row11 col1\" >0.00%</td>\n",
       "                        <td id=\"T_9fdf3_row11_col2\" class=\"data row11 col2\" >3913</td>\n",
       "            </tr>\n",
       "            <tr>\n",
       "                        <th id=\"T_9fdf3_level0_row12\" class=\"row_heading level0 row12\" >avg_class_frequency_current_month</th>\n",
       "                        <td id=\"T_9fdf3_row12_col0\" class=\"data row12 col0\" >0</td>\n",
       "                        <td id=\"T_9fdf3_row12_col1\" class=\"data row12 col1\" >0.00%</td>\n",
       "                        <td id=\"T_9fdf3_row12_col2\" class=\"data row12 col2\" >3820</td>\n",
       "            </tr>\n",
       "            <tr>\n",
       "                        <th id=\"T_9fdf3_level0_row13\" class=\"row_heading level0 row13\" >churn</th>\n",
       "                        <td id=\"T_9fdf3_row13_col0\" class=\"data row13 col0\" >0</td>\n",
       "                        <td id=\"T_9fdf3_row13_col1\" class=\"data row13 col1\" >0.00%</td>\n",
       "                        <td id=\"T_9fdf3_row13_col2\" class=\"data row13 col2\" >2</td>\n",
       "            </tr>\n",
       "    </tbody></table>"
      ],
      "text/plain": [
       "<pandas.io.formats.style.Styler at 0x7f3483bd2790>"
      ]
     },
     "metadata": {},
     "output_type": "display_data"
    },
    {
     "name": "stdout",
     "output_type": "stream",
     "text": [
      "\n",
      "\u001b[1m === Явные дубликаты === \u001b[0m\n",
      "\n",
      "Количество явных дубликатов: 0\n"
     ]
    }
   ],
   "source": [
    "data_look(gum_data)"
   ]
  },
  {
   "cell_type": "markdown",
   "metadata": {},
   "source": [
    "В таблице `gum_data` 14 столбцов.\n",
    "\n",
    "Описание данных:\n",
    "\n",
    "* `gender` - пол;\n",
    "* `near_location` - проживание или работа в районе, где находится фитнес-центр;\n",
    "* `partner` - сотрудник компании-партнёра клуба (сотрудничество с компаниями, чьи сотрудники могут получать скидки на абонемент - в таком случае фитнес-центр хранит информацию о работодателе клиента);\n",
    "* `promo_friends` - факт первоначальной записи в рамках акции \"приведи друга\" (использовал промо-код от знакомого при оплате первого абонемента);\n",
    "* `phone` - наличие контактного телефона;\n",
    "* `contract_period` - длительность текущего действующего абонемента (месяц, 6 месяцев, год);\n",
    "* `group_visits` - факт посещения групповых занятий;\n",
    "* `age` - возраст;\n",
    "* `avg_additional_charges_total` - суммарная выручка от других услуг фитнес-центра: кафе, спорттовары, косметический и массажный салон;\n",
    "* `month_to_end_contract` - срок до окончания текущего действующего абонемента (в месяцах);\n",
    "* `lifetime` - время с момента первого обращения в фитнес-центр (в месяцах);\n",
    "* `avg_class_frequency_total` - средняя частота посещений в неделю за все время с начала действия абонемента;\n",
    "* `avg_class_frequency_current_month` - средняя частота посещений в неделю за предыдущий месяц;\n",
    "* `churn` - факт оттока в текущем месяце.\n",
    "\n",
    "Всего в таблице 4000 строк, пропущенных значений нет.\n",
    "\n",
    "\n",
    "**Вывод:**\n",
    "\n",
    "* Пропуски не обнаружены.\n",
    "* Проверить на аномалии и дубликаты.\n",
    "* Перевести в целочисленный тип данных столбец `month_to_end_contract`."
   ]
  },
  {
   "cell_type": "markdown",
   "metadata": {},
   "source": [
    "## Предобработка и исследовательский анализ данных (EDA)"
   ]
  },
  {
   "cell_type": "markdown",
   "metadata": {},
   "source": [
    "### Предобработка данных"
   ]
  },
  {
   "cell_type": "markdown",
   "metadata": {},
   "source": [
    "Для более удобной дальнейшей работы посмотрим на данные в столбце `month_to_end_contract` и возможно заменим на `int`."
   ]
  },
  {
   "cell_type": "code",
   "execution_count": 5,
   "metadata": {
    "scrolled": false
   },
   "outputs": [
    {
     "data": {
      "text/plain": [
       "1.00     2207\n",
       "6.00      645\n",
       "12.00     524\n",
       "11.00     181\n",
       "5.00      130\n",
       "10.00      82\n",
       "9.00       73\n",
       "4.00       58\n",
       "8.00       38\n",
       "7.00       25\n",
       "3.00       23\n",
       "2.00       14\n",
       "Name: month_to_end_contract, dtype: int64"
      ]
     },
     "execution_count": 5,
     "metadata": {},
     "output_type": "execute_result"
    }
   ],
   "source": [
    "gum_data['month_to_end_contract'].value_counts()"
   ]
  },
  {
   "cell_type": "markdown",
   "metadata": {},
   "source": [
    "Все значения в столбце `month_to_end_contract` целочисленные, поэтому поменяем на тип `int`."
   ]
  },
  {
   "cell_type": "code",
   "execution_count": 6,
   "metadata": {
    "scrolled": true
   },
   "outputs": [],
   "source": [
    "gum_data['month_to_end_contract'] = gum_data['month_to_end_contract'].astype('int')"
   ]
  },
  {
   "cell_type": "code",
   "execution_count": 7,
   "metadata": {
    "scrolled": false
   },
   "outputs": [
    {
     "name": "stdout",
     "output_type": "stream",
     "text": [
      "<class 'pandas.core.frame.DataFrame'>\n",
      "RangeIndex: 4000 entries, 0 to 3999\n",
      "Data columns (total 14 columns):\n",
      " #   Column                             Non-Null Count  Dtype  \n",
      "---  ------                             --------------  -----  \n",
      " 0   gender                             4000 non-null   int64  \n",
      " 1   near_location                      4000 non-null   int64  \n",
      " 2   partner                            4000 non-null   int64  \n",
      " 3   promo_friends                      4000 non-null   int64  \n",
      " 4   phone                              4000 non-null   int64  \n",
      " 5   contract_period                    4000 non-null   int64  \n",
      " 6   group_visits                       4000 non-null   int64  \n",
      " 7   age                                4000 non-null   int64  \n",
      " 8   avg_additional_charges_total       4000 non-null   float64\n",
      " 9   month_to_end_contract              4000 non-null   int64  \n",
      " 10  lifetime                           4000 non-null   int64  \n",
      " 11  avg_class_frequency_total          4000 non-null   float64\n",
      " 12  avg_class_frequency_current_month  4000 non-null   float64\n",
      " 13  churn                              4000 non-null   int64  \n",
      "dtypes: float64(3), int64(11)\n",
      "memory usage: 437.6 KB\n"
     ]
    },
    {
     "data": {
      "text/html": [
       "<div>\n",
       "<style scoped>\n",
       "    .dataframe tbody tr th:only-of-type {\n",
       "        vertical-align: middle;\n",
       "    }\n",
       "\n",
       "    .dataframe tbody tr th {\n",
       "        vertical-align: top;\n",
       "    }\n",
       "\n",
       "    .dataframe thead th {\n",
       "        text-align: right;\n",
       "    }\n",
       "</style>\n",
       "<table border=\"1\" class=\"dataframe\">\n",
       "  <thead>\n",
       "    <tr style=\"text-align: right;\">\n",
       "      <th></th>\n",
       "      <th>gender</th>\n",
       "      <th>near_location</th>\n",
       "      <th>partner</th>\n",
       "      <th>promo_friends</th>\n",
       "      <th>phone</th>\n",
       "      <th>contract_period</th>\n",
       "      <th>group_visits</th>\n",
       "      <th>age</th>\n",
       "      <th>avg_additional_charges_total</th>\n",
       "      <th>month_to_end_contract</th>\n",
       "      <th>lifetime</th>\n",
       "      <th>avg_class_frequency_total</th>\n",
       "      <th>avg_class_frequency_current_month</th>\n",
       "      <th>churn</th>\n",
       "    </tr>\n",
       "  </thead>\n",
       "  <tbody>\n",
       "    <tr>\n",
       "      <th>2797</th>\n",
       "      <td>0</td>\n",
       "      <td>0</td>\n",
       "      <td>0</td>\n",
       "      <td>0</td>\n",
       "      <td>1</td>\n",
       "      <td>1</td>\n",
       "      <td>1</td>\n",
       "      <td>31</td>\n",
       "      <td>116.59</td>\n",
       "      <td>1</td>\n",
       "      <td>2</td>\n",
       "      <td>1.29</td>\n",
       "      <td>1.23</td>\n",
       "      <td>0</td>\n",
       "    </tr>\n",
       "    <tr>\n",
       "      <th>1425</th>\n",
       "      <td>1</td>\n",
       "      <td>1</td>\n",
       "      <td>0</td>\n",
       "      <td>0</td>\n",
       "      <td>1</td>\n",
       "      <td>1</td>\n",
       "      <td>0</td>\n",
       "      <td>33</td>\n",
       "      <td>34.96</td>\n",
       "      <td>1</td>\n",
       "      <td>4</td>\n",
       "      <td>1.89</td>\n",
       "      <td>1.79</td>\n",
       "      <td>0</td>\n",
       "    </tr>\n",
       "    <tr>\n",
       "      <th>1512</th>\n",
       "      <td>1</td>\n",
       "      <td>1</td>\n",
       "      <td>1</td>\n",
       "      <td>1</td>\n",
       "      <td>1</td>\n",
       "      <td>6</td>\n",
       "      <td>0</td>\n",
       "      <td>28</td>\n",
       "      <td>146.29</td>\n",
       "      <td>6</td>\n",
       "      <td>1</td>\n",
       "      <td>1.06</td>\n",
       "      <td>1.08</td>\n",
       "      <td>0</td>\n",
       "    </tr>\n",
       "    <tr>\n",
       "      <th>3278</th>\n",
       "      <td>1</td>\n",
       "      <td>0</td>\n",
       "      <td>0</td>\n",
       "      <td>0</td>\n",
       "      <td>1</td>\n",
       "      <td>1</td>\n",
       "      <td>0</td>\n",
       "      <td>25</td>\n",
       "      <td>71.90</td>\n",
       "      <td>1</td>\n",
       "      <td>0</td>\n",
       "      <td>1.17</td>\n",
       "      <td>1.06</td>\n",
       "      <td>1</td>\n",
       "    </tr>\n",
       "    <tr>\n",
       "      <th>2144</th>\n",
       "      <td>1</td>\n",
       "      <td>1</td>\n",
       "      <td>1</td>\n",
       "      <td>0</td>\n",
       "      <td>1</td>\n",
       "      <td>1</td>\n",
       "      <td>0</td>\n",
       "      <td>28</td>\n",
       "      <td>351.61</td>\n",
       "      <td>1</td>\n",
       "      <td>5</td>\n",
       "      <td>0.67</td>\n",
       "      <td>0.78</td>\n",
       "      <td>0</td>\n",
       "    </tr>\n",
       "    <tr>\n",
       "      <th>1422</th>\n",
       "      <td>0</td>\n",
       "      <td>1</td>\n",
       "      <td>1</td>\n",
       "      <td>1</td>\n",
       "      <td>1</td>\n",
       "      <td>12</td>\n",
       "      <td>0</td>\n",
       "      <td>33</td>\n",
       "      <td>114.16</td>\n",
       "      <td>12</td>\n",
       "      <td>3</td>\n",
       "      <td>1.99</td>\n",
       "      <td>1.95</td>\n",
       "      <td>0</td>\n",
       "    </tr>\n",
       "    <tr>\n",
       "      <th>808</th>\n",
       "      <td>0</td>\n",
       "      <td>1</td>\n",
       "      <td>0</td>\n",
       "      <td>0</td>\n",
       "      <td>1</td>\n",
       "      <td>1</td>\n",
       "      <td>0</td>\n",
       "      <td>35</td>\n",
       "      <td>224.02</td>\n",
       "      <td>1</td>\n",
       "      <td>3</td>\n",
       "      <td>4.21</td>\n",
       "      <td>4.43</td>\n",
       "      <td>0</td>\n",
       "    </tr>\n",
       "    <tr>\n",
       "      <th>1142</th>\n",
       "      <td>1</td>\n",
       "      <td>1</td>\n",
       "      <td>0</td>\n",
       "      <td>0</td>\n",
       "      <td>1</td>\n",
       "      <td>1</td>\n",
       "      <td>1</td>\n",
       "      <td>24</td>\n",
       "      <td>212.09</td>\n",
       "      <td>1</td>\n",
       "      <td>0</td>\n",
       "      <td>2.10</td>\n",
       "      <td>1.48</td>\n",
       "      <td>1</td>\n",
       "    </tr>\n",
       "    <tr>\n",
       "      <th>3724</th>\n",
       "      <td>0</td>\n",
       "      <td>1</td>\n",
       "      <td>1</td>\n",
       "      <td>0</td>\n",
       "      <td>1</td>\n",
       "      <td>1</td>\n",
       "      <td>0</td>\n",
       "      <td>36</td>\n",
       "      <td>336.75</td>\n",
       "      <td>1</td>\n",
       "      <td>6</td>\n",
       "      <td>2.82</td>\n",
       "      <td>2.97</td>\n",
       "      <td>0</td>\n",
       "    </tr>\n",
       "    <tr>\n",
       "      <th>1020</th>\n",
       "      <td>1</td>\n",
       "      <td>0</td>\n",
       "      <td>1</td>\n",
       "      <td>1</td>\n",
       "      <td>1</td>\n",
       "      <td>1</td>\n",
       "      <td>0</td>\n",
       "      <td>28</td>\n",
       "      <td>196.66</td>\n",
       "      <td>1</td>\n",
       "      <td>4</td>\n",
       "      <td>2.59</td>\n",
       "      <td>2.44</td>\n",
       "      <td>0</td>\n",
       "    </tr>\n",
       "  </tbody>\n",
       "</table>\n",
       "</div>"
      ],
      "text/plain": [
       "      gender  near_location  partner  promo_friends  phone  contract_period  \\\n",
       "2797       0              0        0              0      1                1   \n",
       "1425       1              1        0              0      1                1   \n",
       "1512       1              1        1              1      1                6   \n",
       "3278       1              0        0              0      1                1   \n",
       "2144       1              1        1              0      1                1   \n",
       "1422       0              1        1              1      1               12   \n",
       "808        0              1        0              0      1                1   \n",
       "1142       1              1        0              0      1                1   \n",
       "3724       0              1        1              0      1                1   \n",
       "1020       1              0        1              1      1                1   \n",
       "\n",
       "      group_visits  age  avg_additional_charges_total  month_to_end_contract  \\\n",
       "2797             1   31                        116.59                      1   \n",
       "1425             0   33                         34.96                      1   \n",
       "1512             0   28                        146.29                      6   \n",
       "3278             0   25                         71.90                      1   \n",
       "2144             0   28                        351.61                      1   \n",
       "1422             0   33                        114.16                     12   \n",
       "808              0   35                        224.02                      1   \n",
       "1142             1   24                        212.09                      1   \n",
       "3724             0   36                        336.75                      1   \n",
       "1020             0   28                        196.66                      1   \n",
       "\n",
       "      lifetime  avg_class_frequency_total  avg_class_frequency_current_month  \\\n",
       "2797         2                       1.29                               1.23   \n",
       "1425         4                       1.89                               1.79   \n",
       "1512         1                       1.06                               1.08   \n",
       "3278         0                       1.17                               1.06   \n",
       "2144         5                       0.67                               0.78   \n",
       "1422         3                       1.99                               1.95   \n",
       "808          3                       4.21                               4.43   \n",
       "1142         0                       2.10                               1.48   \n",
       "3724         6                       2.82                               2.97   \n",
       "1020         4                       2.59                               2.44   \n",
       "\n",
       "      churn  \n",
       "2797      0  \n",
       "1425      0  \n",
       "1512      0  \n",
       "3278      1  \n",
       "2144      0  \n",
       "1422      0  \n",
       "808       0  \n",
       "1142      1  \n",
       "3724      0  \n",
       "1020      0  "
      ]
     },
     "execution_count": 7,
     "metadata": {},
     "output_type": "execute_result"
    }
   ],
   "source": [
    "gum_data.info()\n",
    "gum_data.sample(10)"
   ]
  },
  {
   "cell_type": "markdown",
   "metadata": {},
   "source": [
    "**Вывод:**\n",
    "\n",
    "* Изменили тип данных в столбце `month_to_end_contract` на `int`."
   ]
  },
  {
   "cell_type": "markdown",
   "metadata": {},
   "source": [
    "### Средние значения и стандартные отклонения"
   ]
  },
  {
   "cell_type": "markdown",
   "metadata": {},
   "source": [
    "Посмотрим на разброс данных, средние значения и стандартные отклонения. Для этого используем метод `describe`."
   ]
  },
  {
   "cell_type": "code",
   "execution_count": 8,
   "metadata": {
    "scrolled": false
   },
   "outputs": [
    {
     "data": {
      "text/html": [
       "<div>\n",
       "<style scoped>\n",
       "    .dataframe tbody tr th:only-of-type {\n",
       "        vertical-align: middle;\n",
       "    }\n",
       "\n",
       "    .dataframe tbody tr th {\n",
       "        vertical-align: top;\n",
       "    }\n",
       "\n",
       "    .dataframe thead th {\n",
       "        text-align: right;\n",
       "    }\n",
       "</style>\n",
       "<table border=\"1\" class=\"dataframe\">\n",
       "  <thead>\n",
       "    <tr style=\"text-align: right;\">\n",
       "      <th></th>\n",
       "      <th>count</th>\n",
       "      <th>mean</th>\n",
       "      <th>std</th>\n",
       "      <th>min</th>\n",
       "      <th>25%</th>\n",
       "      <th>50%</th>\n",
       "      <th>75%</th>\n",
       "      <th>max</th>\n",
       "    </tr>\n",
       "  </thead>\n",
       "  <tbody>\n",
       "    <tr>\n",
       "      <th>gender</th>\n",
       "      <td>4000.00</td>\n",
       "      <td>0.51</td>\n",
       "      <td>0.50</td>\n",
       "      <td>0.00</td>\n",
       "      <td>0.00</td>\n",
       "      <td>1.00</td>\n",
       "      <td>1.00</td>\n",
       "      <td>1.00</td>\n",
       "    </tr>\n",
       "    <tr>\n",
       "      <th>near_location</th>\n",
       "      <td>4000.00</td>\n",
       "      <td>0.85</td>\n",
       "      <td>0.36</td>\n",
       "      <td>0.00</td>\n",
       "      <td>1.00</td>\n",
       "      <td>1.00</td>\n",
       "      <td>1.00</td>\n",
       "      <td>1.00</td>\n",
       "    </tr>\n",
       "    <tr>\n",
       "      <th>partner</th>\n",
       "      <td>4000.00</td>\n",
       "      <td>0.49</td>\n",
       "      <td>0.50</td>\n",
       "      <td>0.00</td>\n",
       "      <td>0.00</td>\n",
       "      <td>0.00</td>\n",
       "      <td>1.00</td>\n",
       "      <td>1.00</td>\n",
       "    </tr>\n",
       "    <tr>\n",
       "      <th>promo_friends</th>\n",
       "      <td>4000.00</td>\n",
       "      <td>0.31</td>\n",
       "      <td>0.46</td>\n",
       "      <td>0.00</td>\n",
       "      <td>0.00</td>\n",
       "      <td>0.00</td>\n",
       "      <td>1.00</td>\n",
       "      <td>1.00</td>\n",
       "    </tr>\n",
       "    <tr>\n",
       "      <th>phone</th>\n",
       "      <td>4000.00</td>\n",
       "      <td>0.90</td>\n",
       "      <td>0.30</td>\n",
       "      <td>0.00</td>\n",
       "      <td>1.00</td>\n",
       "      <td>1.00</td>\n",
       "      <td>1.00</td>\n",
       "      <td>1.00</td>\n",
       "    </tr>\n",
       "    <tr>\n",
       "      <th>contract_period</th>\n",
       "      <td>4000.00</td>\n",
       "      <td>4.68</td>\n",
       "      <td>4.55</td>\n",
       "      <td>1.00</td>\n",
       "      <td>1.00</td>\n",
       "      <td>1.00</td>\n",
       "      <td>6.00</td>\n",
       "      <td>12.00</td>\n",
       "    </tr>\n",
       "    <tr>\n",
       "      <th>group_visits</th>\n",
       "      <td>4000.00</td>\n",
       "      <td>0.41</td>\n",
       "      <td>0.49</td>\n",
       "      <td>0.00</td>\n",
       "      <td>0.00</td>\n",
       "      <td>0.00</td>\n",
       "      <td>1.00</td>\n",
       "      <td>1.00</td>\n",
       "    </tr>\n",
       "    <tr>\n",
       "      <th>age</th>\n",
       "      <td>4000.00</td>\n",
       "      <td>29.18</td>\n",
       "      <td>3.26</td>\n",
       "      <td>18.00</td>\n",
       "      <td>27.00</td>\n",
       "      <td>29.00</td>\n",
       "      <td>31.00</td>\n",
       "      <td>41.00</td>\n",
       "    </tr>\n",
       "    <tr>\n",
       "      <th>avg_additional_charges_total</th>\n",
       "      <td>4000.00</td>\n",
       "      <td>146.94</td>\n",
       "      <td>96.36</td>\n",
       "      <td>0.15</td>\n",
       "      <td>68.87</td>\n",
       "      <td>136.22</td>\n",
       "      <td>210.95</td>\n",
       "      <td>552.59</td>\n",
       "    </tr>\n",
       "    <tr>\n",
       "      <th>month_to_end_contract</th>\n",
       "      <td>4000.00</td>\n",
       "      <td>4.32</td>\n",
       "      <td>4.19</td>\n",
       "      <td>1.00</td>\n",
       "      <td>1.00</td>\n",
       "      <td>1.00</td>\n",
       "      <td>6.00</td>\n",
       "      <td>12.00</td>\n",
       "    </tr>\n",
       "    <tr>\n",
       "      <th>lifetime</th>\n",
       "      <td>4000.00</td>\n",
       "      <td>3.72</td>\n",
       "      <td>3.75</td>\n",
       "      <td>0.00</td>\n",
       "      <td>1.00</td>\n",
       "      <td>3.00</td>\n",
       "      <td>5.00</td>\n",
       "      <td>31.00</td>\n",
       "    </tr>\n",
       "    <tr>\n",
       "      <th>avg_class_frequency_total</th>\n",
       "      <td>4000.00</td>\n",
       "      <td>1.88</td>\n",
       "      <td>0.97</td>\n",
       "      <td>0.00</td>\n",
       "      <td>1.18</td>\n",
       "      <td>1.83</td>\n",
       "      <td>2.54</td>\n",
       "      <td>6.02</td>\n",
       "    </tr>\n",
       "    <tr>\n",
       "      <th>avg_class_frequency_current_month</th>\n",
       "      <td>4000.00</td>\n",
       "      <td>1.77</td>\n",
       "      <td>1.05</td>\n",
       "      <td>0.00</td>\n",
       "      <td>0.96</td>\n",
       "      <td>1.72</td>\n",
       "      <td>2.51</td>\n",
       "      <td>6.15</td>\n",
       "    </tr>\n",
       "    <tr>\n",
       "      <th>churn</th>\n",
       "      <td>4000.00</td>\n",
       "      <td>0.27</td>\n",
       "      <td>0.44</td>\n",
       "      <td>0.00</td>\n",
       "      <td>0.00</td>\n",
       "      <td>0.00</td>\n",
       "      <td>1.00</td>\n",
       "      <td>1.00</td>\n",
       "    </tr>\n",
       "  </tbody>\n",
       "</table>\n",
       "</div>"
      ],
      "text/plain": [
       "                                    count   mean   std   min   25%    50%  \\\n",
       "gender                            4000.00   0.51  0.50  0.00  0.00   1.00   \n",
       "near_location                     4000.00   0.85  0.36  0.00  1.00   1.00   \n",
       "partner                           4000.00   0.49  0.50  0.00  0.00   0.00   \n",
       "promo_friends                     4000.00   0.31  0.46  0.00  0.00   0.00   \n",
       "phone                             4000.00   0.90  0.30  0.00  1.00   1.00   \n",
       "contract_period                   4000.00   4.68  4.55  1.00  1.00   1.00   \n",
       "group_visits                      4000.00   0.41  0.49  0.00  0.00   0.00   \n",
       "age                               4000.00  29.18  3.26 18.00 27.00  29.00   \n",
       "avg_additional_charges_total      4000.00 146.94 96.36  0.15 68.87 136.22   \n",
       "month_to_end_contract             4000.00   4.32  4.19  1.00  1.00   1.00   \n",
       "lifetime                          4000.00   3.72  3.75  0.00  1.00   3.00   \n",
       "avg_class_frequency_total         4000.00   1.88  0.97  0.00  1.18   1.83   \n",
       "avg_class_frequency_current_month 4000.00   1.77  1.05  0.00  0.96   1.72   \n",
       "churn                             4000.00   0.27  0.44  0.00  0.00   0.00   \n",
       "\n",
       "                                     75%    max  \n",
       "gender                              1.00   1.00  \n",
       "near_location                       1.00   1.00  \n",
       "partner                             1.00   1.00  \n",
       "promo_friends                       1.00   1.00  \n",
       "phone                               1.00   1.00  \n",
       "contract_period                     6.00  12.00  \n",
       "group_visits                        1.00   1.00  \n",
       "age                                31.00  41.00  \n",
       "avg_additional_charges_total      210.95 552.59  \n",
       "month_to_end_contract               6.00  12.00  \n",
       "lifetime                            5.00  31.00  \n",
       "avg_class_frequency_total           2.54   6.02  \n",
       "avg_class_frequency_current_month   2.51   6.15  \n",
       "churn                               1.00   1.00  "
      ]
     },
     "execution_count": 8,
     "metadata": {},
     "output_type": "execute_result"
    }
   ],
   "source": [
    "gum_data.describe().T"
   ]
  },
  {
   "cell_type": "markdown",
   "metadata": {},
   "source": [
    "Данные равномерны, стандартные отклонения не очень далеко от средних (исключение составляет: `age` (возраст) и `avg_additional_charges_total` (суммарная выручка от других услуг фитнес-центра: кафе, спорттовары, косметический и массажный салон), но это вполне объяснимо, т.к. возраст клиента и его страты на другие услуги фитнес-клуба могут быть различными). Выбросы так же не наблюдаются.\n",
    "\n",
    "* Распределение по по полу практическии равно.\n",
    "* Большинство клиентов живет (работает) рядом с фитнес-клубом.\n",
    "* Практически половина клиентов является сотрудниками партнерских организаций.\n",
    "* Около 31% клиентов пришли по акции \"Приведи друга\"ю\n",
    "* Известны мобильные номера 91% клиентов.\n",
    "* Средняя длительность аббонементов клиентов - 4,7 месяца.\n",
    "* 41% клиентов посещают групповые занятия.\n",
    "* Средний возраст клиентов - 29 лет.\n",
    "* Средние дополнительные расходы на клиента - 147.\n",
    "* Средний срок до окончания договора - 4,3 месяца.\n",
    "* Среднее время с момента первого обращения в фитнес-клуб - 3,7 месяца.\n",
    "* Средняя частота посещений за все время - 1,88 раз в неделю.\n",
    "* Средняя частота посещений за последний месяц - 1,77 раз в неделю.\n",
    "* 27% клиентов ушли за текущий месяц.\n",
    "\n",
    "Посмотрим на средние значения признаков в двух группах - тех, кто ушел в отток и тех, кто остался."
   ]
  },
  {
   "cell_type": "code",
   "execution_count": 9,
   "metadata": {},
   "outputs": [
    {
     "data": {
      "text/html": [
       "<div>\n",
       "<style scoped>\n",
       "    .dataframe tbody tr th:only-of-type {\n",
       "        vertical-align: middle;\n",
       "    }\n",
       "\n",
       "    .dataframe tbody tr th {\n",
       "        vertical-align: top;\n",
       "    }\n",
       "\n",
       "    .dataframe thead th {\n",
       "        text-align: right;\n",
       "    }\n",
       "</style>\n",
       "<table border=\"1\" class=\"dataframe\">\n",
       "  <thead>\n",
       "    <tr style=\"text-align: right;\">\n",
       "      <th>churn</th>\n",
       "      <th>0</th>\n",
       "      <th>1</th>\n",
       "    </tr>\n",
       "  </thead>\n",
       "  <tbody>\n",
       "    <tr>\n",
       "      <th>gender</th>\n",
       "      <td>0.51</td>\n",
       "      <td>0.51</td>\n",
       "    </tr>\n",
       "    <tr>\n",
       "      <th>near_location</th>\n",
       "      <td>0.87</td>\n",
       "      <td>0.77</td>\n",
       "    </tr>\n",
       "    <tr>\n",
       "      <th>partner</th>\n",
       "      <td>0.53</td>\n",
       "      <td>0.36</td>\n",
       "    </tr>\n",
       "    <tr>\n",
       "      <th>promo_friends</th>\n",
       "      <td>0.35</td>\n",
       "      <td>0.18</td>\n",
       "    </tr>\n",
       "    <tr>\n",
       "      <th>phone</th>\n",
       "      <td>0.90</td>\n",
       "      <td>0.90</td>\n",
       "    </tr>\n",
       "    <tr>\n",
       "      <th>contract_period</th>\n",
       "      <td>5.75</td>\n",
       "      <td>1.73</td>\n",
       "    </tr>\n",
       "    <tr>\n",
       "      <th>group_visits</th>\n",
       "      <td>0.46</td>\n",
       "      <td>0.27</td>\n",
       "    </tr>\n",
       "    <tr>\n",
       "      <th>age</th>\n",
       "      <td>29.98</td>\n",
       "      <td>26.99</td>\n",
       "    </tr>\n",
       "    <tr>\n",
       "      <th>avg_additional_charges_total</th>\n",
       "      <td>158.45</td>\n",
       "      <td>115.08</td>\n",
       "    </tr>\n",
       "    <tr>\n",
       "      <th>month_to_end_contract</th>\n",
       "      <td>5.28</td>\n",
       "      <td>1.66</td>\n",
       "    </tr>\n",
       "    <tr>\n",
       "      <th>lifetime</th>\n",
       "      <td>4.71</td>\n",
       "      <td>0.99</td>\n",
       "    </tr>\n",
       "    <tr>\n",
       "      <th>avg_class_frequency_total</th>\n",
       "      <td>2.02</td>\n",
       "      <td>1.47</td>\n",
       "    </tr>\n",
       "    <tr>\n",
       "      <th>avg_class_frequency_current_month</th>\n",
       "      <td>2.03</td>\n",
       "      <td>1.04</td>\n",
       "    </tr>\n",
       "  </tbody>\n",
       "</table>\n",
       "</div>"
      ],
      "text/plain": [
       "churn                                  0      1\n",
       "gender                              0.51   0.51\n",
       "near_location                       0.87   0.77\n",
       "partner                             0.53   0.36\n",
       "promo_friends                       0.35   0.18\n",
       "phone                               0.90   0.90\n",
       "contract_period                     5.75   1.73\n",
       "group_visits                        0.46   0.27\n",
       "age                                29.98  26.99\n",
       "avg_additional_charges_total      158.45 115.08\n",
       "month_to_end_contract               5.28   1.66\n",
       "lifetime                            4.71   0.99\n",
       "avg_class_frequency_total           2.02   1.47\n",
       "avg_class_frequency_current_month   2.03   1.04"
      ]
     },
     "execution_count": 9,
     "metadata": {},
     "output_type": "execute_result"
    }
   ],
   "source": [
    "gum_data.groupby('churn').mean().T"
   ]
  },
  {
   "cell_type": "markdown",
   "metadata": {},
   "source": [
    "**Вывод**\n",
    "\n",
    "* Распределение по полу не отличается, это говорит о том, что этот признак не влияет на отток/приток клиентов.\n",
    "* Ближе живущие клиенты чуть реже попадают в отток. Можно сказать, что этот признак оказывает слабое влияние.\n",
    "* Среди партнеров компаний отток клиентов меньше.\n",
    "* Клиенты пришедшие по акции \"Приведи друга\" почти в два раза реже уходят. Этот показатель так же оказывает положительное влияние на клиентов.\n",
    "* Наличее мобильного номера клиента не оказывает никакого вляние на их отток. Показатель не оказывает никакого влияния.\n",
    "* Средняя длительность абонемента больше у оставшихся клиентов, это вполне логично, если клиент купил обонемент на год, то он будет ходить, чтобы не потерять деньги потраченные на приобретение абонемента. У большей части клиентов которые ушли в отток средний срок абонемента около 2-х месяцев. Влияние признака на клиентов высокое.\n",
    "* Оставшиеся пользователи чаще ходят на групповые занятия. Этот признак так же оказывает сильное влияение на клиентов. Вполне возможно, что на групповых занятиях многие клиенты заводят новые знакомства, а это способствует посещению фитнес-клуба в целом.\n",
    "* Возраст не оказывает сильное влияние на отток клиентов. Разница в среднем возрасте незначительная.\n",
    "* Различие в выручке незначительное. Но клиенты которые остались тратят немного больше на дополнительные услуги в фитнес-клубе.\n",
    "* Оставшееся время до конца абонемента намного больше у оставшихся клиентов, что вполне логично.\n",
    "* Среди клиентов которые ходят уже продолжительное время отток значительно меньше, возможно все дело в привычке.\n",
    "* Клиенты которые остались чаще посещают фитнес-клуб в неделю. Посещение в предыдущем месяце распределено приблизительно так же. Возможно дело в привычке.\n",
    "\n",
    "Средний возраст клиентов в двух наших группах отличается незначительно. Посмотрим имеет ли возраст статистическую разницу в двух наших группах.\n",
    "\n",
    "Гипотезы:\n",
    "* Н0: Средний возраст клиентов оставшихся, равен среднему возрасту клиентов попавших в отток.\n",
    "* Н1: Средний возраст оставшихся клиентов выше, чем у клиентов попавших в отток."
   ]
  },
  {
   "cell_type": "code",
   "execution_count": 10,
   "metadata": {},
   "outputs": [
    {
     "data": {
      "text/plain": [
       "9.056611113047065"
      ]
     },
     "execution_count": 10,
     "metadata": {},
     "output_type": "execute_result"
    }
   ],
   "source": [
    "churn_no_data = gum_data.query('churn == 0')['age'] # отфильтруем данные по оставшимся клиентам\n",
    "np.var(churn_no_data) # расчитаем дисперсию"
   ]
  },
  {
   "cell_type": "code",
   "execution_count": 11,
   "metadata": {},
   "outputs": [
    {
     "data": {
      "text/plain": [
       "2939"
      ]
     },
     "execution_count": 11,
     "metadata": {},
     "output_type": "execute_result"
    }
   ],
   "source": [
    "churn_no_data.count() # посмотрим на количество записей оставшихся клиентов"
   ]
  },
  {
   "cell_type": "code",
   "execution_count": 12,
   "metadata": {},
   "outputs": [
    {
     "data": {
      "text/plain": [
       "8.374067819646253"
      ]
     },
     "execution_count": 12,
     "metadata": {},
     "output_type": "execute_result"
    }
   ],
   "source": [
    "churn_data = gum_data.query('churn == 1')['age'] # отфильтруем данные по ушедшим клиентам (отток)\n",
    "np.var(churn_data) # расчитаем дисперсию"
   ]
  },
  {
   "cell_type": "code",
   "execution_count": 13,
   "metadata": {},
   "outputs": [
    {
     "data": {
      "text/plain": [
       "1061"
      ]
     },
     "execution_count": 13,
     "metadata": {},
     "output_type": "execute_result"
    }
   ],
   "source": [
    "churn_data.count() # посмотрим на количество записей оставшихся клиентов"
   ]
  },
  {
   "cell_type": "markdown",
   "metadata": {},
   "source": [
    "Мы имеем небольшую разницу в дисперсиях, но количество данных польльзователей попавших в отток намного меньше оставшихся клиентов, поэтому применим дополнительный параметр `equal_var = False`."
   ]
  },
  {
   "cell_type": "code",
   "execution_count": 14,
   "metadata": {
    "scrolled": true
   },
   "outputs": [
    {
     "name": "stdout",
     "output_type": "stream",
     "text": [
      "p-значение: 1.4384150241611314e-149\n",
      "Отвергаем нулевую гипотезу\n"
     ]
    }
   ],
   "source": [
    "alpha = .05 # критический уровень статистической значимости\n",
    "\n",
    "results = st.ttest_ind(churn_no_data, churn_data, equal_var = False)\n",
    "\n",
    "print('p-значение:', results.pvalue)\n",
    "\n",
    "if results.pvalue < alpha:\n",
    "    print(\"Отвергаем нулевую гипотезу\")\n",
    "else:\n",
    "    print(\"Не получилось отвергнуть нулевую гипотезу\") "
   ]
  },
  {
   "cell_type": "markdown",
   "metadata": {},
   "source": [
    "После проведения теста, мы еще раз подтвердили, что более взрослые клиенты не попадают в отток, а значит необходимо соредоточится на данной группе.\n",
    "\n",
    "Далее посмотрим на графическое распределение."
   ]
  },
  {
   "cell_type": "markdown",
   "metadata": {},
   "source": [
    "### Столбчатые гистограммы и распределения признаков для тех, кто ушёл/остался"
   ]
  },
  {
   "cell_type": "code",
   "execution_count": 15,
   "metadata": {},
   "outputs": [],
   "source": [
    "# список количественных переменных\n",
    "\n",
    "histplot_columns = ['contract_period', 'age', 'avg_additional_charges_total',\n",
    "                    'month_to_end_contract', 'lifetime', 'avg_class_frequency_total',\n",
    "                    'avg_class_frequency_current_month']\n",
    "\n",
    "# список категориальных переменных\n",
    "\n",
    "countplot_columns = ['gender', 'near_location', 'partner', 'promo_friends', 'phone', 'group_visits']"
   ]
  },
  {
   "cell_type": "code",
   "execution_count": 16,
   "metadata": {
    "scrolled": false
   },
   "outputs": [
    {
     "data": {
      "image/png": "[encoded data removed]",
      "text/plain": [
       "<Figure size 1080x1440 with 8 Axes>"
      ]
     },
     "metadata": {
      "needs_background": "light"
     },
     "output_type": "display_data"
    }
   ],
   "source": [
    "# задаем цикл для построения гистограмм по количественным переменным\n",
    "\n",
    "fig, axes = plt.subplots(4, 2, figsize=(15, 20))\n",
    "axes[3,1].set_axis_off()\n",
    "\n",
    "axes = axes.ravel()\n",
    "\n",
    "for column, ax in zip(histplot_columns, axes):\n",
    "    sns.histplot(x=gum_data[column], ax=ax, data=gum_data, hue='churn', stat='density', common_norm=False,\n",
    "                 palette='pastel')\n",
    "    ax.set_title(f'Распределение признака {column}', fontsize = 18)\n",
    "    ax.set_xlabel(column, fontsize = 15)\n",
    "    ax.set_ylabel('Количество записей', fontsize = 15)\n",
    "    ax.legend(['Отток', 'Остались'])\n",
    "\n",
    "fig.tight_layout()\n",
    "plt.show()"
   ]
  },
  {
   "cell_type": "markdown",
   "metadata": {},
   "source": [
    "Гистограммы показывают, что чаще уходят молодые люди (от 27 до 29 лет), время с момента первого обращения которых в фитнес-центр составляет 1-2 месяца, с абонементом на 1 месяц. Суммарная выручка от других услуг фитнес-центра на долю ушедших относительно доли постоянных клиетов невелика."
   ]
  },
  {
   "cell_type": "code",
   "execution_count": 17,
   "metadata": {
    "scrolled": false
   },
   "outputs": [
    {
     "data": {
      "image/png": "[encoded data removed]",
      "text/plain": [
       "<Figure size 1080x720 with 6 Axes>"
      ]
     },
     "metadata": {
      "needs_background": "light"
     },
     "output_type": "display_data"
    }
   ],
   "source": [
    "# задаем цикл для построения гистограмм по категориальным переменным\n",
    "\n",
    "fig, axes = plt.subplots(2, 3, figsize=(15, 10))\n",
    "\n",
    "axes = axes.ravel()\n",
    "\n",
    "for column, ax in zip(countplot_columns, axes): \n",
    "    sns.countplot(x=gum_data[column], ax=ax, data=gum_data, hue='churn', dodge=False, palette='pastel', alpha=.5)\n",
    "    ax.set_title(f'Распределение признака {column}', fontsize = 15)\n",
    "    ax.set_xlabel(column, fontsize = 15)\n",
    "    ax.set_ylabel('Количество записей', fontsize = 15)\n",
    "    ax.legend(['Остались', 'Отток'])\n",
    "\n",
    "fig.tight_layout()\n",
    "plt.show()"
   ]
  },
  {
   "cell_type": "markdown",
   "metadata": {},
   "source": [
    "Данные графики показывают, что чаще остаются клиенты, которые живут или работают неподалеку, приходящие по акции \"приведи друга\" и посещающие групповые занятия. От пола клиента отток не зависит, доли мужчин и женщин практически равны.\n",
    "\n",
    "В наши графики лишь наглядно подтверждают выводы сделанные в пп.3.2.."
   ]
  },
  {
   "cell_type": "markdown",
   "metadata": {},
   "source": [
    "### Матрица корреляций"
   ]
  },
  {
   "cell_type": "markdown",
   "metadata": {},
   "source": [
    "Построим матрицу корреляций и отобразим её."
   ]
  },
  {
   "cell_type": "code",
   "execution_count": 18,
   "metadata": {},
   "outputs": [
    {
     "data": {
      "image/png": "[encoded data removed]",
      "text/plain": [
       "<Figure size 1080x1080 with 2 Axes>"
      ]
     },
     "metadata": {
      "needs_background": "light"
     },
     "output_type": "display_data"
    }
   ],
   "source": [
    "# строим матрицу корреляции\n",
    "\n",
    "plt.figure(figsize=(15, 15))\n",
    "sns.heatmap(gum_data.corr(), annot=True, square=True, linewidths=1, cmap='Pastel1')\n",
    "plt.title('Матрица корреляций признаков', fontsize=18)\n",
    "plt.xlabel('Признаки', fontsize = 14)\n",
    "plt.ylabel('Признаки', fontsize = 14)\n",
    "plt.show()"
   ]
  },
  {
   "cell_type": "markdown",
   "metadata": {},
   "source": [
    "**Вывод**\n",
    "\n",
    "* Видна сильная корреляция между `month_to_end_contract` и `contract_period` (0.97) и между `avg_class_frequency_total` и `avg_class_frequency_current_month` (0.95), что вполне логично, так как признаки связаны. Можно назвать эти признаки мультиколлинеарными (взаимозависимые или очень сильно скоррелированные признаки).\n",
    "* Так же выделяется корреляция между `promo_friends` и `partner` (0.45). Скорее всего, сотрудники партнеров чаще приглашают своих друзей, чем остальные.\n",
    "* Сильной корреляции целевой перменной churn с признаками не выявлено, но можно сделать след выводы:\n",
    "1) отток совсем не зависит от пола и наличия контактного номера;\n",
    "2) максимально влияющие признаки - время с первого обращения в фитнес (-0.44), среднее количество посещений в месяц, возраст и длительного текущего договора. Все они отрицательно коррелированы с оттоком - чем меньше отток, тем больше значения этих переменных."
   ]
  },
  {
   "cell_type": "markdown",
   "metadata": {},
   "source": [
    "## Модель прогнозирования оттока клиентов"
   ]
  },
  {
   "cell_type": "markdown",
   "metadata": {},
   "source": [
    "Построим модель бинарной классификации клиентов, где целевой признак - факт оттока клиента в следующем месяце. Для начала разобьем данные на обучающую и валидационную выборку функцией `train_test_split()`."
   ]
  },
  {
   "cell_type": "code",
   "execution_count": 19,
   "metadata": {},
   "outputs": [],
   "source": [
    "# разделим наши данные на признаки (матрица X) и целевую переменную (y)\n",
    "\n",
    "X = gum_data.drop(columns=['churn'], axis=1)\n",
    "y = gum_data['churn']\n",
    "\n",
    "# разделяем модель на обучающую и валидационную выборку\n",
    "\n",
    "X_train, X_test, y_train, y_test = train_test_split(X, y, test_size=0.2, random_state=0, stratify=y)\n",
    "\n",
    "# создадим объект класса StandardScaler и применим его к обучающей выборке\n",
    "\n",
    "scaler = StandardScaler()\n",
    "\n",
    "# обучаем scaler и одновременно трансформируем матрицу для обучающей выборки\n",
    "\n",
    "X_train_st = scaler.fit_transform(X_train)\n",
    "\n",
    "# применяем стандартизацию к матрице признаков для тестовой выборки\n",
    "\n",
    "X_test_st = scaler.transform(X_test)"
   ]
  },
  {
   "cell_type": "markdown",
   "metadata": {},
   "source": [
    "Далее обучим модель на train-выборке двумя способами:\n",
    "* Логистической регрессией (`LogisticRegression`)\n",
    "* Случайным лесом (`RandomForestClassifier`)."
   ]
  },
  {
   "cell_type": "code",
   "execution_count": 20,
   "metadata": {},
   "outputs": [],
   "source": [
    "# определим функцию, которая будет выводить наши метрики\n",
    "\n",
    "def metrics(name, model):\n",
    "    model.fit(X_train_st, y_train)\n",
    "    y_pred = model.predict(X_test_st)\n",
    "    print(f'Метрики для модели \"{name}\":')\n",
    "    print('\\tДоля правильных ответов: Accuracy = {:.3f}'.format(accuracy_score(y_test, y_pred)))\n",
    "    print('\\tТочность: Precision = {:.3f}'.format(precision_score(y_test, y_pred)))\n",
    "    print('\\tПолнота: Recall = {:.3f}'.format(recall_score(y_test, y_pred)), '\\n')"
   ]
  },
  {
   "cell_type": "code",
   "execution_count": 21,
   "metadata": {},
   "outputs": [
    {
     "name": "stdout",
     "output_type": "stream",
     "text": [
      "Метрики для модели \"Логистическая регрессия\":\n",
      "\tДоля правильных ответов: Accuracy = 0.935\n",
      "\tТочность: Precision = 0.896\n",
      "\tПолнота: Recall = 0.854 \n",
      "\n",
      "Метрики для модели \"Случайный лес\":\n",
      "\tДоля правильных ответов: Accuracy = 0.922\n",
      "\tТочность: Precision = 0.875\n",
      "\tПолнота: Recall = 0.825 \n",
      "\n"
     ]
    }
   ],
   "source": [
    "# задаем алгоритм для наших моделей и выведем все метрики\n",
    "\n",
    "lr_model = LogisticRegression(random_state=0)\n",
    "metrics('Логистическая регрессия', lr_model)\n",
    "\n",
    "rfc_model = RandomForestClassifier(n_estimators = 100, random_state = 0)\n",
    "metrics('Случайный лес', rfc_model)"
   ]
  },
  {
   "cell_type": "markdown",
   "metadata": {},
   "source": [
    "Попробуем перебор гиперпараметров через `GridSearchCV` и посмотрим на метрики моделей."
   ]
  },
  {
   "cell_type": "code",
   "execution_count": 22,
   "metadata": {},
   "outputs": [],
   "source": [
    "parametrs = { 'n_estimators': range (10, 100, 10),\n",
    "              'max_depth': range (1,13, 2),\n",
    "              'min_samples_leaf': range (1,8),\n",
    "              'min_samples_split': range (2,10,2) }\n",
    "\n",
    "clf = RandomForestClassifier()"
   ]
  },
  {
   "cell_type": "code",
   "execution_count": 23,
   "metadata": {},
   "outputs": [
    {
     "data": {
      "text/plain": [
       "GridSearchCV(cv=5, estimator=RandomForestClassifier(),\n",
       "             param_grid={'max_depth': range(1, 13, 2),\n",
       "                         'min_samples_leaf': range(1, 8),\n",
       "                         'min_samples_split': range(2, 10, 2),\n",
       "                         'n_estimators': range(10, 100, 10)})"
      ]
     },
     "execution_count": 23,
     "metadata": {},
     "output_type": "execute_result"
    }
   ],
   "source": [
    "grid = GridSearchCV(clf, parametrs, cv=5)\n",
    "grid.fit(X_train_st, y_train)"
   ]
  },
  {
   "cell_type": "code",
   "execution_count": 24,
   "metadata": {},
   "outputs": [
    {
     "data": {
      "text/plain": [
       "{'max_depth': 9,\n",
       " 'min_samples_leaf': 1,\n",
       " 'min_samples_split': 4,\n",
       " 'n_estimators': 30}"
      ]
     },
     "execution_count": 24,
     "metadata": {},
     "output_type": "execute_result"
    }
   ],
   "source": [
    "grid.best_params_"
   ]
  },
  {
   "cell_type": "code",
   "execution_count": 25,
   "metadata": {},
   "outputs": [
    {
     "name": "stdout",
     "output_type": "stream",
     "text": [
      "Метрики для модели \"Логистическая регрессия\":\n",
      "\tДоля правильных ответов: Accuracy = 0.935\n",
      "\tТочность: Precision = 0.896\n",
      "\tПолнота: Recall = 0.854 \n",
      "\n",
      "Метрики для модели \"Случайный лес\":\n",
      "\tДоля правильных ответов: Accuracy = 0.922\n",
      "\tТочность: Precision = 0.875\n",
      "\tПолнота: Recall = 0.825 \n",
      "\n",
      "Метрики для модели \"Случайный лес best\":\n",
      "\tДоля правильных ответов: Accuracy = 0.924\n",
      "\tТочность: Precision = 0.883\n",
      "\tПолнота: Recall = 0.821 \n",
      "\n"
     ]
    }
   ],
   "source": [
    "metrics('Логистическая регрессия', lr_model)\n",
    "metrics('Случайный лес', rfc_model)\n",
    "\n",
    "rfc_model_2 = RandomForestClassifier(n_estimators = 90, max_depth = 11, min_samples_leaf = 1,\n",
    "                                     min_samples_split = 4, random_state = 0)\n",
    "\n",
    "metrics('Случайный лес best', rfc_model_2)"
   ]
  },
  {
   "cell_type": "markdown",
   "metadata": {},
   "source": [
    "**Вывод:**\n",
    "\n",
    "* Обе модели показали себя достаточно хорошо (высокие показатели Accuracy, Precision, Recall).\n",
    "* По всем трем параметрам модель Логистисеской регрессии `LogisticRegression` немного лучше модели Случайного леса `RandomForestClassifier`."
   ]
  },
  {
   "cell_type": "markdown",
   "metadata": {},
   "source": [
    "## Кластеризация клиентов"
   ]
  },
  {
   "cell_type": "markdown",
   "metadata": {},
   "source": [
    "Прежде всего, для кластеризации пользователей нам необходимо стандартизировать данные."
   ]
  },
  {
   "cell_type": "code",
   "execution_count": 26,
   "metadata": {
    "scrolled": false
   },
   "outputs": [
    {
     "data": {
      "image/png": "[encoded data removed]",
      "text/plain": [
       "<Figure size 1440x1080 with 1 Axes>"
      ]
     },
     "metadata": {
      "needs_background": "light"
     },
     "output_type": "display_data"
    }
   ],
   "source": [
    "# стандартизируем данные\n",
    "\n",
    "X_sc = scaler.fit_transform(X)\n",
    "linked = linkage(X_sc, method = 'ward')\n",
    "\n",
    "# визуализируем как дендрограмму\n",
    "\n",
    "plt.figure(figsize=(20, 15))  \n",
    "dendrogram(linked, orientation='top', no_labels = True)\n",
    "plt.title('Иерархическая кластеризация', fontsize=18)\n",
    "plt.show() "
   ]
  },
  {
   "cell_type": "markdown",
   "metadata": {},
   "source": [
    "Мы видим явно выделенных 4 кластера. По ТЗ возьмем число кластеров равное 5."
   ]
  },
  {
   "cell_type": "code",
   "execution_count": 27,
   "metadata": {},
   "outputs": [],
   "source": [
    "# задаём число кластеров, равное 5, и фиксируем значение random_state для воспроизводимости результата\n",
    "\n",
    "km = KMeans(n_clusters=5, random_state=0)\n",
    "\n",
    "# применяем алгоритм к данным и формируем вектор кластеров\n",
    "\n",
    "labels = km.fit_predict(X_sc)\n",
    "gum_data['cluster_km'] = labels"
   ]
  },
  {
   "cell_type": "markdown",
   "metadata": {},
   "source": [
    "Рассчитаем метрику силуэта для нашей кластеризации."
   ]
  },
  {
   "cell_type": "code",
   "execution_count": 28,
   "metadata": {
    "scrolled": true
   },
   "outputs": [
    {
     "name": "stdout",
     "output_type": "stream",
     "text": [
      "Метрика силуэта: Silhouette_score = 0.14\n"
     ]
    }
   ],
   "source": [
    "print('Метрика силуэта: Silhouette_score = {:.2f}'.format(silhouette_score(X_sc, labels)))"
   ]
  },
  {
   "cell_type": "markdown",
   "metadata": {},
   "source": [
    "Значение метрики силуэта принимает значения от -1 до 1. Чем ближе к 1, тем качественнее кластеризация. `Silhouette_score = 0.14` кластеризация прошла не очень хорошо."
   ]
  },
  {
   "cell_type": "code",
   "execution_count": 29,
   "metadata": {
    "scrolled": false
   },
   "outputs": [
    {
     "data": {
      "text/html": [
       "<div>\n",
       "<style scoped>\n",
       "    .dataframe tbody tr th:only-of-type {\n",
       "        vertical-align: middle;\n",
       "    }\n",
       "\n",
       "    .dataframe tbody tr th {\n",
       "        vertical-align: top;\n",
       "    }\n",
       "\n",
       "    .dataframe thead th {\n",
       "        text-align: right;\n",
       "    }\n",
       "</style>\n",
       "<table border=\"1\" class=\"dataframe\">\n",
       "  <thead>\n",
       "    <tr style=\"text-align: right;\">\n",
       "      <th>cluster_km</th>\n",
       "      <th>0</th>\n",
       "      <th>1</th>\n",
       "      <th>2</th>\n",
       "      <th>3</th>\n",
       "      <th>4</th>\n",
       "    </tr>\n",
       "  </thead>\n",
       "  <tbody>\n",
       "    <tr>\n",
       "      <th>gender</th>\n",
       "      <td>0.50</td>\n",
       "      <td>0.52</td>\n",
       "      <td>0.50</td>\n",
       "      <td>0.49</td>\n",
       "      <td>0.56</td>\n",
       "    </tr>\n",
       "    <tr>\n",
       "      <th>near_location</th>\n",
       "      <td>0.96</td>\n",
       "      <td>0.86</td>\n",
       "      <td>0.00</td>\n",
       "      <td>1.00</td>\n",
       "      <td>0.98</td>\n",
       "    </tr>\n",
       "    <tr>\n",
       "      <th>partner</th>\n",
       "      <td>0.78</td>\n",
       "      <td>0.47</td>\n",
       "      <td>0.46</td>\n",
       "      <td>0.35</td>\n",
       "      <td>0.36</td>\n",
       "    </tr>\n",
       "    <tr>\n",
       "      <th>promo_friends</th>\n",
       "      <td>0.57</td>\n",
       "      <td>0.31</td>\n",
       "      <td>0.08</td>\n",
       "      <td>0.24</td>\n",
       "      <td>0.23</td>\n",
       "    </tr>\n",
       "    <tr>\n",
       "      <th>phone</th>\n",
       "      <td>1.00</td>\n",
       "      <td>0.00</td>\n",
       "      <td>1.00</td>\n",
       "      <td>1.00</td>\n",
       "      <td>1.00</td>\n",
       "    </tr>\n",
       "    <tr>\n",
       "      <th>contract_period</th>\n",
       "      <td>10.89</td>\n",
       "      <td>4.79</td>\n",
       "      <td>2.35</td>\n",
       "      <td>1.95</td>\n",
       "      <td>2.67</td>\n",
       "    </tr>\n",
       "    <tr>\n",
       "      <th>group_visits</th>\n",
       "      <td>0.54</td>\n",
       "      <td>0.43</td>\n",
       "      <td>0.22</td>\n",
       "      <td>0.34</td>\n",
       "      <td>0.47</td>\n",
       "    </tr>\n",
       "    <tr>\n",
       "      <th>age</th>\n",
       "      <td>29.98</td>\n",
       "      <td>29.30</td>\n",
       "      <td>28.48</td>\n",
       "      <td>28.17</td>\n",
       "      <td>30.13</td>\n",
       "    </tr>\n",
       "    <tr>\n",
       "      <th>avg_additional_charges_total</th>\n",
       "      <td>160.76</td>\n",
       "      <td>143.96</td>\n",
       "      <td>135.46</td>\n",
       "      <td>131.62</td>\n",
       "      <td>161.66</td>\n",
       "    </tr>\n",
       "    <tr>\n",
       "      <th>month_to_end_contract</th>\n",
       "      <td>9.95</td>\n",
       "      <td>4.48</td>\n",
       "      <td>2.20</td>\n",
       "      <td>1.86</td>\n",
       "      <td>2.46</td>\n",
       "    </tr>\n",
       "    <tr>\n",
       "      <th>lifetime</th>\n",
       "      <td>4.74</td>\n",
       "      <td>3.92</td>\n",
       "      <td>2.81</td>\n",
       "      <td>2.44</td>\n",
       "      <td>4.90</td>\n",
       "    </tr>\n",
       "    <tr>\n",
       "      <th>avg_class_frequency_total</th>\n",
       "      <td>1.98</td>\n",
       "      <td>1.85</td>\n",
       "      <td>1.66</td>\n",
       "      <td>1.25</td>\n",
       "      <td>2.85</td>\n",
       "    </tr>\n",
       "    <tr>\n",
       "      <th>avg_class_frequency_current_month</th>\n",
       "      <td>1.97</td>\n",
       "      <td>1.72</td>\n",
       "      <td>1.48</td>\n",
       "      <td>1.01</td>\n",
       "      <td>2.85</td>\n",
       "    </tr>\n",
       "    <tr>\n",
       "      <th>churn</th>\n",
       "      <td>0.03</td>\n",
       "      <td>0.27</td>\n",
       "      <td>0.44</td>\n",
       "      <td>0.51</td>\n",
       "      <td>0.07</td>\n",
       "    </tr>\n",
       "  </tbody>\n",
       "</table>\n",
       "</div>"
      ],
      "text/plain": [
       "cluster_km                             0      1      2      3      4\n",
       "gender                              0.50   0.52   0.50   0.49   0.56\n",
       "near_location                       0.96   0.86   0.00   1.00   0.98\n",
       "partner                             0.78   0.47   0.46   0.35   0.36\n",
       "promo_friends                       0.57   0.31   0.08   0.24   0.23\n",
       "phone                               1.00   0.00   1.00   1.00   1.00\n",
       "contract_period                    10.89   4.79   2.35   1.95   2.67\n",
       "group_visits                        0.54   0.43   0.22   0.34   0.47\n",
       "age                                29.98  29.30  28.48  28.17  30.13\n",
       "avg_additional_charges_total      160.76 143.96 135.46 131.62 161.66\n",
       "month_to_end_contract               9.95   4.48   2.20   1.86   2.46\n",
       "lifetime                            4.74   3.92   2.81   2.44   4.90\n",
       "avg_class_frequency_total           1.98   1.85   1.66   1.25   2.85\n",
       "avg_class_frequency_current_month   1.97   1.72   1.48   1.01   2.85\n",
       "churn                               0.03   0.27   0.44   0.51   0.07"
      ]
     },
     "execution_count": 29,
     "metadata": {},
     "output_type": "execute_result"
    }
   ],
   "source": [
    "# вывод статистики по средним значениям признаков по кластеру\n",
    "\n",
    "gum_data.groupby('cluster_km').mean().T"
   ]
  },
  {
   "cell_type": "markdown",
   "metadata": {},
   "source": [
    "Уже по средним значениям мы видим, что у людей из кластера 2 и 3 наибольший отток. И в остальных показателях у них наименьшие средние.\n",
    "\n",
    "Далее посмотрим на графическое распределение по кластерам."
   ]
  },
  {
   "cell_type": "code",
   "execution_count": 30,
   "metadata": {
    "scrolled": false
   },
   "outputs": [
    {
     "data": {
      "image/png": "[encoded data removed]",
      "text/plain": [
       "<Figure size 1080x360 with 1 Axes>"
      ]
     },
     "metadata": {
      "needs_background": "light"
     },
     "output_type": "display_data"
    },
    {
     "data": {
      "image/png": "[encoded data removed]",
      "text/plain": [
       "<Figure size 1080x360 with 1 Axes>"
      ]
     },
     "metadata": {
      "needs_background": "light"
     },
     "output_type": "display_data"
    },
    {
     "data": {
      "image/png": "[encoded data removed]",
      "text/plain": [
       "<Figure size 1080x360 with 1 Axes>"
      ]
     },
     "metadata": {
      "needs_background": "light"
     },
     "output_type": "display_data"
    },
    {
     "data": {
      "image/png": "[encoded data removed]",
      "text/plain": [
       "<Figure size 1080x360 with 1 Axes>"
      ]
     },
     "metadata": {
      "needs_background": "light"
     },
     "output_type": "display_data"
    },
    {
     "data": {
      "image/png": "[encoded data removed]",
      "text/plain": [
       "<Figure size 1080x360 with 1 Axes>"
      ]
     },
     "metadata": {
      "needs_background": "light"
     },
     "output_type": "display_data"
    },
    {
     "data": {
      "image/png": "[encoded data removed]",
      "text/plain": [
       "<Figure size 1080x360 with 1 Axes>"
      ]
     },
     "metadata": {
      "needs_background": "light"
     },
     "output_type": "display_data"
    },
    {
     "data": {
      "image/png": "[encoded data removed]",
      "text/plain": [
       "<Figure size 1080x360 with 1 Axes>"
      ]
     },
     "metadata": {
      "needs_background": "light"
     },
     "output_type": "display_data"
    }
   ],
   "source": [
    "# задаем цикл для построения гистограмм по количественным переменным\n",
    "\n",
    "for column in histplot_columns:\n",
    "    plt.figure(figsize=(15, 5))\n",
    "    ax = sns.histplot(x=gum_data[column], data=gum_data, hue='cluster_km', stat='density', common_norm=False, palette='pastel')\n",
    "    ax.set_title(f'Распределение признака {column}', fontsize = 18)\n",
    "    ax.set_xlabel(column, fontsize = 15)\n",
    "    ax.set_ylabel('Количество записей', fontsize = 15)\n",
    "    plt.show()"
   ]
  },
  {
   "cell_type": "code",
   "execution_count": 31,
   "metadata": {
    "scrolled": false
   },
   "outputs": [
    {
     "data": {
      "image/png": "[encoded data removed]",
      "text/plain": [
       "<Figure size 720x1080 with 6 Axes>"
      ]
     },
     "metadata": {
      "needs_background": "light"
     },
     "output_type": "display_data"
    }
   ],
   "source": [
    "# задаем цикл для построения гистограмм по категориальным переменным\n",
    "\n",
    "fig, axes = plt.subplots(3, 2, figsize=(10, 15))\n",
    "\n",
    "axes = axes.ravel()\n",
    "\n",
    "for column, ax in zip(countplot_columns, axes): \n",
    "    sns.countplot(x=gum_data[column], ax=ax, data=gum_data, hue='cluster_km', palette='pastel')\n",
    "    ax.set_title(f'Распределение признака {column}', fontsize = 15)\n",
    "    ax.set_xlabel(column, fontsize = 15)\n",
    "    ax.set_ylabel('Количество записей', fontsize = 15)\n",
    "    \n",
    "fig.tight_layout()\n",
    "plt.show()"
   ]
  },
  {
   "cell_type": "markdown",
   "metadata": {},
   "source": [
    "**Кластер 0:**\n",
    "\n",
    "* со значительным преобладанием абонентов на 12 месяцев;\n",
    "* средним возрастом около 30 лет;\n",
    "* высоким уровнем дополнительных оплат (около 166);\n",
    "* большим сроком до окончания абонемента;\n",
    "* большим сроком от начала пользования услугами;\n",
    "* посещением около 2-х раз в неделю;\n",
    "* приблизительно равным распределением между мужчинами и женщинами;\n",
    "* большинство клиентов живут (работают) рядом с фитнес-центром;\n",
    "* большинство клиентов пришли от компаний-партнёров;\n",
    "* большая часть клиентов пришли по промо-акции от друзей;\n",
    "* наличием контактных данных;\n",
    "* посещают групповые занятия.\n",
    "\n",
    "**Кластер 1:**\n",
    "\n",
    "* со значительным преобладанием абонентов на 1 месяцев, но так же достаточное количество абонементов на 6 месяцев;\n",
    "* средним возрастом около 30 лет;\n",
    "* средним уровнем дополнительных оплат (около 144);\n",
    "* небольшим сроком до окончания абонемента;\n",
    "* средним сроком от начала пользования услугами;\n",
    "* посещением около 2-х раз в неделю.\n",
    "* приблизительно равным распределением между мужчинами и женщинами;\n",
    "* большинство клиентов живут (работают) рядом с фитнес-центром;\n",
    "* доля клиентов пришедших от компаний-партнёров практически равно доли стороних;\n",
    "* большая часть клиентов пришли не по промо-акции от друзей;\n",
    "* отсуствием контактных данных;\n",
    "* приблизительно одинаково посещают/не посещают групповые занятия.\n",
    "\n",
    "**Кластер 2:**\n",
    "\n",
    "* со значительным преобладанием абонентов на 1 месяц, но встречаются так же абонементы на 6 месяцев;\n",
    "* средним возрастом около 28 лет;\n",
    "* низким уровнем дополнительных оплат (около 135);\n",
    "* небольшим сроком до окончания абонемента;\n",
    "* небольшим сроком от начала пользования услугами;\n",
    "* посещением около 1,5 раз в неделю.\n",
    "* приблизительно равным распределением между мужчинами и женщинами;\n",
    "* большинство клиентов живут (работают) не рядом с фитнес-центром;\n",
    "* доля клиентов пришедших от компаний-партнёров практически равно доли стороних;\n",
    "* большая часть клиентов пришли не по промо-акции от друзей;\n",
    "* наличием контактных данных;\n",
    "* большая часть не посещают групповые занятия.\n",
    "\n",
    "**Кластер 3:**\n",
    "\n",
    "* со значительным преобладанием абонентов на 1 месяцев;\n",
    "* средним возрастом около 28 лет;\n",
    "* низким уровнем дополнительных оплат (около 132);\n",
    "* небольшим сроком до окончания абонемента;\n",
    "* небольшим сроком от начала пользования услугами;\n",
    "* посещением около 1-го раза в неделю.\n",
    "* приблизительно равным распределением между мужчинами и женщинами;\n",
    "* большинство клиентов живут (работают) рядом с фитнес-центром;\n",
    "* большинство клиентов пришли не от компаний-партнёров;\n",
    "* большая часть клиентов пришли не по промо-акции от друзей;\n",
    "* наличием контактных данных;\n",
    "* не посещают групповые занятия.\n",
    "\n",
    "**Кластер 4:**\n",
    "\n",
    "* со значительным преобладанием абонентов на 1 месяц, но встречаются так же абонементы на 6 месяцев;\n",
    "* средним возрастом чуть старше 30 лет;\n",
    "* высоким уровнем дополнительных оплат (около 162);\n",
    "* небольшим сроком до окончания абонемента;\n",
    "* средним сроком от начала пользования услугами;\n",
    "* посещением около 3-х раз в неделю.\n",
    "* приблизительно равным распределением между мужчинами и женщинами;\n",
    "* большинство клиентов живут (работают) рядом с фитнес-центром;\n",
    "* большинство клиентов пришли не от компаний-партнёров;\n",
    "* большая часть клиентов пришли не по промо-акции от друзей;\n",
    "* наличием контактных данных;\n",
    "* приблизительно одинаково посещают/не посещают групповые занятия.\n",
    "\n",
    "Далее рассчитаем долю оотока для каждого полученного кластера."
   ]
  },
  {
   "cell_type": "code",
   "execution_count": 32,
   "metadata": {
    "scrolled": true
   },
   "outputs": [
    {
     "data": {
      "text/html": [
       "<div>\n",
       "<style scoped>\n",
       "    .dataframe tbody tr th:only-of-type {\n",
       "        vertical-align: middle;\n",
       "    }\n",
       "\n",
       "    .dataframe tbody tr th {\n",
       "        vertical-align: top;\n",
       "    }\n",
       "\n",
       "    .dataframe thead th {\n",
       "        text-align: right;\n",
       "    }\n",
       "</style>\n",
       "<table border=\"1\" class=\"dataframe\">\n",
       "  <thead>\n",
       "    <tr style=\"text-align: right;\">\n",
       "      <th></th>\n",
       "      <th>churn</th>\n",
       "    </tr>\n",
       "    <tr>\n",
       "      <th>cluster_km</th>\n",
       "      <th></th>\n",
       "    </tr>\n",
       "  </thead>\n",
       "  <tbody>\n",
       "    <tr>\n",
       "      <th>0</th>\n",
       "      <td>0.03</td>\n",
       "    </tr>\n",
       "    <tr>\n",
       "      <th>1</th>\n",
       "      <td>0.27</td>\n",
       "    </tr>\n",
       "    <tr>\n",
       "      <th>2</th>\n",
       "      <td>0.44</td>\n",
       "    </tr>\n",
       "    <tr>\n",
       "      <th>3</th>\n",
       "      <td>0.51</td>\n",
       "    </tr>\n",
       "    <tr>\n",
       "      <th>4</th>\n",
       "      <td>0.07</td>\n",
       "    </tr>\n",
       "  </tbody>\n",
       "</table>\n",
       "</div>"
      ],
      "text/plain": [
       "            churn\n",
       "cluster_km       \n",
       "0            0.03\n",
       "1            0.27\n",
       "2            0.44\n",
       "3            0.51\n",
       "4            0.07"
      ]
     },
     "metadata": {},
     "output_type": "display_data"
    }
   ],
   "source": [
    "# для каждого полученного кластера посчитаем долю оттока\n",
    "\n",
    "display(gum_data.groupby('cluster_km').agg({'churn':'mean'}))"
   ]
  },
  {
   "cell_type": "markdown",
   "metadata": {},
   "source": [
    "Больше всего отток клиентов во 2 и 3 кластерах. Самый маленький отток из 0 и 4 кластера."
   ]
  },
  {
   "cell_type": "markdown",
   "metadata": {},
   "source": [
    "## Выводы и базовые рекомендации по работе с клиентами"
   ]
  },
  {
   "cell_type": "markdown",
   "metadata": {},
   "source": [
    "Было проведено исследование данных о клиентах фитнес-центра «Культурист-датасаентист». Эти данные содержат в себе информацию о 4 000 клиентов и 14 показателях, один из которых (отток клиентов выбран в модели в качестве целевой переменной). Анализируемыми показателями, которые влияют на отток выбраны следующие характеристики клиентов: пол, близость к фитнес-центру, принадлежность к компании-партнёру фитнес-центра, факт первоначальной записи в рамках промо-акции «приведи друга», наличие контактного телефона, возраст, время с момента первого обращения в фитнес-центр, длительность текущего действующего абонемента, срок до окончания действующего абонемента, факт посещения групповых занятий, средняя частоа посещений в неделю за все время с начала действия абонемента и за предыдущий месяц, суммарная выручка от других услуг фитнес-центра.\n",
    "\n",
    "**Анализ данных позволил сделать следующие выводы:**\n",
    "\n",
    "* Распределение по по полу практическии равно.\n",
    "* Большинство клиентов живет (работает) рядом с фитнес-клубом.\n",
    "* Практически половина клиентов является сотрудниками партнерских организаций.\n",
    "* Около 31% клиентов пришли по акции \"Приведи друга\"ю\n",
    "* Известны мобильные номера 91% клиентов.\n",
    "* Средняя длительность аббонементов клиентов - 4,7 месяца.\n",
    "* 41% клиентов посещают групповые занятия.\n",
    "* Средний возраст клиентов - 29 лет.\n",
    "* Средние дополнительные расходы на клиента - 147.\n",
    "* Средний срок до окончания договора - 4,3 месяца.\n",
    "* Среднее время с момента первого обращения в фитнес-клуб - 3,7 месяца.\n",
    "* Средняя частота посещений за все время - 1,88 раз в неделю.\n",
    "* Средняя частота посещений за последний месяц - 1,77 раз в неделю.\n",
    "* 27% клиентов ушли за текущий месяц.\n",
    "\n",
    "*При анализе данных по оттоку клиентов показал:*\n",
    "\n",
    "* Распределение по полу не отличается, это говорит о том, что этот признак не влияет на отток/приток клиентов.\n",
    "* Ближе живущие клиенты чуть реже попадают в отток. Можно сказать, что этот признак оказывает слабое влияние.\n",
    "* Среди партнеров компаний отток клиентов меньше.\n",
    "* Клиенты пришедшие по акции \"Приведи друга\" почти в два раза реже уходят. Этот показатель так же оказывает положительное влияние на клиентов.\n",
    "* Наличее мобильного номера клиента не оказывает никакого вляние на их отток. Показатель не оказывает никакого влияния.\n",
    "* Средняя длительность абонемента больше у оставшихся клиентов, это вполне логично, если клиент купил обонемент на год, то он будет ходить, чтобы не потерять деньги потраченные на приобретение абонемента. У большей части клиентов которые ушли в отток средний срок абонемента около 2-х месяцев. Влияние признака на клиентов высокое.\n",
    "* Оставшиеся пользователи чаще ходят на групповые занятия. Этот признак так же оказывает сильное влияение на клиентов. Вполне возможно, что на групповых занятиях многие клиенты заводят новые знакомства, а это способствует посещению фитнес-клуба в целом.\n",
    "* Возраст не оказывает сильное влияние на отток клиентов. Разница в среднем возрасте незначительная.\n",
    "* Различие в выручке незначительное. Но клиенты которые остались тратят немного больше на дополнительные услуги в фитнес-клубе.\n",
    "* Оставшееся время до конца абонемента намного больше у оставшихся клиентов, что вполне логично.\n",
    "* Среди клиентов которые ходят уже продолжительное время отток значительно меньше, возможно все дело в привычке.\n",
    "* Клиенты которые остались чаще посещают фитнес-клуб в неделю. Посещение в предыдущем месяце распределено приблизительно так же. Возможно дело в привычке.\n",
    "\n",
    "Метрики для модели \"Логистическая регрессия\":\n",
    "\tДоля правильных ответов: Accuracy = 0.935\n",
    "\tТочность: Precision = 0.896\n",
    "\tПолнота: Recall = 0.854 \n",
    "\n",
    "Метрики для модели \"Случайный лес\":\n",
    "\tДоля правильных ответов: Accuracy = 0.922\n",
    "\tТочность: Precision = 0.875\n",
    "\tПолнота: Recall = 0.825\n",
    "    \n",
    " Метрики для модели \"Случайный лес best\":\n",
    "\tДоля правильных ответов: Accuracy = 0.924\n",
    "\tТочность: Precision = 0.883\n",
    "\tПолнота: Recall = 0.821    \n",
    "\n",
    "Обе модели показали себя достаточно хорошо (высокие показатели Accuracy, Precision, Recall).\n",
    "По всем трем параметрам модель Логистисеской регрессии `LogisticRegression` немного лучше модели Случайного леса `RandomForestClassifier`.\n",
    "\n",
    "По дендрограмме было высказано предположение о наличии четырёх кластеров в данных. Однако, было принято решение для прогноза кластеров клиентов использовать пять кластеров в модели K-Means.\n",
    "\n",
    "Анализ средних значений и распределений признаков для кластеров показал, что выделенные кластеры имеют следующие отличительные характеристики:\n",
    "\n",
    "**Кластер 0:**\n",
    "\n",
    "* со значительным преобладанием абонентов на 12 месяцев;\n",
    "* средним возрастом около 30 лет;\n",
    "* высоким уровнем дополнительных оплат (около 166);\n",
    "* большим сроком до окончания абонемента;\n",
    "* большим сроком от начала пользования услугами;\n",
    "* посещением около 2-х раз в неделю;\n",
    "* приблизительно равным распределением между мужчинами и женщинами;\n",
    "* большинство клиентов живут (работают) рядом с фитнес-центром;\n",
    "* большинство клиентов пришли от компаний-партнёров;\n",
    "* большая часть клиентов пришли по промо-акции от друзей;\n",
    "* наличием контактных данных;\n",
    "* посещают групповые занятия.\n",
    "\n",
    "**Кластер 1:**\n",
    "\n",
    "* со значительным преобладанием абонентов на 1 месяцев, но так же достаточное количество абонементов на 6 месяцев;\n",
    "* средним возрастом около 30 лет;\n",
    "* средним уровнем дополнительных оплат (около 144);\n",
    "* небольшим сроком до окончания абонемента;\n",
    "* средним сроком от начала пользования услугами;\n",
    "* посещением около 2-х раз в неделю.\n",
    "* приблизительно равным распределением между мужчинами и женщинами;\n",
    "* большинство клиентов живут (работают) рядом с фитнес-центром;\n",
    "* доля клиентов пришедших от компаний-партнёров практически равно доли стороних;\n",
    "* большая часть клиентов пришли не по промо-акции от друзей;\n",
    "* отсуствием контактных данных;\n",
    "* приблизительно одинаково посещают/не посещают групповые занятия.\n",
    "\n",
    "**Кластер 2:**\n",
    "\n",
    "* со значительным преобладанием абонентов на 1 месяц, но встречаются так же абонементы на 6 месяцев;\n",
    "* средним возрастом около 28 лет;\n",
    "* низким уровнем дополнительных оплат (около 135);\n",
    "* небольшим сроком до окончания абонемента;\n",
    "* небольшим сроком от начала пользования услугами;\n",
    "* посещением около 1,5 раз в неделю.\n",
    "* приблизительно равным распределением между мужчинами и женщинами;\n",
    "* большинство клиентов живут (работают) не рядом с фитнес-центром;\n",
    "* доля клиентов пришедших от компаний-партнёров практически равно доли стороних;\n",
    "* большая часть клиентов пришли не по промо-акции от друзей;\n",
    "* наличием контактных данных;\n",
    "* большая часть не посещают групповые занятия.\n",
    "\n",
    "**Кластер 3:**\n",
    "\n",
    "* со значительным преобладанием абонентов на 1 месяцев;\n",
    "* средним возрастом около 28 лет;\n",
    "* низким уровнем дополнительных оплат (около 132);\n",
    "* небольшим сроком до окончания абонемента;\n",
    "* небольшим сроком от начала пользования услугами;\n",
    "* посещением около 1-го раза в неделю.\n",
    "* приблизительно равным распределением между мужчинами и женщинами;\n",
    "* большинство клиентов живут (работают) рядом с фитнес-центром;\n",
    "* большинство клиентов пришли не от компаний-партнёров;\n",
    "* большая часть клиентов пришли не по промо-акции от друзей;\n",
    "* наличием контактных данных;\n",
    "* не посещают групповые занятия.\n",
    "\n",
    "**Кластер 4:**\n",
    "\n",
    "* со значительным преобладанием абонентов на 1 месяц, но встречаются так же абонементы на 6 месяцев;\n",
    "* средним возрастом чуть старше 30 лет;\n",
    "* высоким уровнем дополнительных оплат (около 162);\n",
    "* небольшим сроком до окончания абонемента;\n",
    "* средним сроком от начала пользования услугами;\n",
    "* посещением около 3-х раз в неделю.\n",
    "* приблизительно равным распределением между мужчинами и женщинами;\n",
    "* большинство клиентов живут (работают) рядом с фитнес-центром;\n",
    "* большинство клиентов пришли не от компаний-партнёров;\n",
    "* большая часть клиентов пришли не по промо-акции от друзей;\n",
    "* наличием контактных данных;\n",
    "* приблизительно одинаково посещают/не посещают групповые занятия.\n",
    "\n",
    "**Рекомендации**\n",
    "\n",
    "На основе представленных выводов, предложены следующие рекомендации для стратегии взаимодействия с пользователями сети фитнес-центров \"Культурист-датасаентист\" и их удержания.\n",
    "\n",
    "*Целевая аудитория:*\n",
    "* Те кто живет (работает) рядом с фитнес-центром;\n",
    "* Уделить внимание поколению 30+.\n",
    "\n",
    "1) Рекомендуется превлечение клиентов используя партнерские программы.\n",
    "\n",
    "2) Ввести дополнительные скидки для клиентов с большим сроком абонемента на дополнительные услуги фитнес-центра, а так же предлагать участвовать в групповых занятиях (способствует заведению новых знакомств и более частому посещению фитнес-центра).\n",
    "\n",
    "3) Завлекать клиентов скидками на более длительные абонементы."
   ]
  }
 ],
 "metadata": {
  "ExecuteTimeLog": [
   {
    "duration": 4,
    "start_time": "2022-07-16T04:55:12.196Z"
   },
   {
    "duration": 3288,
    "start_time": "2022-07-16T04:55:12.230Z"
   },
   {
    "duration": 7,
    "start_time": "2022-07-16T04:55:15.520Z"
   },
   {
    "duration": 4,
    "start_time": "2022-07-16T04:56:49.978Z"
   },
   {
    "duration": 1342,
    "start_time": "2022-07-16T04:57:24.752Z"
   },
   {
    "duration": 71,
    "start_time": "2022-07-16T04:59:38.904Z"
   },
   {
    "duration": 5,
    "start_time": "2022-07-16T04:59:42.885Z"
   },
   {
    "duration": 3,
    "start_time": "2022-07-16T04:59:44.444Z"
   },
   {
    "duration": 40,
    "start_time": "2022-07-16T04:59:47.232Z"
   },
   {
    "duration": 5,
    "start_time": "2022-07-16T05:00:26.294Z"
   },
   {
    "duration": 37,
    "start_time": "2022-07-16T05:00:35.394Z"
   },
   {
    "duration": 3,
    "start_time": "2022-07-16T05:11:52.017Z"
   },
   {
    "duration": 1350,
    "start_time": "2022-07-16T05:16:56.849Z"
   },
   {
    "duration": 1298,
    "start_time": "2022-07-16T05:17:04.013Z"
   },
   {
    "duration": 34,
    "start_time": "2022-07-16T05:17:05.313Z"
   },
   {
    "duration": 5,
    "start_time": "2022-07-16T05:17:05.348Z"
   },
   {
    "duration": 10,
    "start_time": "2022-07-16T05:17:05.354Z"
   },
   {
    "duration": 48,
    "start_time": "2022-07-16T05:17:05.365Z"
   },
   {
    "duration": 1284,
    "start_time": "2022-07-16T05:23:23.108Z"
   },
   {
    "duration": 33,
    "start_time": "2022-07-16T05:23:24.394Z"
   },
   {
    "duration": 5,
    "start_time": "2022-07-16T05:23:24.428Z"
   },
   {
    "duration": 7,
    "start_time": "2022-07-16T05:23:24.436Z"
   },
   {
    "duration": 48,
    "start_time": "2022-07-16T05:23:24.444Z"
   },
   {
    "duration": 7,
    "start_time": "2022-07-16T05:25:17.580Z"
   },
   {
    "duration": 38,
    "start_time": "2022-07-16T05:34:02.890Z"
   },
   {
    "duration": 1305,
    "start_time": "2022-07-16T05:36:26.389Z"
   },
   {
    "duration": 33,
    "start_time": "2022-07-16T05:36:27.696Z"
   },
   {
    "duration": 5,
    "start_time": "2022-07-16T05:36:27.730Z"
   },
   {
    "duration": 6,
    "start_time": "2022-07-16T05:36:27.737Z"
   },
   {
    "duration": 43,
    "start_time": "2022-07-16T05:36:27.745Z"
   },
   {
    "duration": 6,
    "start_time": "2022-07-16T05:36:27.789Z"
   },
   {
    "duration": 38,
    "start_time": "2022-07-16T05:36:27.797Z"
   },
   {
    "duration": 1303,
    "start_time": "2022-07-16T05:46:41.073Z"
   },
   {
    "duration": 1407,
    "start_time": "2022-07-16T05:46:59.542Z"
   },
   {
    "duration": 1336,
    "start_time": "2022-07-16T05:55:28.442Z"
   },
   {
    "duration": 1325,
    "start_time": "2022-07-16T05:55:56.746Z"
   },
   {
    "duration": 1378,
    "start_time": "2022-07-16T05:57:16.122Z"
   },
   {
    "duration": 1414,
    "start_time": "2022-07-16T05:58:42.960Z"
   },
   {
    "duration": 1366,
    "start_time": "2022-07-16T05:59:11.072Z"
   },
   {
    "duration": 1401,
    "start_time": "2022-07-16T06:00:28.473Z"
   },
   {
    "duration": 1590,
    "start_time": "2022-07-16T06:00:35.040Z"
   },
   {
    "duration": 1331,
    "start_time": "2022-07-16T06:03:56.753Z"
   },
   {
    "duration": 1422,
    "start_time": "2022-07-16T06:04:06.772Z"
   },
   {
    "duration": 1384,
    "start_time": "2022-07-16T06:04:51.683Z"
   },
   {
    "duration": 1502,
    "start_time": "2022-07-16T06:05:33.952Z"
   },
   {
    "duration": 1386,
    "start_time": "2022-07-16T06:05:40.900Z"
   },
   {
    "duration": 1442,
    "start_time": "2022-07-16T06:06:50.559Z"
   },
   {
    "duration": 1414,
    "start_time": "2022-07-16T06:07:43.822Z"
   },
   {
    "duration": 162,
    "start_time": "2022-07-16T06:08:25.345Z"
   },
   {
    "duration": 1672,
    "start_time": "2022-07-16T06:08:53.951Z"
   },
   {
    "duration": 1452,
    "start_time": "2022-07-16T06:10:09.740Z"
   },
   {
    "duration": 1468,
    "start_time": "2022-07-16T06:10:28.502Z"
   },
   {
    "duration": 1578,
    "start_time": "2022-07-16T06:10:52.150Z"
   },
   {
    "duration": 1562,
    "start_time": "2022-07-16T06:11:35.520Z"
   },
   {
    "duration": 1512,
    "start_time": "2022-07-16T06:12:52.752Z"
   },
   {
    "duration": 1555,
    "start_time": "2022-07-16T06:13:15.932Z"
   },
   {
    "duration": 1416,
    "start_time": "2022-07-16T06:13:30.164Z"
   },
   {
    "duration": 34,
    "start_time": "2022-07-16T06:13:31.582Z"
   },
   {
    "duration": 6,
    "start_time": "2022-07-16T06:13:31.618Z"
   },
   {
    "duration": 50,
    "start_time": "2022-07-16T06:13:31.626Z"
   },
   {
    "duration": 46,
    "start_time": "2022-07-16T06:13:31.677Z"
   },
   {
    "duration": 9,
    "start_time": "2022-07-16T06:13:31.724Z"
   },
   {
    "duration": 81,
    "start_time": "2022-07-16T06:13:31.734Z"
   },
   {
    "duration": 1528,
    "start_time": "2022-07-16T06:13:31.816Z"
   },
   {
    "duration": 14,
    "start_time": "2022-07-16T06:31:00.581Z"
   },
   {
    "duration": 41,
    "start_time": "2022-07-16T06:43:17.015Z"
   },
   {
    "duration": 874,
    "start_time": "2022-07-16T07:11:26.742Z"
   },
   {
    "duration": 1336,
    "start_time": "2022-07-16T07:11:49.791Z"
   },
   {
    "duration": 34,
    "start_time": "2022-07-16T07:11:51.128Z"
   },
   {
    "duration": 4,
    "start_time": "2022-07-16T07:11:51.164Z"
   },
   {
    "duration": 8,
    "start_time": "2022-07-16T07:11:51.170Z"
   },
   {
    "duration": 45,
    "start_time": "2022-07-16T07:11:51.179Z"
   },
   {
    "duration": 6,
    "start_time": "2022-07-16T07:11:51.225Z"
   },
   {
    "duration": 836,
    "start_time": "2022-07-16T07:11:51.232Z"
   },
   {
    "duration": 0,
    "start_time": "2022-07-16T07:11:52.069Z"
   },
   {
    "duration": 0,
    "start_time": "2022-07-16T07:11:52.070Z"
   },
   {
    "duration": 0,
    "start_time": "2022-07-16T07:11:52.071Z"
   },
   {
    "duration": 13,
    "start_time": "2022-07-16T07:12:13.962Z"
   },
   {
    "duration": 11,
    "start_time": "2022-07-16T07:13:08.592Z"
   },
   {
    "duration": 814,
    "start_time": "2022-07-16T07:13:15.202Z"
   },
   {
    "duration": 6,
    "start_time": "2022-07-16T07:13:56.602Z"
   },
   {
    "duration": 7,
    "start_time": "2022-07-16T07:15:17.093Z"
   },
   {
    "duration": 12,
    "start_time": "2022-07-16T07:15:50.101Z"
   },
   {
    "duration": 1365,
    "start_time": "2022-07-16T07:16:03.472Z"
   },
   {
    "duration": 34,
    "start_time": "2022-07-16T07:16:04.838Z"
   },
   {
    "duration": 5,
    "start_time": "2022-07-16T07:16:04.873Z"
   },
   {
    "duration": 8,
    "start_time": "2022-07-16T07:16:04.880Z"
   },
   {
    "duration": 41,
    "start_time": "2022-07-16T07:16:04.889Z"
   },
   {
    "duration": 6,
    "start_time": "2022-07-16T07:16:04.932Z"
   },
   {
    "duration": 29,
    "start_time": "2022-07-16T07:16:04.940Z"
   },
   {
    "duration": 4,
    "start_time": "2022-07-16T07:16:04.971Z"
   },
   {
    "duration": 7,
    "start_time": "2022-07-16T07:16:04.977Z"
   },
   {
    "duration": 14,
    "start_time": "2022-07-16T07:16:04.987Z"
   },
   {
    "duration": 36,
    "start_time": "2022-07-16T07:16:05.003Z"
   },
   {
    "duration": 12,
    "start_time": "2022-07-16T07:16:05.061Z"
   },
   {
    "duration": 1557,
    "start_time": "2022-07-16T07:16:05.075Z"
   },
   {
    "duration": 44,
    "start_time": "2022-07-16T07:16:51.834Z"
   },
   {
    "duration": 7,
    "start_time": "2022-07-16T07:16:59.161Z"
   },
   {
    "duration": 4,
    "start_time": "2022-07-16T07:17:15.171Z"
   },
   {
    "duration": 14,
    "start_time": "2022-07-16T07:17:17.413Z"
   },
   {
    "duration": 110,
    "start_time": "2022-07-16T07:18:27.983Z"
   },
   {
    "duration": 24,
    "start_time": "2022-07-16T07:18:35.225Z"
   },
   {
    "duration": 33,
    "start_time": "2022-07-16T07:18:46.483Z"
   },
   {
    "duration": 14,
    "start_time": "2022-07-16T07:18:55.184Z"
   },
   {
    "duration": 1389,
    "start_time": "2022-07-16T07:19:09.360Z"
   },
   {
    "duration": 35,
    "start_time": "2022-07-16T07:19:10.753Z"
   },
   {
    "duration": 10,
    "start_time": "2022-07-16T07:19:10.789Z"
   },
   {
    "duration": 38,
    "start_time": "2022-07-16T07:19:10.801Z"
   },
   {
    "duration": 56,
    "start_time": "2022-07-16T07:19:10.842Z"
   },
   {
    "duration": 7,
    "start_time": "2022-07-16T07:19:10.900Z"
   },
   {
    "duration": 21,
    "start_time": "2022-07-16T07:19:10.908Z"
   },
   {
    "duration": 40,
    "start_time": "2022-07-16T07:19:10.931Z"
   },
   {
    "duration": 29,
    "start_time": "2022-07-16T07:19:10.973Z"
   },
   {
    "duration": 63,
    "start_time": "2022-07-16T07:19:11.004Z"
   },
   {
    "duration": 42,
    "start_time": "2022-07-16T07:19:11.069Z"
   },
   {
    "duration": 18,
    "start_time": "2022-07-16T07:19:11.113Z"
   },
   {
    "duration": 1543,
    "start_time": "2022-07-16T07:19:11.133Z"
   },
   {
    "duration": 19,
    "start_time": "2022-07-16T07:20:13.176Z"
   },
   {
    "duration": 23,
    "start_time": "2022-07-16T07:20:23.964Z"
   },
   {
    "duration": 1379,
    "start_time": "2022-07-16T07:21:47.853Z"
   },
   {
    "duration": 36,
    "start_time": "2022-07-16T07:21:49.235Z"
   },
   {
    "duration": 5,
    "start_time": "2022-07-16T07:21:49.273Z"
   },
   {
    "duration": 8,
    "start_time": "2022-07-16T07:21:49.280Z"
   },
   {
    "duration": 45,
    "start_time": "2022-07-16T07:21:49.291Z"
   },
   {
    "duration": 28,
    "start_time": "2022-07-16T07:21:49.337Z"
   },
   {
    "duration": 6,
    "start_time": "2022-07-16T07:21:49.367Z"
   },
   {
    "duration": 9,
    "start_time": "2022-07-16T07:21:49.374Z"
   },
   {
    "duration": 7,
    "start_time": "2022-07-16T07:21:49.385Z"
   },
   {
    "duration": 31,
    "start_time": "2022-07-16T07:21:49.394Z"
   },
   {
    "duration": 47,
    "start_time": "2022-07-16T07:21:49.427Z"
   },
   {
    "duration": 14,
    "start_time": "2022-07-16T07:21:49.476Z"
   },
   {
    "duration": 1440,
    "start_time": "2022-07-16T07:21:49.492Z"
   },
   {
    "duration": 12,
    "start_time": "2022-07-16T07:22:02.453Z"
   },
   {
    "duration": 1466,
    "start_time": "2022-07-16T08:03:30.323Z"
   },
   {
    "duration": 34,
    "start_time": "2022-07-16T08:03:31.790Z"
   },
   {
    "duration": 6,
    "start_time": "2022-07-16T08:03:31.826Z"
   },
   {
    "duration": 39,
    "start_time": "2022-07-16T08:03:31.834Z"
   },
   {
    "duration": 51,
    "start_time": "2022-07-16T08:03:31.875Z"
   },
   {
    "duration": 6,
    "start_time": "2022-07-16T08:03:31.928Z"
   },
   {
    "duration": 35,
    "start_time": "2022-07-16T08:03:31.936Z"
   },
   {
    "duration": 7,
    "start_time": "2022-07-16T08:03:31.973Z"
   },
   {
    "duration": 7,
    "start_time": "2022-07-16T08:03:31.983Z"
   },
   {
    "duration": 32,
    "start_time": "2022-07-16T08:03:31.992Z"
   },
   {
    "duration": 45,
    "start_time": "2022-07-16T08:03:32.026Z"
   },
   {
    "duration": 14,
    "start_time": "2022-07-16T08:03:32.073Z"
   },
   {
    "duration": 1548,
    "start_time": "2022-07-16T08:03:32.088Z"
   },
   {
    "duration": 4,
    "start_time": "2022-07-16T08:06:15.246Z"
   },
   {
    "duration": 1548,
    "start_time": "2022-07-16T08:31:31.931Z"
   },
   {
    "duration": 122,
    "start_time": "2022-07-16T08:35:59.058Z"
   },
   {
    "duration": 11,
    "start_time": "2022-07-16T08:36:16.816Z"
   },
   {
    "duration": 10,
    "start_time": "2022-07-16T08:36:51.548Z"
   },
   {
    "duration": 2052,
    "start_time": "2022-07-16T08:38:21.339Z"
   },
   {
    "duration": 318,
    "start_time": "2022-07-16T08:39:01.538Z"
   },
   {
    "duration": 169802,
    "start_time": "2022-07-16T09:01:47.530Z"
   },
   {
    "duration": 87,
    "start_time": "2022-07-16T09:08:37.955Z"
   },
   {
    "duration": 260190,
    "start_time": "2022-07-16T09:08:50.619Z"
   },
   {
    "duration": 247848,
    "start_time": "2022-07-16T09:14:10.444Z"
   },
   {
    "duration": 585,
    "start_time": "2022-07-16T09:19:57.226Z"
   },
   {
    "duration": 633,
    "start_time": "2022-07-16T09:20:15.472Z"
   },
   {
    "duration": 10,
    "start_time": "2022-07-16T09:21:05.386Z"
   },
   {
    "duration": 4,
    "start_time": "2022-07-16T09:21:30.423Z"
   },
   {
    "duration": 635,
    "start_time": "2022-07-16T09:21:33.374Z"
   },
   {
    "duration": 900,
    "start_time": "2022-07-16T09:22:10.418Z"
   },
   {
    "duration": 2398,
    "start_time": "2022-07-16T09:30:11.726Z"
   },
   {
    "duration": 1418,
    "start_time": "2022-07-16T09:32:12.738Z"
   },
   {
    "duration": 35,
    "start_time": "2022-07-16T09:32:14.157Z"
   },
   {
    "duration": 5,
    "start_time": "2022-07-16T09:32:14.193Z"
   },
   {
    "duration": 8,
    "start_time": "2022-07-16T09:32:14.200Z"
   },
   {
    "duration": 46,
    "start_time": "2022-07-16T09:32:14.209Z"
   },
   {
    "duration": 12,
    "start_time": "2022-07-16T09:32:14.257Z"
   },
   {
    "duration": 13,
    "start_time": "2022-07-16T09:32:14.271Z"
   },
   {
    "duration": 6,
    "start_time": "2022-07-16T09:32:14.286Z"
   },
   {
    "duration": 8,
    "start_time": "2022-07-16T09:32:14.294Z"
   },
   {
    "duration": 23,
    "start_time": "2022-07-16T09:32:14.304Z"
   },
   {
    "duration": 57,
    "start_time": "2022-07-16T09:32:14.328Z"
   },
   {
    "duration": 10,
    "start_time": "2022-07-16T09:32:14.387Z"
   },
   {
    "duration": 332,
    "start_time": "2022-07-16T09:41:07.239Z"
   },
   {
    "duration": 0,
    "start_time": "2022-07-16T09:41:07.573Z"
   },
   {
    "duration": 84533,
    "start_time": "2022-07-16T09:43:38.755Z"
   },
   {
    "duration": 81336,
    "start_time": "2022-07-16T09:45:16.806Z"
   },
   {
    "duration": 69129,
    "start_time": "2022-07-16T09:50:54.842Z"
   },
   {
    "duration": 11,
    "start_time": "2022-07-16T09:57:00.481Z"
   },
   {
    "duration": 15,
    "start_time": "2022-07-16T09:57:47.640Z"
   },
   {
    "duration": 12,
    "start_time": "2022-07-16T09:57:57.619Z"
   },
   {
    "duration": 339,
    "start_time": "2022-07-16T09:58:36.011Z"
   },
   {
    "duration": 294,
    "start_time": "2022-07-16T09:59:20.412Z"
   },
   {
    "duration": 664,
    "start_time": "2022-07-16T10:01:11.336Z"
   },
   {
    "duration": 283,
    "start_time": "2022-07-16T10:01:51.195Z"
   },
   {
    "duration": 210,
    "start_time": "2022-07-16T10:05:52.071Z"
   },
   {
    "duration": 10,
    "start_time": "2022-07-16T10:08:44.900Z"
   },
   {
    "duration": 238349,
    "start_time": "2022-07-16T10:09:09.653Z"
   },
   {
    "duration": 244485,
    "start_time": "2022-07-16T10:16:19.332Z"
   },
   {
    "duration": 2,
    "start_time": "2022-07-16T10:20:23.819Z"
   },
   {
    "duration": 247052,
    "start_time": "2022-07-16T10:21:27.409Z"
   },
   {
    "duration": 3,
    "start_time": "2022-07-16T10:26:46.287Z"
   },
   {
    "duration": 3,
    "start_time": "2022-07-16T10:28:14.852Z"
   },
   {
    "duration": 14,
    "start_time": "2022-07-16T10:28:17.684Z"
   },
   {
    "duration": 14,
    "start_time": "2022-07-16T10:28:52.953Z"
   },
   {
    "duration": 253945,
    "start_time": "2022-07-16T10:29:03.147Z"
   },
   {
    "duration": 221,
    "start_time": "2022-07-16T10:34:43.364Z"
   },
   {
    "duration": 5,
    "start_time": "2022-07-16T10:35:44.841Z"
   },
   {
    "duration": 2241,
    "start_time": "2022-07-17T14:19:35.369Z"
   },
   {
    "duration": 149,
    "start_time": "2022-07-17T14:19:38.552Z"
   },
   {
    "duration": 7,
    "start_time": "2022-07-17T14:19:41.196Z"
   },
   {
    "duration": 4,
    "start_time": "2022-07-17T14:19:43.227Z"
   },
   {
    "duration": 59,
    "start_time": "2022-07-17T14:19:46.567Z"
   },
   {
    "duration": 8,
    "start_time": "2022-07-17T14:19:51.962Z"
   },
   {
    "duration": 8,
    "start_time": "2022-07-17T14:19:54.553Z"
   },
   {
    "duration": 6,
    "start_time": "2022-07-17T14:20:04.394Z"
   },
   {
    "duration": 9,
    "start_time": "2022-07-17T14:20:28.779Z"
   },
   {
    "duration": 10,
    "start_time": "2022-07-17T14:21:06.163Z"
   },
   {
    "duration": 12,
    "start_time": "2022-07-17T14:21:30.730Z"
   },
   {
    "duration": 4,
    "start_time": "2022-07-17T14:21:39.827Z"
   },
   {
    "duration": 33,
    "start_time": "2022-07-17T14:21:40.830Z"
   },
   {
    "duration": 34,
    "start_time": "2022-07-17T14:21:47.969Z"
   },
   {
    "duration": 15,
    "start_time": "2022-07-17T14:21:50.662Z"
   },
   {
    "duration": 4,
    "start_time": "2022-07-17T14:21:54.154Z"
   },
   {
    "duration": 3,
    "start_time": "2022-07-17T14:28:56.250Z"
   },
   {
    "duration": 140,
    "start_time": "2022-07-17T14:28:58.762Z"
   },
   {
    "duration": 3,
    "start_time": "2022-07-17T14:47:20.522Z"
   },
   {
    "duration": 76,
    "start_time": "2022-07-17T14:47:31.726Z"
   },
   {
    "duration": 7,
    "start_time": "2022-07-17T14:47:33.722Z"
   },
   {
    "duration": 97,
    "start_time": "2022-07-17T14:47:36.493Z"
   },
   {
    "duration": 200,
    "start_time": "2022-07-17T14:47:53.559Z"
   },
   {
    "duration": 95,
    "start_time": "2022-07-17T14:47:57.674Z"
   },
   {
    "duration": 1305,
    "start_time": "2022-07-17T14:48:14.671Z"
   },
   {
    "duration": 1244,
    "start_time": "2022-07-17T14:48:42.394Z"
   },
   {
    "duration": 1269,
    "start_time": "2022-07-17T14:49:04.161Z"
   },
   {
    "duration": 3,
    "start_time": "2022-07-17T14:49:38.561Z"
   },
   {
    "duration": 1151,
    "start_time": "2022-07-17T14:49:40.761Z"
   },
   {
    "duration": 129,
    "start_time": "2022-07-17T14:52:15.507Z"
   },
   {
    "duration": 152,
    "start_time": "2022-07-17T14:52:23.204Z"
   },
   {
    "duration": 1307,
    "start_time": "2022-07-17T14:52:40.547Z"
   },
   {
    "duration": 1727,
    "start_time": "2022-07-17T14:53:29.635Z"
   },
   {
    "duration": 1612,
    "start_time": "2022-07-17T14:56:18.671Z"
   },
   {
    "duration": 1383,
    "start_time": "2022-07-17T14:56:31.855Z"
   },
   {
    "duration": 2004,
    "start_time": "2022-07-17T14:56:43.917Z"
   },
   {
    "duration": 1973,
    "start_time": "2022-07-17T14:57:13.150Z"
   },
   {
    "duration": 2,
    "start_time": "2022-07-17T15:00:26.144Z"
   },
   {
    "duration": 1167,
    "start_time": "2022-07-17T15:00:29.807Z"
   },
   {
    "duration": 3,
    "start_time": "2022-07-17T15:00:43.472Z"
   },
   {
    "duration": 1295,
    "start_time": "2022-07-17T15:02:20.381Z"
   },
   {
    "duration": 1264,
    "start_time": "2022-07-17T15:02:53.162Z"
   },
   {
    "duration": 6708,
    "start_time": "2022-07-17T15:04:06.340Z"
   },
   {
    "duration": 7108,
    "start_time": "2022-07-17T15:04:15.778Z"
   },
   {
    "duration": 139,
    "start_time": "2022-07-17T15:04:47.996Z"
   },
   {
    "duration": 1449,
    "start_time": "2022-07-17T15:07:05.457Z"
   },
   {
    "duration": 1127,
    "start_time": "2022-07-17T15:08:06.721Z"
   },
   {
    "duration": 1245,
    "start_time": "2022-07-17T15:11:22.365Z"
   },
   {
    "duration": 11,
    "start_time": "2022-07-17T15:16:39.060Z"
   },
   {
    "duration": 12,
    "start_time": "2022-07-17T15:16:52.167Z"
   },
   {
    "duration": 13,
    "start_time": "2022-07-17T15:17:01.288Z"
   },
   {
    "duration": 14,
    "start_time": "2022-07-17T15:17:15.646Z"
   },
   {
    "duration": 961,
    "start_time": "2022-07-17T15:17:23.838Z"
   },
   {
    "duration": 3,
    "start_time": "2022-07-17T15:17:40.606Z"
   },
   {
    "duration": 908,
    "start_time": "2022-07-17T15:17:44.346Z"
   },
   {
    "duration": 715,
    "start_time": "2022-07-17T15:18:27.166Z"
   },
   {
    "duration": 152,
    "start_time": "2022-07-17T15:19:33.518Z"
   },
   {
    "duration": 991,
    "start_time": "2022-07-17T15:19:44.228Z"
   },
   {
    "duration": 1255,
    "start_time": "2022-07-17T15:20:45.201Z"
   },
   {
    "duration": 6602,
    "start_time": "2022-07-17T15:21:16.278Z"
   },
   {
    "duration": 1546,
    "start_time": "2022-07-17T15:21:28.020Z"
   },
   {
    "duration": 1294,
    "start_time": "2022-07-17T15:21:35.532Z"
   },
   {
    "duration": 3,
    "start_time": "2022-07-17T15:22:27.420Z"
   },
   {
    "duration": 2356,
    "start_time": "2022-07-17T15:22:30.871Z"
   },
   {
    "duration": 2301,
    "start_time": "2022-07-17T15:23:32.779Z"
   },
   {
    "duration": 2636,
    "start_time": "2022-07-17T15:24:18.944Z"
   },
   {
    "duration": 2381,
    "start_time": "2022-07-17T15:29:31.397Z"
   },
   {
    "duration": 25,
    "start_time": "2022-07-17T15:29:51.310Z"
   },
   {
    "duration": 28,
    "start_time": "2022-07-17T15:30:34.097Z"
   },
   {
    "duration": 1808,
    "start_time": "2022-07-17T15:30:37.875Z"
   },
   {
    "duration": 1692,
    "start_time": "2022-07-17T15:30:50.458Z"
   },
   {
    "duration": 1706,
    "start_time": "2022-07-17T15:31:01.578Z"
   },
   {
    "duration": 2358,
    "start_time": "2022-07-17T15:31:44.072Z"
   },
   {
    "duration": 2328,
    "start_time": "2022-07-17T15:32:00.870Z"
   },
   {
    "duration": 19,
    "start_time": "2022-07-17T15:37:34.404Z"
   },
   {
    "duration": 5,
    "start_time": "2022-07-17T15:39:17.959Z"
   },
   {
    "duration": 17,
    "start_time": "2022-07-17T15:40:06.317Z"
   },
   {
    "duration": 12,
    "start_time": "2022-07-17T15:40:12.111Z"
   },
   {
    "duration": 3,
    "start_time": "2022-07-17T15:40:20.468Z"
   },
   {
    "duration": 20,
    "start_time": "2022-07-17T15:40:24.121Z"
   },
   {
    "duration": 17,
    "start_time": "2022-07-17T15:44:49.267Z"
   },
   {
    "duration": 15,
    "start_time": "2022-07-17T15:45:01.294Z"
   },
   {
    "duration": 5,
    "start_time": "2022-07-17T15:49:25.895Z"
   },
   {
    "duration": 13,
    "start_time": "2022-07-17T15:49:56.216Z"
   },
   {
    "duration": 6,
    "start_time": "2022-07-17T15:50:25.094Z"
   },
   {
    "duration": 10,
    "start_time": "2022-07-17T15:50:34.555Z"
   },
   {
    "duration": 5,
    "start_time": "2022-07-17T15:50:40.762Z"
   },
   {
    "duration": 15,
    "start_time": "2022-07-17T15:50:48.426Z"
   },
   {
    "duration": 1663,
    "start_time": "2022-07-17T15:50:59.117Z"
   },
   {
    "duration": 57,
    "start_time": "2022-07-17T15:51:00.782Z"
   },
   {
    "duration": 8,
    "start_time": "2022-07-17T15:51:00.841Z"
   },
   {
    "duration": 31,
    "start_time": "2022-07-17T15:51:00.852Z"
   },
   {
    "duration": 95,
    "start_time": "2022-07-17T15:51:00.886Z"
   },
   {
    "duration": 10,
    "start_time": "2022-07-17T15:51:00.983Z"
   },
   {
    "duration": 32,
    "start_time": "2022-07-17T15:51:00.995Z"
   },
   {
    "duration": 22,
    "start_time": "2022-07-17T15:51:01.029Z"
   },
   {
    "duration": 70,
    "start_time": "2022-07-17T15:51:01.053Z"
   },
   {
    "duration": 55,
    "start_time": "2022-07-17T15:51:01.125Z"
   },
   {
    "duration": 118,
    "start_time": "2022-07-17T15:51:01.182Z"
   },
   {
    "duration": 41,
    "start_time": "2022-07-17T15:51:01.302Z"
   },
   {
    "duration": 116,
    "start_time": "2022-07-17T15:51:01.345Z"
   },
   {
    "duration": 2403,
    "start_time": "2022-07-17T15:51:01.464Z"
   },
   {
    "duration": 151,
    "start_time": "2022-07-17T15:51:03.870Z"
   },
   {
    "duration": 0,
    "start_time": "2022-07-17T15:51:04.023Z"
   },
   {
    "duration": 1118,
    "start_time": "2022-07-17T15:51:52.977Z"
   },
   {
    "duration": 1006,
    "start_time": "2022-07-17T15:52:15.263Z"
   },
   {
    "duration": 924,
    "start_time": "2022-07-17T15:53:05.259Z"
   },
   {
    "duration": 1047,
    "start_time": "2022-07-17T15:54:27.721Z"
   },
   {
    "duration": 7,
    "start_time": "2022-07-17T15:54:43.819Z"
   },
   {
    "duration": 30,
    "start_time": "2022-07-17T15:54:48.998Z"
   },
   {
    "duration": 2,
    "start_time": "2022-07-17T15:56:09.867Z"
   },
   {
    "duration": 20,
    "start_time": "2022-07-17T15:56:17.755Z"
   },
   {
    "duration": 1639,
    "start_time": "2022-07-17T15:56:31.419Z"
   },
   {
    "duration": 35,
    "start_time": "2022-07-17T15:56:33.060Z"
   },
   {
    "duration": 6,
    "start_time": "2022-07-17T15:56:33.097Z"
   },
   {
    "duration": 23,
    "start_time": "2022-07-17T15:56:33.104Z"
   },
   {
    "duration": 51,
    "start_time": "2022-07-17T15:56:33.130Z"
   },
   {
    "duration": 25,
    "start_time": "2022-07-17T15:56:33.182Z"
   },
   {
    "duration": 3,
    "start_time": "2022-07-17T15:56:33.210Z"
   },
   {
    "duration": 19,
    "start_time": "2022-07-17T15:56:33.215Z"
   },
   {
    "duration": 13,
    "start_time": "2022-07-17T15:56:33.235Z"
   },
   {
    "duration": 25,
    "start_time": "2022-07-17T15:56:33.249Z"
   },
   {
    "duration": 73,
    "start_time": "2022-07-17T15:56:33.279Z"
   },
   {
    "duration": 14,
    "start_time": "2022-07-17T15:56:33.354Z"
   },
   {
    "duration": 14,
    "start_time": "2022-07-17T15:56:33.370Z"
   },
   {
    "duration": 2331,
    "start_time": "2022-07-17T15:56:33.387Z"
   },
   {
    "duration": 1138,
    "start_time": "2022-07-17T15:56:35.720Z"
   },
   {
    "duration": 1717,
    "start_time": "2022-07-17T15:56:36.860Z"
   },
   {
    "duration": 1681,
    "start_time": "2022-07-17T15:57:29.582Z"
   },
   {
    "duration": 1820,
    "start_time": "2022-07-17T15:57:58.349Z"
   },
   {
    "duration": 1559,
    "start_time": "2022-07-17T15:59:22.085Z"
   },
   {
    "duration": 35,
    "start_time": "2022-07-17T15:59:23.646Z"
   },
   {
    "duration": 6,
    "start_time": "2022-07-17T15:59:23.682Z"
   },
   {
    "duration": 32,
    "start_time": "2022-07-17T15:59:23.691Z"
   },
   {
    "duration": 68,
    "start_time": "2022-07-17T15:59:23.725Z"
   },
   {
    "duration": 11,
    "start_time": "2022-07-17T15:59:23.795Z"
   },
   {
    "duration": 22,
    "start_time": "2022-07-17T15:59:23.808Z"
   },
   {
    "duration": 9,
    "start_time": "2022-07-17T15:59:23.832Z"
   },
   {
    "duration": 10,
    "start_time": "2022-07-17T15:59:23.843Z"
   },
   {
    "duration": 23,
    "start_time": "2022-07-17T15:59:23.855Z"
   },
   {
    "duration": 57,
    "start_time": "2022-07-17T15:59:23.880Z"
   },
   {
    "duration": 12,
    "start_time": "2022-07-17T15:59:23.938Z"
   },
   {
    "duration": 3,
    "start_time": "2022-07-17T15:59:23.952Z"
   },
   {
    "duration": 1642,
    "start_time": "2022-07-17T15:59:23.956Z"
   },
   {
    "duration": 980,
    "start_time": "2022-07-17T15:59:25.608Z"
   },
   {
    "duration": 1731,
    "start_time": "2022-07-17T15:59:26.590Z"
   },
   {
    "duration": 4,
    "start_time": "2022-07-17T15:59:56.804Z"
   },
   {
    "duration": 2341,
    "start_time": "2022-07-17T16:00:04.906Z"
   },
   {
    "duration": 2612,
    "start_time": "2022-07-17T16:06:10.883Z"
   },
   {
    "duration": 2529,
    "start_time": "2022-07-17T16:06:31.272Z"
   },
   {
    "duration": 3273,
    "start_time": "2022-07-17T16:07:05.090Z"
   },
   {
    "duration": 4200,
    "start_time": "2022-07-17T16:08:31.420Z"
   },
   {
    "duration": 4756,
    "start_time": "2022-07-17T16:08:57.819Z"
   },
   {
    "duration": 2348,
    "start_time": "2022-07-17T16:09:09.956Z"
   },
   {
    "duration": 2752,
    "start_time": "2022-07-17T16:13:10.802Z"
   },
   {
    "duration": 2707,
    "start_time": "2022-07-17T16:13:23.204Z"
   },
   {
    "duration": 7488,
    "start_time": "2022-07-17T16:14:20.862Z"
   },
   {
    "duration": 8030,
    "start_time": "2022-07-17T16:14:37.969Z"
   },
   {
    "duration": 4418,
    "start_time": "2022-07-17T16:15:09.753Z"
   },
   {
    "duration": 4350,
    "start_time": "2022-07-17T16:15:57.171Z"
   },
   {
    "duration": 6075,
    "start_time": "2022-07-17T16:16:15.252Z"
   },
   {
    "duration": 84,
    "start_time": "2022-07-17T16:16:38.016Z"
   },
   {
    "duration": 1796,
    "start_time": "2022-07-17T16:16:49.691Z"
   },
   {
    "duration": 2097,
    "start_time": "2022-07-17T16:17:02.521Z"
   },
   {
    "duration": 3189,
    "start_time": "2022-07-17T16:17:12.558Z"
   },
   {
    "duration": 2380,
    "start_time": "2022-07-17T16:18:40.362Z"
   },
   {
    "duration": 2383,
    "start_time": "2022-07-17T16:27:08.791Z"
   },
   {
    "duration": 2370,
    "start_time": "2022-07-17T16:27:52.213Z"
   },
   {
    "duration": 2416,
    "start_time": "2022-07-17T16:28:58.281Z"
   },
   {
    "duration": 2321,
    "start_time": "2022-07-17T16:29:23.075Z"
   },
   {
    "duration": 228,
    "start_time": "2022-07-17T16:29:56.093Z"
   },
   {
    "duration": 5,
    "start_time": "2022-07-17T16:30:14.851Z"
   },
   {
    "duration": 1129,
    "start_time": "2022-07-17T16:30:20.291Z"
   },
   {
    "duration": 1010,
    "start_time": "2022-07-17T16:30:57.067Z"
   },
   {
    "duration": 2421,
    "start_time": "2022-07-17T16:32:27.952Z"
   },
   {
    "duration": 1156,
    "start_time": "2022-07-17T16:32:42.351Z"
   },
   {
    "duration": 1806,
    "start_time": "2022-07-17T16:32:55.559Z"
   },
   {
    "duration": 2367,
    "start_time": "2022-07-17T16:33:29.293Z"
   },
   {
    "duration": 1142,
    "start_time": "2022-07-17T16:33:44.665Z"
   },
   {
    "duration": 1989,
    "start_time": "2022-07-17T16:33:56.559Z"
   },
   {
    "duration": 18,
    "start_time": "2022-07-17T16:56:08.936Z"
   },
   {
    "duration": 14,
    "start_time": "2022-07-17T16:59:43.138Z"
   },
   {
    "duration": 6,
    "start_time": "2022-07-17T17:00:15.200Z"
   },
   {
    "duration": 1784,
    "start_time": "2022-07-17T17:00:19.913Z"
   },
   {
    "duration": 45,
    "start_time": "2022-07-17T17:00:21.699Z"
   },
   {
    "duration": 6,
    "start_time": "2022-07-17T17:00:21.746Z"
   },
   {
    "duration": 31,
    "start_time": "2022-07-17T17:00:21.755Z"
   },
   {
    "duration": 92,
    "start_time": "2022-07-17T17:00:21.789Z"
   },
   {
    "duration": 21,
    "start_time": "2022-07-17T17:00:21.883Z"
   },
   {
    "duration": 79,
    "start_time": "2022-07-17T17:00:21.906Z"
   },
   {
    "duration": 40,
    "start_time": "2022-07-17T17:00:21.987Z"
   },
   {
    "duration": 81,
    "start_time": "2022-07-17T17:00:22.031Z"
   },
   {
    "duration": 97,
    "start_time": "2022-07-17T17:00:22.116Z"
   },
   {
    "duration": 22,
    "start_time": "2022-07-17T17:00:22.216Z"
   },
   {
    "duration": 9,
    "start_time": "2022-07-17T17:00:22.241Z"
   },
   {
    "duration": 2401,
    "start_time": "2022-07-17T17:00:22.254Z"
   },
   {
    "duration": 1172,
    "start_time": "2022-07-17T17:00:24.658Z"
   },
   {
    "duration": 1810,
    "start_time": "2022-07-17T17:00:25.832Z"
   },
   {
    "duration": 18,
    "start_time": "2022-07-17T17:00:27.645Z"
   },
   {
    "duration": 139,
    "start_time": "2022-07-17T17:00:27.665Z"
   },
   {
    "duration": 95,
    "start_time": "2022-07-17T17:01:28.423Z"
   },
   {
    "duration": 2193,
    "start_time": "2022-07-17T17:02:56.225Z"
   },
   {
    "duration": 1559,
    "start_time": "2022-07-17T17:03:05.846Z"
   },
   {
    "duration": 469,
    "start_time": "2022-07-17T17:03:31.949Z"
   },
   {
    "duration": 12,
    "start_time": "2022-07-17T17:04:03.463Z"
   },
   {
    "duration": 1655,
    "start_time": "2022-07-17T17:04:45.649Z"
   },
   {
    "duration": 42,
    "start_time": "2022-07-17T17:04:47.307Z"
   },
   {
    "duration": 9,
    "start_time": "2022-07-17T17:04:47.352Z"
   },
   {
    "duration": 26,
    "start_time": "2022-07-17T17:04:47.364Z"
   },
   {
    "duration": 84,
    "start_time": "2022-07-17T17:04:47.393Z"
   },
   {
    "duration": 27,
    "start_time": "2022-07-17T17:04:47.480Z"
   },
   {
    "duration": 8,
    "start_time": "2022-07-17T17:04:47.510Z"
   },
   {
    "duration": 6,
    "start_time": "2022-07-17T17:04:47.520Z"
   },
   {
    "duration": 57,
    "start_time": "2022-07-17T17:04:47.528Z"
   },
   {
    "duration": 55,
    "start_time": "2022-07-17T17:04:47.588Z"
   },
   {
    "duration": 14,
    "start_time": "2022-07-17T17:04:47.645Z"
   },
   {
    "duration": 15,
    "start_time": "2022-07-17T17:04:47.661Z"
   },
   {
    "duration": 2301,
    "start_time": "2022-07-17T17:04:47.679Z"
   },
   {
    "duration": 1091,
    "start_time": "2022-07-17T17:04:49.983Z"
   },
   {
    "duration": 1717,
    "start_time": "2022-07-17T17:04:51.077Z"
   },
   {
    "duration": 21,
    "start_time": "2022-07-17T17:04:52.796Z"
   },
   {
    "duration": 901,
    "start_time": "2022-07-17T17:04:52.819Z"
   },
   {
    "duration": 0,
    "start_time": "2022-07-17T17:04:53.722Z"
   },
   {
    "duration": 614,
    "start_time": "2022-07-17T17:05:10.392Z"
   },
   {
    "duration": 2174,
    "start_time": "2022-07-17T17:06:03.346Z"
   },
   {
    "duration": 29,
    "start_time": "2022-07-17T17:06:26.379Z"
   },
   {
    "duration": 1753,
    "start_time": "2022-07-17T17:08:37.488Z"
   },
   {
    "duration": 36,
    "start_time": "2022-07-17T17:08:39.244Z"
   },
   {
    "duration": 6,
    "start_time": "2022-07-17T17:08:39.282Z"
   },
   {
    "duration": 22,
    "start_time": "2022-07-17T17:08:39.291Z"
   },
   {
    "duration": 64,
    "start_time": "2022-07-17T17:08:39.316Z"
   },
   {
    "duration": 8,
    "start_time": "2022-07-17T17:08:39.382Z"
   },
   {
    "duration": 8,
    "start_time": "2022-07-17T17:08:39.405Z"
   },
   {
    "duration": 41,
    "start_time": "2022-07-17T17:08:39.415Z"
   },
   {
    "duration": 48,
    "start_time": "2022-07-17T17:08:39.457Z"
   },
   {
    "duration": 61,
    "start_time": "2022-07-17T17:08:39.506Z"
   },
   {
    "duration": 29,
    "start_time": "2022-07-17T17:08:39.569Z"
   },
   {
    "duration": 60,
    "start_time": "2022-07-17T17:08:39.600Z"
   },
   {
    "duration": 2524,
    "start_time": "2022-07-17T17:08:39.662Z"
   },
   {
    "duration": 1163,
    "start_time": "2022-07-17T17:08:42.189Z"
   },
   {
    "duration": 1755,
    "start_time": "2022-07-17T17:08:43.355Z"
   },
   {
    "duration": 17,
    "start_time": "2022-07-17T17:08:45.112Z"
   },
   {
    "duration": 174,
    "start_time": "2022-07-17T17:08:45.131Z"
   },
   {
    "duration": 605,
    "start_time": "2022-07-17T17:08:45.307Z"
   },
   {
    "duration": 1458,
    "start_time": "2022-07-18T10:37:32.747Z"
   },
   {
    "duration": 114,
    "start_time": "2022-07-18T10:37:34.207Z"
   },
   {
    "duration": 8,
    "start_time": "2022-07-18T10:37:34.323Z"
   },
   {
    "duration": 7,
    "start_time": "2022-07-18T10:37:34.334Z"
   },
   {
    "duration": 64,
    "start_time": "2022-07-18T10:37:34.343Z"
   },
   {
    "duration": 7,
    "start_time": "2022-07-18T10:37:34.409Z"
   },
   {
    "duration": 8,
    "start_time": "2022-07-18T10:37:34.417Z"
   },
   {
    "duration": 6,
    "start_time": "2022-07-18T10:37:34.426Z"
   },
   {
    "duration": 22,
    "start_time": "2022-07-18T10:37:34.433Z"
   },
   {
    "duration": 76,
    "start_time": "2022-07-18T10:37:34.458Z"
   },
   {
    "duration": 11,
    "start_time": "2022-07-18T10:37:34.535Z"
   },
   {
    "duration": 3,
    "start_time": "2022-07-18T10:37:34.547Z"
   },
   {
    "duration": 1923,
    "start_time": "2022-07-18T10:37:34.552Z"
   },
   {
    "duration": 788,
    "start_time": "2022-07-18T10:37:36.477Z"
   },
   {
    "duration": 1577,
    "start_time": "2022-07-18T10:37:37.267Z"
   },
   {
    "duration": 17,
    "start_time": "2022-07-18T10:37:38.847Z"
   },
   {
    "duration": 43,
    "start_time": "2022-07-18T10:37:38.865Z"
   },
   {
    "duration": 519,
    "start_time": "2022-07-18T10:37:38.911Z"
   },
   {
    "duration": 2788,
    "start_time": "2022-07-18T10:41:32.256Z"
   },
   {
    "duration": 2514,
    "start_time": "2022-07-18T10:44:01.697Z"
   },
   {
    "duration": 2184,
    "start_time": "2022-07-18T10:45:33.859Z"
   },
   {
    "duration": 1111,
    "start_time": "2022-07-18T10:47:50.904Z"
   },
   {
    "duration": 2688,
    "start_time": "2022-07-18T10:47:57.402Z"
   },
   {
    "duration": 1812,
    "start_time": "2022-07-18T10:48:10.976Z"
   },
   {
    "duration": 1473,
    "start_time": "2022-07-18T10:49:08.972Z"
   },
   {
    "duration": 1047,
    "start_time": "2022-07-18T10:50:09.014Z"
   },
   {
    "duration": 1528,
    "start_time": "2022-07-18T10:50:17.391Z"
   },
   {
    "duration": 1161,
    "start_time": "2022-07-18T10:51:07.181Z"
   },
   {
    "duration": 3083,
    "start_time": "2022-07-18T10:51:25.468Z"
   },
   {
    "duration": 118,
    "start_time": "2022-07-18T10:51:35.737Z"
   },
   {
    "duration": 2795,
    "start_time": "2022-07-18T10:51:43.821Z"
   },
   {
    "duration": 592,
    "start_time": "2022-07-18T10:52:23.858Z"
   },
   {
    "duration": 626,
    "start_time": "2022-07-18T10:52:37.723Z"
   },
   {
    "duration": 2420,
    "start_time": "2022-07-18T10:52:45.435Z"
   },
   {
    "duration": 575,
    "start_time": "2022-07-18T10:53:43.899Z"
   },
   {
    "duration": 2533,
    "start_time": "2022-07-18T10:53:55.513Z"
   },
   {
    "duration": 2813,
    "start_time": "2022-07-18T10:56:51.840Z"
   },
   {
    "duration": 2406,
    "start_time": "2022-07-18T10:57:24.589Z"
   },
   {
    "duration": 2411,
    "start_time": "2022-07-18T10:57:38.017Z"
   },
   {
    "duration": 2515,
    "start_time": "2022-07-18T10:58:05.784Z"
   },
   {
    "duration": 746,
    "start_time": "2022-07-18T11:01:12.093Z"
   },
   {
    "duration": 644,
    "start_time": "2022-07-18T11:01:34.940Z"
   },
   {
    "duration": 1505,
    "start_time": "2022-07-18T11:02:36.940Z"
   },
   {
    "duration": 30,
    "start_time": "2022-07-18T11:02:38.447Z"
   },
   {
    "duration": 5,
    "start_time": "2022-07-18T11:02:38.478Z"
   },
   {
    "duration": 6,
    "start_time": "2022-07-18T11:02:38.485Z"
   },
   {
    "duration": 69,
    "start_time": "2022-07-18T11:02:38.492Z"
   },
   {
    "duration": 6,
    "start_time": "2022-07-18T11:02:38.563Z"
   },
   {
    "duration": 6,
    "start_time": "2022-07-18T11:02:38.571Z"
   },
   {
    "duration": 5,
    "start_time": "2022-07-18T11:02:38.578Z"
   },
   {
    "duration": 36,
    "start_time": "2022-07-18T11:02:38.584Z"
   },
   {
    "duration": 50,
    "start_time": "2022-07-18T11:02:38.623Z"
   },
   {
    "duration": 11,
    "start_time": "2022-07-18T11:02:38.674Z"
   },
   {
    "duration": 6,
    "start_time": "2022-07-18T11:02:38.703Z"
   },
   {
    "duration": 2384,
    "start_time": "2022-07-18T11:02:38.716Z"
   },
   {
    "duration": 936,
    "start_time": "2022-07-18T11:02:41.102Z"
   },
   {
    "duration": 1392,
    "start_time": "2022-07-18T11:02:42.040Z"
   },
   {
    "duration": 24,
    "start_time": "2022-07-18T11:02:43.434Z"
   },
   {
    "duration": 366,
    "start_time": "2022-07-18T11:02:43.461Z"
   },
   {
    "duration": 547,
    "start_time": "2022-07-18T11:02:43.904Z"
   },
   {
    "duration": 878,
    "start_time": "2022-07-18T11:03:22.383Z"
   },
   {
    "duration": 848,
    "start_time": "2022-07-18T11:03:55.821Z"
   },
   {
    "duration": 860,
    "start_time": "2022-07-18T11:04:13.598Z"
   },
   {
    "duration": 959,
    "start_time": "2022-07-18T11:04:40.316Z"
   },
   {
    "duration": 808,
    "start_time": "2022-07-18T11:04:50.283Z"
   },
   {
    "duration": 829,
    "start_time": "2022-07-18T11:05:00.065Z"
   },
   {
    "duration": 852,
    "start_time": "2022-07-18T11:05:08.637Z"
   },
   {
    "duration": 1337,
    "start_time": "2022-07-18T11:06:51.145Z"
   },
   {
    "duration": 32,
    "start_time": "2022-07-18T11:06:52.483Z"
   },
   {
    "duration": 5,
    "start_time": "2022-07-18T11:06:52.517Z"
   },
   {
    "duration": 30,
    "start_time": "2022-07-18T11:06:52.524Z"
   },
   {
    "duration": 61,
    "start_time": "2022-07-18T11:06:52.556Z"
   },
   {
    "duration": 7,
    "start_time": "2022-07-18T11:06:52.618Z"
   },
   {
    "duration": 13,
    "start_time": "2022-07-18T11:06:52.627Z"
   },
   {
    "duration": 11,
    "start_time": "2022-07-18T11:06:52.641Z"
   },
   {
    "duration": 27,
    "start_time": "2022-07-18T11:06:52.654Z"
   },
   {
    "duration": 45,
    "start_time": "2022-07-18T11:06:52.684Z"
   },
   {
    "duration": 9,
    "start_time": "2022-07-18T11:06:52.730Z"
   },
   {
    "duration": 19,
    "start_time": "2022-07-18T11:06:52.740Z"
   },
   {
    "duration": 2311,
    "start_time": "2022-07-18T11:06:52.761Z"
   },
   {
    "duration": 884,
    "start_time": "2022-07-18T11:06:55.074Z"
   },
   {
    "duration": 1468,
    "start_time": "2022-07-18T11:06:55.960Z"
   },
   {
    "duration": 17,
    "start_time": "2022-07-18T11:06:57.430Z"
   },
   {
    "duration": 278,
    "start_time": "2022-07-18T11:06:57.448Z"
   },
   {
    "duration": 540,
    "start_time": "2022-07-18T11:06:57.804Z"
   },
   {
    "duration": 1400,
    "start_time": "2022-07-18T11:07:09.285Z"
   },
   {
    "duration": 876,
    "start_time": "2022-07-18T11:07:34.470Z"
   },
   {
    "duration": 1406,
    "start_time": "2022-07-18T11:11:36.106Z"
   },
   {
    "duration": 31,
    "start_time": "2022-07-18T11:11:37.514Z"
   },
   {
    "duration": 6,
    "start_time": "2022-07-18T11:11:37.547Z"
   },
   {
    "duration": 22,
    "start_time": "2022-07-18T11:11:37.555Z"
   },
   {
    "duration": 105,
    "start_time": "2022-07-18T11:11:37.579Z"
   },
   {
    "duration": 8,
    "start_time": "2022-07-18T11:11:37.686Z"
   },
   {
    "duration": 30,
    "start_time": "2022-07-18T11:11:37.696Z"
   },
   {
    "duration": 7,
    "start_time": "2022-07-18T11:11:37.728Z"
   },
   {
    "duration": 25,
    "start_time": "2022-07-18T11:11:37.737Z"
   },
   {
    "duration": 37,
    "start_time": "2022-07-18T11:11:37.764Z"
   },
   {
    "duration": 17,
    "start_time": "2022-07-18T11:11:37.811Z"
   },
   {
    "duration": 3,
    "start_time": "2022-07-18T11:11:37.830Z"
   },
   {
    "duration": 2380,
    "start_time": "2022-07-18T11:11:37.834Z"
   },
   {
    "duration": 844,
    "start_time": "2022-07-18T11:11:40.216Z"
   },
   {
    "duration": 1434,
    "start_time": "2022-07-18T11:11:41.062Z"
   },
   {
    "duration": 21,
    "start_time": "2022-07-18T11:11:42.499Z"
   },
   {
    "duration": 303,
    "start_time": "2022-07-18T11:11:42.522Z"
   },
   {
    "duration": 636,
    "start_time": "2022-07-18T11:11:42.829Z"
   },
   {
    "duration": 827,
    "start_time": "2022-07-18T11:14:18.853Z"
   },
   {
    "duration": 827,
    "start_time": "2022-07-18T11:14:27.651Z"
   },
   {
    "duration": 1534,
    "start_time": "2022-07-18T15:28:03.975Z"
   },
   {
    "duration": 120,
    "start_time": "2022-07-18T15:28:05.511Z"
   },
   {
    "duration": 5,
    "start_time": "2022-07-18T15:28:05.633Z"
   },
   {
    "duration": 6,
    "start_time": "2022-07-18T15:28:05.640Z"
   },
   {
    "duration": 49,
    "start_time": "2022-07-18T15:28:05.648Z"
   },
   {
    "duration": 9,
    "start_time": "2022-07-18T15:28:05.698Z"
   },
   {
    "duration": 10,
    "start_time": "2022-07-18T15:28:05.708Z"
   },
   {
    "duration": 5,
    "start_time": "2022-07-18T15:28:05.719Z"
   },
   {
    "duration": 52,
    "start_time": "2022-07-18T15:28:05.726Z"
   },
   {
    "duration": 55,
    "start_time": "2022-07-18T15:28:05.782Z"
   },
   {
    "duration": 11,
    "start_time": "2022-07-18T15:28:05.853Z"
   },
   {
    "duration": 3,
    "start_time": "2022-07-18T15:28:05.866Z"
   },
   {
    "duration": 2529,
    "start_time": "2022-07-18T15:28:05.870Z"
   },
   {
    "duration": 871,
    "start_time": "2022-07-18T15:28:08.401Z"
   },
   {
    "duration": 1371,
    "start_time": "2022-07-18T15:28:09.274Z"
   },
   {
    "duration": 24,
    "start_time": "2022-07-18T15:28:10.646Z"
   },
   {
    "duration": 90,
    "start_time": "2022-07-18T15:28:10.672Z"
   },
   {
    "duration": 636,
    "start_time": "2022-07-18T15:28:10.763Z"
   },
   {
    "duration": 4,
    "start_time": "2022-07-18T15:28:11.401Z"
   },
   {
    "duration": 123,
    "start_time": "2022-07-18T15:28:11.408Z"
   },
   {
    "duration": 0,
    "start_time": "2022-07-18T15:28:11.533Z"
   },
   {
    "duration": 1414,
    "start_time": "2022-07-18T15:28:47.833Z"
   },
   {
    "duration": 31,
    "start_time": "2022-07-18T15:28:49.249Z"
   },
   {
    "duration": 5,
    "start_time": "2022-07-18T15:28:49.282Z"
   },
   {
    "duration": 7,
    "start_time": "2022-07-18T15:28:49.288Z"
   },
   {
    "duration": 45,
    "start_time": "2022-07-18T15:28:49.296Z"
   },
   {
    "duration": 9,
    "start_time": "2022-07-18T15:28:49.343Z"
   },
   {
    "duration": 5,
    "start_time": "2022-07-18T15:28:49.353Z"
   },
   {
    "duration": 6,
    "start_time": "2022-07-18T15:28:49.359Z"
   },
   {
    "duration": 20,
    "start_time": "2022-07-18T15:28:49.366Z"
   },
   {
    "duration": 37,
    "start_time": "2022-07-18T15:28:49.388Z"
   },
   {
    "duration": 29,
    "start_time": "2022-07-18T15:28:49.426Z"
   },
   {
    "duration": 3,
    "start_time": "2022-07-18T15:28:49.456Z"
   },
   {
    "duration": 2306,
    "start_time": "2022-07-18T15:28:49.461Z"
   },
   {
    "duration": 792,
    "start_time": "2022-07-18T15:28:51.769Z"
   },
   {
    "duration": 1333,
    "start_time": "2022-07-18T15:28:52.563Z"
   },
   {
    "duration": 13,
    "start_time": "2022-07-18T15:28:53.898Z"
   },
   {
    "duration": 144,
    "start_time": "2022-07-18T15:28:53.912Z"
   },
   {
    "duration": 634,
    "start_time": "2022-07-18T15:28:54.058Z"
   },
   {
    "duration": 4,
    "start_time": "2022-07-18T15:28:54.694Z"
   },
   {
    "duration": 8,
    "start_time": "2022-07-18T15:28:54.700Z"
   },
   {
    "duration": 6,
    "start_time": "2022-07-18T15:28:54.710Z"
   },
   {
    "duration": 3,
    "start_time": "2022-07-18T15:56:40.420Z"
   },
   {
    "duration": 3,
    "start_time": "2022-07-18T15:56:50.319Z"
   },
   {
    "duration": 4,
    "start_time": "2022-07-18T15:58:27.543Z"
   },
   {
    "duration": 126,
    "start_time": "2022-07-18T15:58:29.982Z"
   },
   {
    "duration": 598,
    "start_time": "2022-07-18T15:58:39.956Z"
   },
   {
    "duration": 5,
    "start_time": "2022-07-18T16:00:15.012Z"
   },
   {
    "duration": 722,
    "start_time": "2022-07-18T16:00:16.869Z"
   },
   {
    "duration": 3,
    "start_time": "2022-07-18T16:00:28.869Z"
   },
   {
    "duration": 591,
    "start_time": "2022-07-18T16:00:30.501Z"
   },
   {
    "duration": 3,
    "start_time": "2022-07-18T16:00:57.939Z"
   },
   {
    "duration": 821,
    "start_time": "2022-07-18T16:01:00.002Z"
   },
   {
    "duration": 4,
    "start_time": "2022-07-18T16:01:20.308Z"
   },
   {
    "duration": 961,
    "start_time": "2022-07-18T16:01:21.868Z"
   },
   {
    "duration": 15,
    "start_time": "2022-07-18T16:01:42.142Z"
   },
   {
    "duration": 4,
    "start_time": "2022-07-18T16:01:46.340Z"
   },
   {
    "duration": 1084,
    "start_time": "2022-07-18T16:01:48.138Z"
   },
   {
    "duration": 6,
    "start_time": "2022-07-18T16:02:24.848Z"
   },
   {
    "duration": 851,
    "start_time": "2022-07-18T16:02:26.217Z"
   },
   {
    "duration": 1623,
    "start_time": "2022-07-18T16:02:32.627Z"
   },
   {
    "duration": 36,
    "start_time": "2022-07-18T16:02:34.252Z"
   },
   {
    "duration": 5,
    "start_time": "2022-07-18T16:02:34.290Z"
   },
   {
    "duration": 12,
    "start_time": "2022-07-18T16:02:34.297Z"
   },
   {
    "duration": 49,
    "start_time": "2022-07-18T16:02:34.310Z"
   },
   {
    "duration": 10,
    "start_time": "2022-07-18T16:02:34.360Z"
   },
   {
    "duration": 5,
    "start_time": "2022-07-18T16:02:34.372Z"
   },
   {
    "duration": 6,
    "start_time": "2022-07-18T16:02:34.378Z"
   },
   {
    "duration": 19,
    "start_time": "2022-07-18T16:02:34.385Z"
   },
   {
    "duration": 61,
    "start_time": "2022-07-18T16:02:34.406Z"
   },
   {
    "duration": 10,
    "start_time": "2022-07-18T16:02:34.468Z"
   },
   {
    "duration": 4,
    "start_time": "2022-07-18T16:02:34.480Z"
   },
   {
    "duration": 2614,
    "start_time": "2022-07-18T16:02:34.485Z"
   },
   {
    "duration": 918,
    "start_time": "2022-07-18T16:02:37.100Z"
   },
   {
    "duration": 1554,
    "start_time": "2022-07-18T16:02:38.020Z"
   },
   {
    "duration": 13,
    "start_time": "2022-07-18T16:02:39.576Z"
   },
   {
    "duration": 12,
    "start_time": "2022-07-18T16:02:39.590Z"
   },
   {
    "duration": 1017,
    "start_time": "2022-07-18T16:02:39.603Z"
   },
   {
    "duration": 1404,
    "start_time": "2022-07-18T16:09:15.606Z"
   },
   {
    "duration": 31,
    "start_time": "2022-07-18T16:09:17.012Z"
   },
   {
    "duration": 5,
    "start_time": "2022-07-18T16:09:17.044Z"
   },
   {
    "duration": 7,
    "start_time": "2022-07-18T16:09:17.051Z"
   },
   {
    "duration": 53,
    "start_time": "2022-07-18T16:09:17.060Z"
   },
   {
    "duration": 7,
    "start_time": "2022-07-18T16:09:17.114Z"
   },
   {
    "duration": 5,
    "start_time": "2022-07-18T16:09:17.123Z"
   },
   {
    "duration": 28,
    "start_time": "2022-07-18T16:09:17.130Z"
   },
   {
    "duration": 20,
    "start_time": "2022-07-18T16:09:17.160Z"
   },
   {
    "duration": 37,
    "start_time": "2022-07-18T16:09:17.182Z"
   },
   {
    "duration": 31,
    "start_time": "2022-07-18T16:09:17.221Z"
   },
   {
    "duration": 3,
    "start_time": "2022-07-18T16:09:17.254Z"
   },
   {
    "duration": 2425,
    "start_time": "2022-07-18T16:09:17.258Z"
   },
   {
    "duration": 867,
    "start_time": "2022-07-18T16:09:19.684Z"
   },
   {
    "duration": 1357,
    "start_time": "2022-07-18T16:09:20.553Z"
   },
   {
    "duration": 14,
    "start_time": "2022-07-18T16:09:21.911Z"
   },
   {
    "duration": 3,
    "start_time": "2022-07-18T16:09:21.927Z"
   },
   {
    "duration": 904,
    "start_time": "2022-07-18T16:09:21.932Z"
   },
   {
    "duration": 111,
    "start_time": "2022-07-18T16:22:01.079Z"
   },
   {
    "duration": 1438,
    "start_time": "2022-07-18T16:23:16.000Z"
   },
   {
    "duration": 31,
    "start_time": "2022-07-18T16:23:17.440Z"
   },
   {
    "duration": 5,
    "start_time": "2022-07-18T16:23:17.472Z"
   },
   {
    "duration": 7,
    "start_time": "2022-07-18T16:23:17.480Z"
   },
   {
    "duration": 45,
    "start_time": "2022-07-18T16:23:17.489Z"
   },
   {
    "duration": 17,
    "start_time": "2022-07-18T16:23:17.536Z"
   },
   {
    "duration": 9,
    "start_time": "2022-07-18T16:23:17.555Z"
   },
   {
    "duration": 6,
    "start_time": "2022-07-18T16:23:17.566Z"
   },
   {
    "duration": 22,
    "start_time": "2022-07-18T16:23:17.573Z"
   },
   {
    "duration": 66,
    "start_time": "2022-07-18T16:23:17.598Z"
   },
   {
    "duration": 12,
    "start_time": "2022-07-18T16:23:17.665Z"
   },
   {
    "duration": 3,
    "start_time": "2022-07-18T16:23:17.678Z"
   },
   {
    "duration": 2520,
    "start_time": "2022-07-18T16:23:17.683Z"
   },
   {
    "duration": 840,
    "start_time": "2022-07-18T16:23:20.205Z"
   },
   {
    "duration": 1401,
    "start_time": "2022-07-18T16:23:21.047Z"
   },
   {
    "duration": 14,
    "start_time": "2022-07-18T16:23:22.449Z"
   },
   {
    "duration": 3,
    "start_time": "2022-07-18T16:23:22.465Z"
   },
   {
    "duration": 728,
    "start_time": "2022-07-18T16:23:22.469Z"
   },
   {
    "duration": 102936,
    "start_time": "2022-07-18T16:23:23.198Z"
   },
   {
    "duration": 109117,
    "start_time": "2022-07-18T16:27:36.668Z"
   },
   {
    "duration": 103,
    "start_time": "2022-07-18T16:31:39.967Z"
   },
   {
    "duration": 1378,
    "start_time": "2022-07-18T16:32:35.215Z"
   },
   {
    "duration": 32,
    "start_time": "2022-07-18T16:32:36.595Z"
   },
   {
    "duration": 6,
    "start_time": "2022-07-18T16:32:36.628Z"
   },
   {
    "duration": 8,
    "start_time": "2022-07-18T16:32:36.635Z"
   },
   {
    "duration": 45,
    "start_time": "2022-07-18T16:32:36.644Z"
   },
   {
    "duration": 6,
    "start_time": "2022-07-18T16:32:36.691Z"
   },
   {
    "duration": 6,
    "start_time": "2022-07-18T16:32:36.698Z"
   },
   {
    "duration": 5,
    "start_time": "2022-07-18T16:32:36.705Z"
   },
   {
    "duration": 52,
    "start_time": "2022-07-18T16:32:36.712Z"
   },
   {
    "duration": 38,
    "start_time": "2022-07-18T16:32:36.767Z"
   },
   {
    "duration": 10,
    "start_time": "2022-07-18T16:32:36.806Z"
   },
   {
    "duration": 3,
    "start_time": "2022-07-18T16:32:36.817Z"
   },
   {
    "duration": 2414,
    "start_time": "2022-07-18T16:32:36.821Z"
   },
   {
    "duration": 794,
    "start_time": "2022-07-18T16:32:39.236Z"
   },
   {
    "duration": 1378,
    "start_time": "2022-07-18T16:32:40.032Z"
   },
   {
    "duration": 13,
    "start_time": "2022-07-18T16:32:41.411Z"
   },
   {
    "duration": 14,
    "start_time": "2022-07-18T16:32:41.425Z"
   },
   {
    "duration": 709,
    "start_time": "2022-07-18T16:32:41.440Z"
   },
   {
    "duration": 102961,
    "start_time": "2022-07-18T16:32:42.150Z"
   },
   {
    "duration": 1048,
    "start_time": "2022-07-18T16:34:25.112Z"
   },
   {
    "duration": 589,
    "start_time": "2022-07-18T16:34:45.122Z"
   },
   {
    "duration": 1508,
    "start_time": "2022-07-18T16:36:00.122Z"
   },
   {
    "duration": 30,
    "start_time": "2022-07-18T16:36:01.632Z"
   },
   {
    "duration": 4,
    "start_time": "2022-07-18T16:36:01.664Z"
   },
   {
    "duration": 9,
    "start_time": "2022-07-18T16:36:01.670Z"
   },
   {
    "duration": 46,
    "start_time": "2022-07-18T16:36:01.680Z"
   },
   {
    "duration": 7,
    "start_time": "2022-07-18T16:36:01.728Z"
   },
   {
    "duration": 6,
    "start_time": "2022-07-18T16:36:01.753Z"
   },
   {
    "duration": 5,
    "start_time": "2022-07-18T16:36:01.760Z"
   },
   {
    "duration": 26,
    "start_time": "2022-07-18T16:36:01.767Z"
   },
   {
    "duration": 36,
    "start_time": "2022-07-18T16:36:01.795Z"
   },
   {
    "duration": 28,
    "start_time": "2022-07-18T16:36:01.833Z"
   },
   {
    "duration": 2,
    "start_time": "2022-07-18T16:36:01.863Z"
   },
   {
    "duration": 2155,
    "start_time": "2022-07-18T16:36:01.867Z"
   },
   {
    "duration": 803,
    "start_time": "2022-07-18T16:36:04.024Z"
   },
   {
    "duration": 1427,
    "start_time": "2022-07-18T16:36:04.828Z"
   },
   {
    "duration": 12,
    "start_time": "2022-07-18T16:36:06.257Z"
   },
   {
    "duration": 3,
    "start_time": "2022-07-18T16:36:06.271Z"
   },
   {
    "duration": 707,
    "start_time": "2022-07-18T16:36:06.275Z"
   },
   {
    "duration": 102320,
    "start_time": "2022-07-18T16:36:06.983Z"
   },
   {
    "duration": 1248,
    "start_time": "2022-07-18T16:37:49.305Z"
   },
   {
    "duration": 14,
    "start_time": "2022-07-18T16:38:21.785Z"
   },
   {
    "duration": 3562,
    "start_time": "2022-07-18T16:44:08.482Z"
   },
   {
    "duration": 3850,
    "start_time": "2022-07-18T16:45:12.665Z"
   },
   {
    "duration": 3767,
    "start_time": "2022-07-18T16:45:43.173Z"
   },
   {
    "duration": 4079,
    "start_time": "2022-07-18T16:46:18.150Z"
   },
   {
    "duration": 1147,
    "start_time": "2022-07-18T16:48:43.858Z"
   },
   {
    "duration": 3663,
    "start_time": "2022-07-18T16:49:05.738Z"
   },
   {
    "duration": 3866,
    "start_time": "2022-07-18T16:50:29.047Z"
   },
   {
    "duration": 1051,
    "start_time": "2022-07-18T16:50:56.342Z"
   },
   {
    "duration": 1357,
    "start_time": "2022-07-18T16:51:39.549Z"
   },
   {
    "duration": 31,
    "start_time": "2022-07-18T16:51:40.908Z"
   },
   {
    "duration": 5,
    "start_time": "2022-07-18T16:51:40.940Z"
   },
   {
    "duration": 6,
    "start_time": "2022-07-18T16:51:40.947Z"
   },
   {
    "duration": 40,
    "start_time": "2022-07-18T16:51:40.955Z"
   },
   {
    "duration": 7,
    "start_time": "2022-07-18T16:51:40.997Z"
   },
   {
    "duration": 4,
    "start_time": "2022-07-18T16:51:41.006Z"
   },
   {
    "duration": 3,
    "start_time": "2022-07-18T16:51:41.012Z"
   },
   {
    "duration": 55,
    "start_time": "2022-07-18T16:51:41.017Z"
   },
   {
    "duration": 40,
    "start_time": "2022-07-18T16:51:41.075Z"
   },
   {
    "duration": 8,
    "start_time": "2022-07-18T16:51:41.117Z"
   },
   {
    "duration": 2,
    "start_time": "2022-07-18T16:51:41.127Z"
   },
   {
    "duration": 2256,
    "start_time": "2022-07-18T16:51:41.131Z"
   },
   {
    "duration": 808,
    "start_time": "2022-07-18T16:51:43.388Z"
   },
   {
    "duration": 1368,
    "start_time": "2022-07-18T16:51:44.197Z"
   },
   {
    "duration": 13,
    "start_time": "2022-07-18T16:51:45.567Z"
   },
   {
    "duration": 4,
    "start_time": "2022-07-18T16:51:45.581Z"
   },
   {
    "duration": 828,
    "start_time": "2022-07-18T16:51:45.586Z"
   },
   {
    "duration": 104022,
    "start_time": "2022-07-18T16:51:46.416Z"
   },
   {
    "duration": 1014,
    "start_time": "2022-07-18T16:53:30.439Z"
   },
   {
    "duration": 97,
    "start_time": "2022-07-18T16:53:31.455Z"
   },
   {
    "duration": 3806,
    "start_time": "2022-07-18T16:53:31.554Z"
   },
   {
    "duration": 1182,
    "start_time": "2022-07-18T16:53:35.362Z"
   },
   {
    "duration": 2770,
    "start_time": "2022-07-18T16:55:26.068Z"
   },
   {
    "duration": 3870,
    "start_time": "2022-07-18T16:55:41.310Z"
   },
   {
    "duration": 2360,
    "start_time": "2022-07-18T16:56:47.708Z"
   },
   {
    "duration": 3783,
    "start_time": "2022-07-18T16:57:14.596Z"
   },
   {
    "duration": 3687,
    "start_time": "2022-07-18T16:57:46.702Z"
   },
   {
    "duration": 3514,
    "start_time": "2022-07-18T16:57:55.396Z"
   },
   {
    "duration": 3750,
    "start_time": "2022-07-18T16:58:15.769Z"
   },
   {
    "duration": 3323,
    "start_time": "2022-07-18T16:58:23.929Z"
   },
   {
    "duration": 1088,
    "start_time": "2022-07-18T16:59:47.745Z"
   },
   {
    "duration": 1073,
    "start_time": "2022-07-18T17:01:06.045Z"
   },
   {
    "duration": 1205,
    "start_time": "2022-07-18T17:06:01.550Z"
   },
   {
    "duration": 1153,
    "start_time": "2022-07-18T17:10:08.211Z"
   },
   {
    "duration": 1007,
    "start_time": "2022-07-18T17:10:29.974Z"
   },
   {
    "duration": 3414,
    "start_time": "2022-07-18T17:10:49.949Z"
   },
   {
    "duration": 1111,
    "start_time": "2022-07-18T17:11:20.942Z"
   },
   {
    "duration": 13,
    "start_time": "2022-07-18T17:11:23.506Z"
   },
   {
    "duration": 864,
    "start_time": "2022-07-18T17:14:54.088Z"
   },
   {
    "duration": 1107,
    "start_time": "2022-07-18T17:15:00.550Z"
   },
   {
    "duration": 13,
    "start_time": "2022-07-18T17:15:05.133Z"
   },
   {
    "duration": 106,
    "start_time": "2022-07-18T17:16:51.090Z"
   },
   {
    "duration": 1491,
    "start_time": "2022-07-18T17:17:37.316Z"
   },
   {
    "duration": 32,
    "start_time": "2022-07-18T17:17:38.810Z"
   },
   {
    "duration": 7,
    "start_time": "2022-07-18T17:17:38.844Z"
   },
   {
    "duration": 11,
    "start_time": "2022-07-18T17:17:38.854Z"
   },
   {
    "duration": 44,
    "start_time": "2022-07-18T17:17:38.867Z"
   },
   {
    "duration": 7,
    "start_time": "2022-07-18T17:17:38.913Z"
   },
   {
    "duration": 34,
    "start_time": "2022-07-18T17:17:38.922Z"
   },
   {
    "duration": 6,
    "start_time": "2022-07-18T17:17:38.957Z"
   },
   {
    "duration": 21,
    "start_time": "2022-07-18T17:17:38.964Z"
   },
   {
    "duration": 37,
    "start_time": "2022-07-18T17:17:38.988Z"
   },
   {
    "duration": 30,
    "start_time": "2022-07-18T17:17:39.027Z"
   },
   {
    "duration": 3,
    "start_time": "2022-07-18T17:17:39.058Z"
   },
   {
    "duration": 2321,
    "start_time": "2022-07-18T17:17:39.062Z"
   },
   {
    "duration": 851,
    "start_time": "2022-07-18T17:17:41.385Z"
   },
   {
    "duration": 1431,
    "start_time": "2022-07-18T17:17:42.238Z"
   },
   {
    "duration": 15,
    "start_time": "2022-07-18T17:17:43.671Z"
   },
   {
    "duration": 5,
    "start_time": "2022-07-18T17:17:43.688Z"
   },
   {
    "duration": 926,
    "start_time": "2022-07-18T17:17:43.695Z"
   },
   {
    "duration": 104535,
    "start_time": "2022-07-18T17:17:44.623Z"
   },
   {
    "duration": 1092,
    "start_time": "2022-07-18T17:19:29.161Z"
   },
   {
    "duration": 96,
    "start_time": "2022-07-18T17:19:30.257Z"
   },
   {
    "duration": 554,
    "start_time": "2022-07-18T17:19:30.355Z"
   },
   {
    "duration": 3533,
    "start_time": "2022-07-18T17:19:30.911Z"
   },
   {
    "duration": 1298,
    "start_time": "2022-07-18T17:19:34.445Z"
   },
   {
    "duration": 15,
    "start_time": "2022-07-18T17:22:09.472Z"
   },
   {
    "duration": 118,
    "start_time": "2022-07-18T17:22:37.691Z"
   },
   {
    "duration": 14,
    "start_time": "2022-07-18T17:24:38.599Z"
   },
   {
    "duration": 9,
    "start_time": "2022-07-18T17:24:49.998Z"
   },
   {
    "duration": 13,
    "start_time": "2022-07-18T17:27:14.107Z"
   },
   {
    "duration": 24,
    "start_time": "2022-07-18T17:30:21.748Z"
   },
   {
    "duration": 185,
    "start_time": "2022-07-18T17:31:33.263Z"
   },
   {
    "duration": 13,
    "start_time": "2022-07-18T17:32:13.636Z"
   },
   {
    "duration": 192,
    "start_time": "2022-07-18T17:32:54.291Z"
   },
   {
    "duration": 1584,
    "start_time": "2022-07-19T04:04:00.712Z"
   },
   {
    "duration": 68,
    "start_time": "2022-07-19T04:04:02.298Z"
   },
   {
    "duration": 5,
    "start_time": "2022-07-19T04:04:02.368Z"
   },
   {
    "duration": 8,
    "start_time": "2022-07-19T04:04:02.374Z"
   },
   {
    "duration": 47,
    "start_time": "2022-07-19T04:04:02.384Z"
   },
   {
    "duration": 8,
    "start_time": "2022-07-19T04:04:02.433Z"
   },
   {
    "duration": 13,
    "start_time": "2022-07-19T04:04:02.443Z"
   },
   {
    "duration": 7,
    "start_time": "2022-07-19T04:04:02.458Z"
   },
   {
    "duration": 24,
    "start_time": "2022-07-19T04:04:02.466Z"
   },
   {
    "duration": 58,
    "start_time": "2022-07-19T04:04:02.493Z"
   },
   {
    "duration": 10,
    "start_time": "2022-07-19T04:04:02.552Z"
   },
   {
    "duration": 3,
    "start_time": "2022-07-19T04:04:02.564Z"
   },
   {
    "duration": 2389,
    "start_time": "2022-07-19T04:04:02.568Z"
   },
   {
    "duration": 844,
    "start_time": "2022-07-19T04:04:04.959Z"
   },
   {
    "duration": 1464,
    "start_time": "2022-07-19T04:04:05.804Z"
   },
   {
    "duration": 14,
    "start_time": "2022-07-19T04:04:07.270Z"
   },
   {
    "duration": 4,
    "start_time": "2022-07-19T04:04:07.285Z"
   },
   {
    "duration": 777,
    "start_time": "2022-07-19T04:04:07.291Z"
   },
   {
    "duration": 104493,
    "start_time": "2022-07-19T04:04:08.070Z"
   },
   {
    "duration": 1560,
    "start_time": "2022-07-19T04:05:52.565Z"
   },
   {
    "duration": 103,
    "start_time": "2022-07-19T04:05:54.128Z"
   },
   {
    "duration": 564,
    "start_time": "2022-07-19T04:05:54.233Z"
   },
   {
    "duration": 3516,
    "start_time": "2022-07-19T04:05:54.799Z"
   },
   {
    "duration": 1279,
    "start_time": "2022-07-19T04:05:58.323Z"
   },
   {
    "duration": 9,
    "start_time": "2022-07-19T04:05:59.604Z"
   },
   {
    "duration": 203,
    "start_time": "2022-07-19T04:05:59.624Z"
   },
   {
    "duration": 1059,
    "start_time": "2022-07-19T04:38:22.910Z"
   },
   {
    "duration": 1065,
    "start_time": "2022-07-19T04:38:33.291Z"
   },
   {
    "duration": 1106,
    "start_time": "2022-07-19T04:38:54.735Z"
   },
   {
    "duration": 1030,
    "start_time": "2022-07-19T04:39:07.429Z"
   },
   {
    "duration": 1452,
    "start_time": "2022-07-19T04:42:29.704Z"
   },
   {
    "duration": 33,
    "start_time": "2022-07-19T04:42:31.158Z"
   },
   {
    "duration": 27,
    "start_time": "2022-07-19T04:42:31.192Z"
   },
   {
    "duration": 33,
    "start_time": "2022-07-19T04:42:31.221Z"
   },
   {
    "duration": 61,
    "start_time": "2022-07-19T04:42:31.256Z"
   },
   {
    "duration": 7,
    "start_time": "2022-07-19T04:42:31.319Z"
   },
   {
    "duration": 36,
    "start_time": "2022-07-19T04:42:31.327Z"
   },
   {
    "duration": 19,
    "start_time": "2022-07-19T04:42:31.365Z"
   },
   {
    "duration": 59,
    "start_time": "2022-07-19T04:42:31.386Z"
   },
   {
    "duration": 50,
    "start_time": "2022-07-19T04:42:31.448Z"
   },
   {
    "duration": 12,
    "start_time": "2022-07-19T04:42:31.500Z"
   },
   {
    "duration": 118,
    "start_time": "2022-07-19T04:42:31.514Z"
   },
   {
    "duration": 2567,
    "start_time": "2022-07-19T04:42:31.634Z"
   },
   {
    "duration": 875,
    "start_time": "2022-07-19T04:42:34.203Z"
   },
   {
    "duration": 155,
    "start_time": "2022-07-19T04:42:35.080Z"
   },
   {
    "duration": 0,
    "start_time": "2022-07-19T04:42:35.237Z"
   },
   {
    "duration": 0,
    "start_time": "2022-07-19T04:42:35.239Z"
   },
   {
    "duration": 0,
    "start_time": "2022-07-19T04:42:35.240Z"
   },
   {
    "duration": 0,
    "start_time": "2022-07-19T04:42:35.242Z"
   },
   {
    "duration": 0,
    "start_time": "2022-07-19T04:42:35.244Z"
   },
   {
    "duration": 0,
    "start_time": "2022-07-19T04:42:35.245Z"
   },
   {
    "duration": 0,
    "start_time": "2022-07-19T04:42:35.246Z"
   },
   {
    "duration": 0,
    "start_time": "2022-07-19T04:42:35.247Z"
   },
   {
    "duration": 0,
    "start_time": "2022-07-19T04:42:35.249Z"
   },
   {
    "duration": 0,
    "start_time": "2022-07-19T04:42:35.250Z"
   },
   {
    "duration": 23,
    "start_time": "2022-07-19T04:43:55.632Z"
   },
   {
    "duration": 1590,
    "start_time": "2022-07-19T04:44:29.777Z"
   },
   {
    "duration": 1484,
    "start_time": "2022-07-19T04:44:44.060Z"
   },
   {
    "duration": 31,
    "start_time": "2022-07-19T04:44:45.547Z"
   },
   {
    "duration": 5,
    "start_time": "2022-07-19T04:44:45.580Z"
   },
   {
    "duration": 10,
    "start_time": "2022-07-19T04:44:45.588Z"
   },
   {
    "duration": 49,
    "start_time": "2022-07-19T04:44:45.600Z"
   },
   {
    "duration": 9,
    "start_time": "2022-07-19T04:44:45.650Z"
   },
   {
    "duration": 8,
    "start_time": "2022-07-19T04:44:45.661Z"
   },
   {
    "duration": 5,
    "start_time": "2022-07-19T04:44:45.671Z"
   },
   {
    "duration": 62,
    "start_time": "2022-07-19T04:44:45.678Z"
   },
   {
    "duration": 47,
    "start_time": "2022-07-19T04:44:45.744Z"
   },
   {
    "duration": 31,
    "start_time": "2022-07-19T04:44:45.794Z"
   },
   {
    "duration": 3,
    "start_time": "2022-07-19T04:44:45.827Z"
   },
   {
    "duration": 2629,
    "start_time": "2022-07-19T04:44:45.832Z"
   },
   {
    "duration": 928,
    "start_time": "2022-07-19T04:44:48.463Z"
   },
   {
    "duration": 1558,
    "start_time": "2022-07-19T04:44:49.393Z"
   },
   {
    "duration": 21,
    "start_time": "2022-07-19T04:44:50.954Z"
   },
   {
    "duration": 5,
    "start_time": "2022-07-19T04:44:50.977Z"
   },
   {
    "duration": 1019,
    "start_time": "2022-07-19T04:44:50.984Z"
   },
   {
    "duration": 113679,
    "start_time": "2022-07-19T04:44:52.005Z"
   },
   {
    "duration": 1346,
    "start_time": "2022-07-19T04:46:45.686Z"
   },
   {
    "duration": 17,
    "start_time": "2022-07-19T04:46:47.035Z"
   },
   {
    "duration": 553,
    "start_time": "2022-07-19T04:46:47.055Z"
   },
   {
    "duration": 3694,
    "start_time": "2022-07-19T04:46:47.609Z"
   },
   {
    "duration": 1198,
    "start_time": "2022-07-19T04:46:51.305Z"
   },
   {
    "duration": 20,
    "start_time": "2022-07-19T04:46:52.505Z"
   },
   {
    "duration": 618,
    "start_time": "2022-07-19T06:42:46.790Z"
   },
   {
    "duration": 2048,
    "start_time": "2022-07-19T06:43:24.263Z"
   },
   {
    "duration": 933,
    "start_time": "2022-07-19T07:04:05.601Z"
   },
   {
    "duration": 1023,
    "start_time": "2022-07-19T07:04:22.671Z"
   },
   {
    "duration": 1199,
    "start_time": "2022-07-19T08:26:15.830Z"
   },
   {
    "duration": 1121,
    "start_time": "2022-07-19T08:26:33.920Z"
   },
   {
    "duration": 1055,
    "start_time": "2022-07-19T08:27:01.045Z"
   },
   {
    "duration": 3929,
    "start_time": "2022-07-19T08:27:13.311Z"
   },
   {
    "duration": 3802,
    "start_time": "2022-07-19T08:27:27.573Z"
   },
   {
    "duration": 1001,
    "start_time": "2022-07-19T08:27:52.013Z"
   },
   {
    "duration": 1035,
    "start_time": "2022-07-19T08:31:42.587Z"
   },
   {
    "duration": 1019,
    "start_time": "2022-07-19T08:36:32.035Z"
   },
   {
    "duration": 1109,
    "start_time": "2022-07-19T08:36:54.005Z"
   },
   {
    "duration": 1141,
    "start_time": "2022-07-19T08:37:02.829Z"
   },
   {
    "duration": 461,
    "start_time": "2022-07-19T08:37:59.069Z"
   },
   {
    "duration": 1002,
    "start_time": "2022-07-19T08:39:48.776Z"
   },
   {
    "duration": 1180,
    "start_time": "2022-07-19T08:40:22.310Z"
   },
   {
    "duration": 1150,
    "start_time": "2022-07-19T08:40:33.989Z"
   },
   {
    "duration": 54,
    "start_time": "2022-07-19T09:08:07.835Z"
   },
   {
    "duration": 51,
    "start_time": "2022-07-19T09:08:56.336Z"
   },
   {
    "duration": 62,
    "start_time": "2022-07-19T09:09:17.789Z"
   },
   {
    "duration": 77,
    "start_time": "2022-07-19T09:09:21.453Z"
   },
   {
    "duration": 127,
    "start_time": "2022-07-19T09:15:09.882Z"
   },
   {
    "duration": 1757,
    "start_time": "2022-07-19T14:05:16.190Z"
   },
   {
    "duration": 115,
    "start_time": "2022-07-19T14:05:17.950Z"
   },
   {
    "duration": 5,
    "start_time": "2022-07-19T14:05:18.067Z"
   },
   {
    "duration": 6,
    "start_time": "2022-07-19T14:05:18.074Z"
   },
   {
    "duration": 48,
    "start_time": "2022-07-19T14:05:18.083Z"
   },
   {
    "duration": 7,
    "start_time": "2022-07-19T14:05:18.133Z"
   },
   {
    "duration": 7,
    "start_time": "2022-07-19T14:05:18.142Z"
   },
   {
    "duration": 8,
    "start_time": "2022-07-19T14:05:18.150Z"
   },
   {
    "duration": 25,
    "start_time": "2022-07-19T14:05:18.159Z"
   },
   {
    "duration": 41,
    "start_time": "2022-07-19T14:05:18.211Z"
   },
   {
    "duration": 11,
    "start_time": "2022-07-19T14:05:18.254Z"
   },
   {
    "duration": 6,
    "start_time": "2022-07-19T14:05:18.267Z"
   },
   {
    "duration": 2635,
    "start_time": "2022-07-19T14:05:18.275Z"
   },
   {
    "duration": 980,
    "start_time": "2022-07-19T14:05:20.913Z"
   },
   {
    "duration": 1595,
    "start_time": "2022-07-19T14:05:21.895Z"
   },
   {
    "duration": 20,
    "start_time": "2022-07-19T14:05:23.492Z"
   },
   {
    "duration": 3,
    "start_time": "2022-07-19T14:05:23.514Z"
   },
   {
    "duration": 882,
    "start_time": "2022-07-19T14:05:23.519Z"
   },
   {
    "duration": 1568,
    "start_time": "2022-07-19T14:16:30.730Z"
   },
   {
    "duration": 32,
    "start_time": "2022-07-19T14:16:32.299Z"
   },
   {
    "duration": 5,
    "start_time": "2022-07-19T14:16:32.333Z"
   },
   {
    "duration": 10,
    "start_time": "2022-07-19T14:16:32.341Z"
   },
   {
    "duration": 59,
    "start_time": "2022-07-19T14:16:32.353Z"
   },
   {
    "duration": 8,
    "start_time": "2022-07-19T14:16:32.413Z"
   },
   {
    "duration": 14,
    "start_time": "2022-07-19T14:16:32.423Z"
   },
   {
    "duration": 9,
    "start_time": "2022-07-19T14:16:32.438Z"
   },
   {
    "duration": 25,
    "start_time": "2022-07-19T14:16:32.449Z"
   },
   {
    "duration": 63,
    "start_time": "2022-07-19T14:16:32.477Z"
   },
   {
    "duration": 11,
    "start_time": "2022-07-19T14:16:32.542Z"
   },
   {
    "duration": 3,
    "start_time": "2022-07-19T14:16:32.555Z"
   },
   {
    "duration": 2771,
    "start_time": "2022-07-19T14:16:32.559Z"
   },
   {
    "duration": 949,
    "start_time": "2022-07-19T14:16:35.332Z"
   },
   {
    "duration": 1643,
    "start_time": "2022-07-19T14:16:36.283Z"
   },
   {
    "duration": 15,
    "start_time": "2022-07-19T14:16:37.928Z"
   },
   {
    "duration": 23,
    "start_time": "2022-07-19T14:16:37.945Z"
   },
   {
    "duration": 845,
    "start_time": "2022-07-19T14:16:37.970Z"
   },
   {
    "duration": 121788,
    "start_time": "2022-07-19T14:16:38.817Z"
   },
   {
    "duration": 1608,
    "start_time": "2022-07-19T14:18:40.607Z"
   },
   {
    "duration": 101,
    "start_time": "2022-07-19T14:18:42.220Z"
   },
   {
    "duration": 587,
    "start_time": "2022-07-19T14:18:42.323Z"
   },
   {
    "duration": 4095,
    "start_time": "2022-07-19T14:18:42.912Z"
   },
   {
    "duration": 1245,
    "start_time": "2022-07-19T14:18:47.009Z"
   },
   {
    "duration": 14,
    "start_time": "2022-07-19T14:18:48.255Z"
   },
   {
    "duration": 1611,
    "start_time": "2022-07-19T15:44:00.719Z"
   },
   {
    "duration": 32,
    "start_time": "2022-07-19T15:44:02.331Z"
   },
   {
    "duration": 5,
    "start_time": "2022-07-19T15:44:02.365Z"
   },
   {
    "duration": 24,
    "start_time": "2022-07-19T15:44:02.372Z"
   },
   {
    "duration": 66,
    "start_time": "2022-07-19T15:44:02.399Z"
   },
   {
    "duration": 7,
    "start_time": "2022-07-19T15:44:02.467Z"
   },
   {
    "duration": 14,
    "start_time": "2022-07-19T15:44:02.475Z"
   },
   {
    "duration": 16,
    "start_time": "2022-07-19T15:44:02.491Z"
   },
   {
    "duration": 23,
    "start_time": "2022-07-19T15:44:02.509Z"
   },
   {
    "duration": 41,
    "start_time": "2022-07-19T15:44:02.535Z"
   },
   {
    "duration": 11,
    "start_time": "2022-07-19T15:44:02.578Z"
   },
   {
    "duration": 3,
    "start_time": "2022-07-19T15:44:02.611Z"
   },
   {
    "duration": 2579,
    "start_time": "2022-07-19T15:44:02.615Z"
   },
   {
    "duration": 965,
    "start_time": "2022-07-19T15:44:05.196Z"
   },
   {
    "duration": 1572,
    "start_time": "2022-07-19T15:44:06.162Z"
   },
   {
    "duration": 14,
    "start_time": "2022-07-19T15:44:07.736Z"
   },
   {
    "duration": 7,
    "start_time": "2022-07-19T15:44:07.752Z"
   },
   {
    "duration": 845,
    "start_time": "2022-07-19T15:44:07.761Z"
   },
   {
    "duration": 119141,
    "start_time": "2022-07-19T15:44:08.609Z"
   },
   {
    "duration": 1657,
    "start_time": "2022-07-19T15:46:07.753Z"
   },
   {
    "duration": 12,
    "start_time": "2022-07-19T15:46:09.412Z"
   },
   {
    "duration": 571,
    "start_time": "2022-07-19T15:46:09.426Z"
   },
   {
    "duration": 4014,
    "start_time": "2022-07-19T15:46:09.999Z"
   },
   {
    "duration": 1216,
    "start_time": "2022-07-19T15:46:14.015Z"
   },
   {
    "duration": 13,
    "start_time": "2022-07-19T15:46:15.233Z"
   },
   {
    "duration": 1490,
    "start_time": "2022-07-19T15:46:47.706Z"
   },
   {
    "duration": 32,
    "start_time": "2022-07-19T15:46:49.198Z"
   },
   {
    "duration": 6,
    "start_time": "2022-07-19T15:46:49.232Z"
   },
   {
    "duration": 12,
    "start_time": "2022-07-19T15:46:49.240Z"
   },
   {
    "duration": 70,
    "start_time": "2022-07-19T15:46:49.254Z"
   },
   {
    "duration": 8,
    "start_time": "2022-07-19T15:46:49.325Z"
   },
   {
    "duration": 9,
    "start_time": "2022-07-19T15:46:49.334Z"
   },
   {
    "duration": 7,
    "start_time": "2022-07-19T15:46:49.344Z"
   },
   {
    "duration": 21,
    "start_time": "2022-07-19T15:46:49.353Z"
   },
   {
    "duration": 66,
    "start_time": "2022-07-19T15:46:49.377Z"
   },
   {
    "duration": 10,
    "start_time": "2022-07-19T15:46:49.445Z"
   },
   {
    "duration": 3,
    "start_time": "2022-07-19T15:46:49.457Z"
   },
   {
    "duration": 2677,
    "start_time": "2022-07-19T15:46:49.461Z"
   },
   {
    "duration": 930,
    "start_time": "2022-07-19T15:46:52.139Z"
   },
   {
    "duration": 1622,
    "start_time": "2022-07-19T15:46:53.071Z"
   },
   {
    "duration": 20,
    "start_time": "2022-07-19T15:46:54.695Z"
   },
   {
    "duration": 4,
    "start_time": "2022-07-19T15:46:54.717Z"
   },
   {
    "duration": 930,
    "start_time": "2022-07-19T15:46:54.723Z"
   },
   {
    "duration": 1004,
    "start_time": "2022-07-19T15:46:55.655Z"
   },
   {
    "duration": 1455,
    "start_time": "2022-07-19T15:46:56.661Z"
   },
   {
    "duration": 100,
    "start_time": "2022-07-19T15:46:58.119Z"
   },
   {
    "duration": 582,
    "start_time": "2022-07-19T15:46:58.220Z"
   },
   {
    "duration": 4058,
    "start_time": "2022-07-19T15:46:58.804Z"
   },
   {
    "duration": 1154,
    "start_time": "2022-07-19T15:47:02.864Z"
   },
   {
    "duration": 14,
    "start_time": "2022-07-19T15:47:04.021Z"
   },
   {
    "duration": 4,
    "start_time": "2022-07-19T16:14:08.459Z"
   },
   {
    "duration": 11,
    "start_time": "2022-07-19T17:03:02.115Z"
   },
   {
    "duration": 1552,
    "start_time": "2022-07-19T17:30:50.990Z"
   },
   {
    "duration": 31,
    "start_time": "2022-07-19T17:30:52.544Z"
   },
   {
    "duration": 6,
    "start_time": "2022-07-19T17:30:52.577Z"
   },
   {
    "duration": 52,
    "start_time": "2022-07-19T17:30:52.585Z"
   },
   {
    "duration": 6,
    "start_time": "2022-07-19T17:30:52.639Z"
   },
   {
    "duration": 6,
    "start_time": "2022-07-19T17:30:52.647Z"
   },
   {
    "duration": 18,
    "start_time": "2022-07-19T17:30:52.654Z"
   },
   {
    "duration": 44,
    "start_time": "2022-07-19T17:30:52.674Z"
   },
   {
    "duration": 40,
    "start_time": "2022-07-19T17:30:52.720Z"
   },
   {
    "duration": 11,
    "start_time": "2022-07-19T17:30:52.763Z"
   },
   {
    "duration": 3,
    "start_time": "2022-07-19T17:30:52.776Z"
   },
   {
    "duration": 2653,
    "start_time": "2022-07-19T17:30:52.781Z"
   },
   {
    "duration": 927,
    "start_time": "2022-07-19T17:30:55.436Z"
   },
   {
    "duration": 1601,
    "start_time": "2022-07-19T17:30:56.366Z"
   },
   {
    "duration": 16,
    "start_time": "2022-07-19T17:30:57.969Z"
   },
   {
    "duration": 4,
    "start_time": "2022-07-19T17:30:57.986Z"
   },
   {
    "duration": 893,
    "start_time": "2022-07-19T17:30:57.992Z"
   },
   {
    "duration": 961,
    "start_time": "2022-07-19T17:30:58.887Z"
   },
   {
    "duration": 1371,
    "start_time": "2022-07-19T17:30:59.850Z"
   },
   {
    "duration": 592,
    "start_time": "2022-07-19T17:31:01.311Z"
   },
   {
    "duration": 5,
    "start_time": "2022-07-19T17:31:01.910Z"
   },
   {
    "duration": 33,
    "start_time": "2022-07-19T17:31:01.917Z"
   },
   {
    "duration": 3898,
    "start_time": "2022-07-19T17:31:01.952Z"
   },
   {
    "duration": 1121,
    "start_time": "2022-07-19T17:31:05.852Z"
   },
   {
    "duration": 9,
    "start_time": "2022-07-19T17:31:06.975Z"
   },
   {
    "duration": 14,
    "start_time": "2022-07-19T17:48:02.274Z"
   },
   {
    "duration": 5,
    "start_time": "2022-07-19T17:48:12.698Z"
   },
   {
    "duration": 4,
    "start_time": "2022-07-19T17:48:22.954Z"
   },
   {
    "duration": 1558,
    "start_time": "2022-07-19T17:48:34.681Z"
   },
   {
    "duration": 31,
    "start_time": "2022-07-19T17:48:36.241Z"
   },
   {
    "duration": 6,
    "start_time": "2022-07-19T17:48:36.274Z"
   },
   {
    "duration": 58,
    "start_time": "2022-07-19T17:48:36.282Z"
   },
   {
    "duration": 8,
    "start_time": "2022-07-19T17:48:36.341Z"
   },
   {
    "duration": 7,
    "start_time": "2022-07-19T17:48:36.351Z"
   },
   {
    "duration": 8,
    "start_time": "2022-07-19T17:48:36.359Z"
   },
   {
    "duration": 70,
    "start_time": "2022-07-19T17:48:36.368Z"
   },
   {
    "duration": 42,
    "start_time": "2022-07-19T17:48:36.440Z"
   },
   {
    "duration": 12,
    "start_time": "2022-07-19T17:48:36.509Z"
   },
   {
    "duration": 3,
    "start_time": "2022-07-19T17:48:36.523Z"
   },
   {
    "duration": 2702,
    "start_time": "2022-07-19T17:48:36.528Z"
   },
   {
    "duration": 952,
    "start_time": "2022-07-19T17:48:39.232Z"
   },
   {
    "duration": 1632,
    "start_time": "2022-07-19T17:48:40.185Z"
   },
   {
    "duration": 20,
    "start_time": "2022-07-19T17:48:41.819Z"
   },
   {
    "duration": 5,
    "start_time": "2022-07-19T17:48:41.843Z"
   },
   {
    "duration": 1091,
    "start_time": "2022-07-19T17:48:41.850Z"
   },
   {
    "duration": 1052,
    "start_time": "2022-07-19T17:48:42.943Z"
   },
   {
    "duration": 1214,
    "start_time": "2022-07-19T17:48:43.997Z"
   },
   {
    "duration": 506,
    "start_time": "2022-07-19T17:48:45.215Z"
   },
   {
    "duration": 5,
    "start_time": "2022-07-19T17:48:45.723Z"
   },
   {
    "duration": 16,
    "start_time": "2022-07-19T17:48:45.730Z"
   },
   {
    "duration": 4308,
    "start_time": "2022-07-19T17:48:45.748Z"
   },
   {
    "duration": 1228,
    "start_time": "2022-07-19T17:48:50.057Z"
   },
   {
    "duration": 10,
    "start_time": "2022-07-19T17:48:51.288Z"
   },
   {
    "duration": 1558,
    "start_time": "2022-07-19T17:49:11.867Z"
   },
   {
    "duration": 32,
    "start_time": "2022-07-19T17:49:13.427Z"
   },
   {
    "duration": 5,
    "start_time": "2022-07-19T17:49:13.461Z"
   },
   {
    "duration": 71,
    "start_time": "2022-07-19T17:49:13.469Z"
   },
   {
    "duration": 9,
    "start_time": "2022-07-19T17:49:13.542Z"
   },
   {
    "duration": 7,
    "start_time": "2022-07-19T17:49:13.553Z"
   },
   {
    "duration": 8,
    "start_time": "2022-07-19T17:49:13.562Z"
   },
   {
    "duration": 56,
    "start_time": "2022-07-19T17:49:13.572Z"
   },
   {
    "duration": 44,
    "start_time": "2022-07-19T17:49:13.630Z"
   },
   {
    "duration": 40,
    "start_time": "2022-07-19T17:49:13.677Z"
   },
   {
    "duration": 4,
    "start_time": "2022-07-19T17:49:13.719Z"
   },
   {
    "duration": 2733,
    "start_time": "2022-07-19T17:49:13.725Z"
   },
   {
    "duration": 970,
    "start_time": "2022-07-19T17:49:16.460Z"
   },
   {
    "duration": 1628,
    "start_time": "2022-07-19T17:49:17.433Z"
   },
   {
    "duration": 17,
    "start_time": "2022-07-19T17:49:19.064Z"
   },
   {
    "duration": 4,
    "start_time": "2022-07-19T17:49:19.083Z"
   },
   {
    "duration": 946,
    "start_time": "2022-07-19T17:49:19.089Z"
   },
   {
    "duration": 1012,
    "start_time": "2022-07-19T17:49:20.037Z"
   },
   {
    "duration": 1470,
    "start_time": "2022-07-19T17:49:21.051Z"
   },
   {
    "duration": 589,
    "start_time": "2022-07-19T17:49:22.611Z"
   },
   {
    "duration": 12,
    "start_time": "2022-07-19T17:49:23.202Z"
   },
   {
    "duration": 30,
    "start_time": "2022-07-19T17:49:23.217Z"
   },
   {
    "duration": 3925,
    "start_time": "2022-07-19T17:49:23.250Z"
   },
   {
    "duration": 1162,
    "start_time": "2022-07-19T17:49:27.177Z"
   },
   {
    "duration": 9,
    "start_time": "2022-07-19T17:49:28.341Z"
   },
   {
    "duration": 1812,
    "start_time": "2022-07-19T21:01:49.986Z"
   },
   {
    "duration": 143,
    "start_time": "2022-07-19T21:01:51.800Z"
   },
   {
    "duration": 6,
    "start_time": "2022-07-19T21:01:51.945Z"
   },
   {
    "duration": 73,
    "start_time": "2022-07-19T21:01:51.954Z"
   },
   {
    "duration": 6,
    "start_time": "2022-07-19T21:01:52.029Z"
   },
   {
    "duration": 13,
    "start_time": "2022-07-19T21:01:52.037Z"
   },
   {
    "duration": 37,
    "start_time": "2022-07-19T21:01:52.051Z"
   },
   {
    "duration": 21,
    "start_time": "2022-07-19T21:01:52.090Z"
   },
   {
    "duration": 35,
    "start_time": "2022-07-19T21:01:52.113Z"
   },
   {
    "duration": 13,
    "start_time": "2022-07-19T21:01:52.149Z"
   },
   {
    "duration": 25,
    "start_time": "2022-07-19T21:01:52.164Z"
   },
   {
    "duration": 2612,
    "start_time": "2022-07-19T21:01:52.191Z"
   },
   {
    "duration": 886,
    "start_time": "2022-07-19T21:01:54.804Z"
   },
   {
    "duration": 1527,
    "start_time": "2022-07-19T21:01:55.694Z"
   },
   {
    "duration": 14,
    "start_time": "2022-07-19T21:01:57.223Z"
   },
   {
    "duration": 17,
    "start_time": "2022-07-19T21:01:57.238Z"
   },
   {
    "duration": 776,
    "start_time": "2022-07-19T21:01:57.257Z"
   },
   {
    "duration": 978,
    "start_time": "2022-07-19T21:01:58.035Z"
   },
   {
    "duration": 879,
    "start_time": "2022-07-19T21:01:59.015Z"
   },
   {
    "duration": 488,
    "start_time": "2022-07-19T21:01:59.953Z"
   },
   {
    "duration": 4,
    "start_time": "2022-07-19T21:02:00.443Z"
   },
   {
    "duration": 58,
    "start_time": "2022-07-19T21:02:00.448Z"
   },
   {
    "duration": 3703,
    "start_time": "2022-07-19T21:02:00.507Z"
   },
   {
    "duration": 1063,
    "start_time": "2022-07-19T21:02:04.211Z"
   },
   {
    "duration": 13,
    "start_time": "2022-07-19T21:02:05.276Z"
   },
   {
    "duration": 1539,
    "start_time": "2022-07-20T03:34:58.420Z"
   },
   {
    "duration": 71,
    "start_time": "2022-07-20T03:34:59.961Z"
   },
   {
    "duration": 5,
    "start_time": "2022-07-20T03:35:00.034Z"
   },
   {
    "duration": 44,
    "start_time": "2022-07-20T03:35:00.041Z"
   },
   {
    "duration": 8,
    "start_time": "2022-07-20T03:35:00.087Z"
   },
   {
    "duration": 12,
    "start_time": "2022-07-20T03:35:00.096Z"
   },
   {
    "duration": 14,
    "start_time": "2022-07-20T03:35:00.109Z"
   },
   {
    "duration": 38,
    "start_time": "2022-07-20T03:35:00.124Z"
   },
   {
    "duration": 39,
    "start_time": "2022-07-20T03:35:00.164Z"
   },
   {
    "duration": 9,
    "start_time": "2022-07-20T03:35:00.206Z"
   },
   {
    "duration": 29,
    "start_time": "2022-07-20T03:35:00.217Z"
   },
   {
    "duration": 2364,
    "start_time": "2022-07-20T03:35:00.248Z"
   },
   {
    "duration": 821,
    "start_time": "2022-07-20T03:35:02.614Z"
   },
   {
    "duration": 1423,
    "start_time": "2022-07-20T03:35:03.437Z"
   },
   {
    "duration": 13,
    "start_time": "2022-07-20T03:35:04.862Z"
   },
   {
    "duration": 3,
    "start_time": "2022-07-20T03:35:04.877Z"
   },
   {
    "duration": 805,
    "start_time": "2022-07-20T03:35:04.882Z"
   },
   {
    "duration": 873,
    "start_time": "2022-07-20T03:35:05.688Z"
   },
   {
    "duration": 1383,
    "start_time": "2022-07-20T03:35:06.563Z"
   },
   {
    "duration": 673,
    "start_time": "2022-07-20T03:35:07.948Z"
   },
   {
    "duration": 4,
    "start_time": "2022-07-20T03:35:08.622Z"
   },
   {
    "duration": 22,
    "start_time": "2022-07-20T03:35:08.628Z"
   },
   {
    "duration": 3455,
    "start_time": "2022-07-20T03:35:08.651Z"
   },
   {
    "duration": 986,
    "start_time": "2022-07-20T03:35:12.107Z"
   },
   {
    "duration": 8,
    "start_time": "2022-07-20T03:35:13.095Z"
   },
   {
    "duration": 3617,
    "start_time": "2022-07-20T03:36:58.108Z"
   },
   {
    "duration": 2397,
    "start_time": "2022-07-20T03:38:28.879Z"
   },
   {
    "duration": 1582,
    "start_time": "2022-07-20T14:12:45.255Z"
   },
   {
    "duration": 65,
    "start_time": "2022-07-20T14:12:46.840Z"
   },
   {
    "duration": 6,
    "start_time": "2022-07-20T14:12:46.907Z"
   },
   {
    "duration": 48,
    "start_time": "2022-07-20T14:12:46.914Z"
   },
   {
    "duration": 8,
    "start_time": "2022-07-20T14:12:46.964Z"
   },
   {
    "duration": 7,
    "start_time": "2022-07-20T14:12:46.974Z"
   },
   {
    "duration": 5,
    "start_time": "2022-07-20T14:12:46.983Z"
   },
   {
    "duration": 27,
    "start_time": "2022-07-20T14:12:46.989Z"
   },
   {
    "duration": 63,
    "start_time": "2022-07-20T14:12:47.018Z"
   },
   {
    "duration": 11,
    "start_time": "2022-07-20T14:12:47.083Z"
   },
   {
    "duration": 3,
    "start_time": "2022-07-20T14:12:47.096Z"
   },
   {
    "duration": 2564,
    "start_time": "2022-07-20T14:12:47.100Z"
   },
   {
    "duration": 817,
    "start_time": "2022-07-20T14:12:49.666Z"
   },
   {
    "duration": 1387,
    "start_time": "2022-07-20T14:12:50.486Z"
   },
   {
    "duration": 14,
    "start_time": "2022-07-20T14:12:51.875Z"
   },
   {
    "duration": 3,
    "start_time": "2022-07-20T14:12:51.891Z"
   },
   {
    "duration": 1002,
    "start_time": "2022-07-20T14:12:51.896Z"
   },
   {
    "duration": 1549,
    "start_time": "2022-07-20T14:14:18.943Z"
   },
   {
    "duration": 31,
    "start_time": "2022-07-20T14:14:20.494Z"
   },
   {
    "duration": 6,
    "start_time": "2022-07-20T14:14:20.526Z"
   },
   {
    "duration": 51,
    "start_time": "2022-07-20T14:14:20.533Z"
   },
   {
    "duration": 9,
    "start_time": "2022-07-20T14:14:20.587Z"
   },
   {
    "duration": 25,
    "start_time": "2022-07-20T14:14:20.608Z"
   },
   {
    "duration": 15,
    "start_time": "2022-07-20T14:14:20.635Z"
   },
   {
    "duration": 27,
    "start_time": "2022-07-20T14:14:20.652Z"
   },
   {
    "duration": 55,
    "start_time": "2022-07-20T14:14:20.680Z"
   },
   {
    "duration": 16,
    "start_time": "2022-07-20T14:14:20.738Z"
   },
   {
    "duration": 5,
    "start_time": "2022-07-20T14:14:20.755Z"
   },
   {
    "duration": 2511,
    "start_time": "2022-07-20T14:14:20.762Z"
   },
   {
    "duration": 923,
    "start_time": "2022-07-20T14:14:23.275Z"
   },
   {
    "duration": 1579,
    "start_time": "2022-07-20T14:14:24.201Z"
   },
   {
    "duration": 14,
    "start_time": "2022-07-20T14:14:25.783Z"
   },
   {
    "duration": 3,
    "start_time": "2022-07-20T14:14:25.799Z"
   },
   {
    "duration": 898,
    "start_time": "2022-07-20T14:14:25.804Z"
   },
   {
    "duration": 1442,
    "start_time": "2022-07-20T14:14:48.423Z"
   },
   {
    "duration": 30,
    "start_time": "2022-07-20T14:14:49.867Z"
   },
   {
    "duration": 5,
    "start_time": "2022-07-20T14:14:49.899Z"
   },
   {
    "duration": 50,
    "start_time": "2022-07-20T14:14:49.906Z"
   },
   {
    "duration": 7,
    "start_time": "2022-07-20T14:14:49.958Z"
   },
   {
    "duration": 11,
    "start_time": "2022-07-20T14:14:49.967Z"
   },
   {
    "duration": 10,
    "start_time": "2022-07-20T14:14:49.979Z"
   },
   {
    "duration": 26,
    "start_time": "2022-07-20T14:14:49.991Z"
   },
   {
    "duration": 56,
    "start_time": "2022-07-20T14:14:50.019Z"
   },
   {
    "duration": 10,
    "start_time": "2022-07-20T14:14:50.077Z"
   },
   {
    "duration": 5,
    "start_time": "2022-07-20T14:14:50.088Z"
   },
   {
    "duration": 2405,
    "start_time": "2022-07-20T14:14:50.095Z"
   },
   {
    "duration": 883,
    "start_time": "2022-07-20T14:14:52.502Z"
   },
   {
    "duration": 1481,
    "start_time": "2022-07-20T14:14:53.387Z"
   },
   {
    "duration": 14,
    "start_time": "2022-07-20T14:14:54.869Z"
   },
   {
    "duration": 1465,
    "start_time": "2022-07-20T14:17:18.609Z"
   },
   {
    "duration": 30,
    "start_time": "2022-07-20T14:17:20.077Z"
   },
   {
    "duration": 6,
    "start_time": "2022-07-20T14:17:20.108Z"
   },
   {
    "duration": 50,
    "start_time": "2022-07-20T14:17:20.116Z"
   },
   {
    "duration": 7,
    "start_time": "2022-07-20T14:17:20.167Z"
   },
   {
    "duration": 16,
    "start_time": "2022-07-20T14:17:20.175Z"
   },
   {
    "duration": 9,
    "start_time": "2022-07-20T14:17:20.193Z"
   },
   {
    "duration": 22,
    "start_time": "2022-07-20T14:17:20.204Z"
   },
   {
    "duration": 50,
    "start_time": "2022-07-20T14:17:20.227Z"
   },
   {
    "duration": 10,
    "start_time": "2022-07-20T14:17:20.279Z"
   },
   {
    "duration": 3,
    "start_time": "2022-07-20T14:17:20.291Z"
   },
   {
    "duration": 2469,
    "start_time": "2022-07-20T14:17:20.295Z"
   },
   {
    "duration": 865,
    "start_time": "2022-07-20T14:17:22.766Z"
   },
   {
    "duration": 1432,
    "start_time": "2022-07-20T14:17:23.632Z"
   },
   {
    "duration": 14,
    "start_time": "2022-07-20T14:17:25.066Z"
   },
   {
    "duration": 2,
    "start_time": "2022-07-20T14:17:25.081Z"
   },
   {
    "duration": 5,
    "start_time": "2022-07-20T14:17:25.085Z"
   },
   {
    "duration": 1385,
    "start_time": "2022-07-20T14:17:45.184Z"
   },
   {
    "duration": 30,
    "start_time": "2022-07-20T14:17:46.571Z"
   },
   {
    "duration": 5,
    "start_time": "2022-07-20T14:17:46.603Z"
   },
   {
    "duration": 63,
    "start_time": "2022-07-20T14:17:46.610Z"
   },
   {
    "duration": 9,
    "start_time": "2022-07-20T14:17:46.675Z"
   },
   {
    "duration": 7,
    "start_time": "2022-07-20T14:17:46.686Z"
   },
   {
    "duration": 9,
    "start_time": "2022-07-20T14:17:46.695Z"
   },
   {
    "duration": 57,
    "start_time": "2022-07-20T14:17:46.706Z"
   },
   {
    "duration": 40,
    "start_time": "2022-07-20T14:17:46.765Z"
   },
   {
    "duration": 10,
    "start_time": "2022-07-20T14:17:46.808Z"
   },
   {
    "duration": 26,
    "start_time": "2022-07-20T14:17:46.820Z"
   },
   {
    "duration": 2488,
    "start_time": "2022-07-20T14:17:46.848Z"
   },
   {
    "duration": 840,
    "start_time": "2022-07-20T14:17:49.338Z"
   },
   {
    "duration": 1399,
    "start_time": "2022-07-20T14:17:50.180Z"
   },
   {
    "duration": 14,
    "start_time": "2022-07-20T14:17:51.581Z"
   },
   {
    "duration": 2,
    "start_time": "2022-07-20T14:17:51.597Z"
   },
   {
    "duration": 6,
    "start_time": "2022-07-20T14:17:51.601Z"
   },
   {
    "duration": 1445,
    "start_time": "2022-07-20T14:25:14.703Z"
   },
   {
    "duration": 32,
    "start_time": "2022-07-20T14:25:16.149Z"
   },
   {
    "duration": 17,
    "start_time": "2022-07-20T14:25:16.183Z"
   },
   {
    "duration": 55,
    "start_time": "2022-07-20T14:25:16.202Z"
   },
   {
    "duration": 7,
    "start_time": "2022-07-20T14:25:16.259Z"
   },
   {
    "duration": 7,
    "start_time": "2022-07-20T14:25:16.267Z"
   },
   {
    "duration": 7,
    "start_time": "2022-07-20T14:25:16.275Z"
   },
   {
    "duration": 25,
    "start_time": "2022-07-20T14:25:16.283Z"
   },
   {
    "duration": 67,
    "start_time": "2022-07-20T14:25:16.309Z"
   },
   {
    "duration": 11,
    "start_time": "2022-07-20T14:25:16.379Z"
   },
   {
    "duration": 3,
    "start_time": "2022-07-20T14:25:16.392Z"
   },
   {
    "duration": 2499,
    "start_time": "2022-07-20T14:25:16.396Z"
   },
   {
    "duration": 998,
    "start_time": "2022-07-20T14:25:18.898Z"
   },
   {
    "duration": 1545,
    "start_time": "2022-07-20T14:25:19.897Z"
   },
   {
    "duration": 21,
    "start_time": "2022-07-20T14:25:21.446Z"
   },
   {
    "duration": 41,
    "start_time": "2022-07-20T14:25:21.468Z"
   },
   {
    "duration": 10,
    "start_time": "2022-07-20T14:25:21.511Z"
   },
   {
    "duration": 1560,
    "start_time": "2022-07-20T14:26:50.696Z"
   },
   {
    "duration": 42,
    "start_time": "2022-07-20T14:26:52.263Z"
   },
   {
    "duration": 7,
    "start_time": "2022-07-20T14:26:52.307Z"
   },
   {
    "duration": 53,
    "start_time": "2022-07-20T14:26:52.316Z"
   },
   {
    "duration": 8,
    "start_time": "2022-07-20T14:26:52.370Z"
   },
   {
    "duration": 20,
    "start_time": "2022-07-20T14:26:52.379Z"
   },
   {
    "duration": 10,
    "start_time": "2022-07-20T14:26:52.401Z"
   },
   {
    "duration": 46,
    "start_time": "2022-07-20T14:26:52.413Z"
   },
   {
    "duration": 52,
    "start_time": "2022-07-20T14:26:52.461Z"
   },
   {
    "duration": 38,
    "start_time": "2022-07-20T14:26:52.517Z"
   },
   {
    "duration": 4,
    "start_time": "2022-07-20T14:26:52.557Z"
   },
   {
    "duration": 3022,
    "start_time": "2022-07-20T14:26:52.566Z"
   },
   {
    "duration": 1018,
    "start_time": "2022-07-20T14:26:55.590Z"
   },
   {
    "duration": 1807,
    "start_time": "2022-07-20T14:26:56.611Z"
   },
   {
    "duration": 15,
    "start_time": "2022-07-20T14:26:58.420Z"
   },
   {
    "duration": 15,
    "start_time": "2022-07-20T14:26:58.437Z"
   },
   {
    "duration": 36,
    "start_time": "2022-07-20T14:26:58.455Z"
   },
   {
    "duration": 22,
    "start_time": "2022-07-20T14:26:58.492Z"
   },
   {
    "duration": 1538,
    "start_time": "2022-07-20T14:28:36.069Z"
   },
   {
    "duration": 30,
    "start_time": "2022-07-20T14:28:37.609Z"
   },
   {
    "duration": 10,
    "start_time": "2022-07-20T14:28:37.641Z"
   },
   {
    "duration": 66,
    "start_time": "2022-07-20T14:28:37.652Z"
   },
   {
    "duration": 6,
    "start_time": "2022-07-20T14:28:37.720Z"
   },
   {
    "duration": 8,
    "start_time": "2022-07-20T14:28:37.728Z"
   },
   {
    "duration": 6,
    "start_time": "2022-07-20T14:28:37.738Z"
   },
   {
    "duration": 43,
    "start_time": "2022-07-20T14:28:37.749Z"
   },
   {
    "duration": 34,
    "start_time": "2022-07-20T14:28:37.794Z"
   },
   {
    "duration": 10,
    "start_time": "2022-07-20T14:28:37.829Z"
   },
   {
    "duration": 3,
    "start_time": "2022-07-20T14:28:37.840Z"
   },
   {
    "duration": 2859,
    "start_time": "2022-07-20T14:28:37.845Z"
   },
   {
    "duration": 933,
    "start_time": "2022-07-20T14:28:40.706Z"
   },
   {
    "duration": 1673,
    "start_time": "2022-07-20T14:28:41.645Z"
   },
   {
    "duration": 12,
    "start_time": "2022-07-20T14:28:43.320Z"
   },
   {
    "duration": 22,
    "start_time": "2022-07-20T14:28:43.334Z"
   },
   {
    "duration": 24,
    "start_time": "2022-07-20T14:28:43.358Z"
   },
   {
    "duration": 6,
    "start_time": "2022-07-20T14:28:43.383Z"
   },
   {
    "duration": 1675,
    "start_time": "2022-07-20T14:30:38.892Z"
   },
   {
    "duration": 33,
    "start_time": "2022-07-20T14:30:40.570Z"
   },
   {
    "duration": 7,
    "start_time": "2022-07-20T14:30:40.604Z"
   },
   {
    "duration": 65,
    "start_time": "2022-07-20T14:30:40.613Z"
   },
   {
    "duration": 10,
    "start_time": "2022-07-20T14:30:40.680Z"
   },
   {
    "duration": 10,
    "start_time": "2022-07-20T14:30:40.693Z"
   },
   {
    "duration": 32,
    "start_time": "2022-07-20T14:30:40.704Z"
   },
   {
    "duration": 30,
    "start_time": "2022-07-20T14:30:40.738Z"
   },
   {
    "duration": 84,
    "start_time": "2022-07-20T14:30:40.770Z"
   },
   {
    "duration": 13,
    "start_time": "2022-07-20T14:30:40.864Z"
   },
   {
    "duration": 7,
    "start_time": "2022-07-20T14:30:40.880Z"
   },
   {
    "duration": 3858,
    "start_time": "2022-07-20T14:30:40.889Z"
   },
   {
    "duration": 1578,
    "start_time": "2022-07-20T14:30:44.749Z"
   },
   {
    "duration": 1754,
    "start_time": "2022-07-20T14:30:46.329Z"
   },
   {
    "duration": 21,
    "start_time": "2022-07-20T14:30:48.085Z"
   },
   {
    "duration": 186,
    "start_time": "2022-07-20T14:30:48.108Z"
   },
   {
    "duration": 0,
    "start_time": "2022-07-20T14:30:48.296Z"
   },
   {
    "duration": 0,
    "start_time": "2022-07-20T14:30:48.299Z"
   },
   {
    "duration": 0,
    "start_time": "2022-07-20T14:30:48.300Z"
   },
   {
    "duration": 0,
    "start_time": "2022-07-20T14:30:48.301Z"
   },
   {
    "duration": 0,
    "start_time": "2022-07-20T14:30:48.302Z"
   },
   {
    "duration": 0,
    "start_time": "2022-07-20T14:30:48.506Z"
   },
   {
    "duration": 0,
    "start_time": "2022-07-20T14:30:48.508Z"
   },
   {
    "duration": 0,
    "start_time": "2022-07-20T14:30:48.510Z"
   },
   {
    "duration": 0,
    "start_time": "2022-07-20T14:30:48.513Z"
   },
   {
    "duration": 0,
    "start_time": "2022-07-20T14:30:48.514Z"
   },
   {
    "duration": 0,
    "start_time": "2022-07-20T14:30:48.516Z"
   },
   {
    "duration": 0,
    "start_time": "2022-07-20T14:30:48.517Z"
   },
   {
    "duration": 1,
    "start_time": "2022-07-20T14:30:48.518Z"
   },
   {
    "duration": 0,
    "start_time": "2022-07-20T14:30:48.519Z"
   },
   {
    "duration": 0,
    "start_time": "2022-07-20T14:30:48.522Z"
   },
   {
    "duration": 22,
    "start_time": "2022-07-20T14:31:32.154Z"
   },
   {
    "duration": 4570,
    "start_time": "2022-07-20T14:32:19.068Z"
   },
   {
    "duration": 4,
    "start_time": "2022-07-20T14:33:19.457Z"
   },
   {
    "duration": 3,
    "start_time": "2022-07-20T14:33:36.057Z"
   },
   {
    "duration": 3,
    "start_time": "2022-07-20T14:33:37.858Z"
   },
   {
    "duration": 3,
    "start_time": "2022-07-20T14:33:40.156Z"
   },
   {
    "duration": 1522,
    "start_time": "2022-07-20T14:35:13.455Z"
   },
   {
    "duration": 30,
    "start_time": "2022-07-20T14:35:14.979Z"
   },
   {
    "duration": 6,
    "start_time": "2022-07-20T14:35:15.011Z"
   },
   {
    "duration": 64,
    "start_time": "2022-07-20T14:35:15.019Z"
   },
   {
    "duration": 6,
    "start_time": "2022-07-20T14:35:15.085Z"
   },
   {
    "duration": 14,
    "start_time": "2022-07-20T14:35:15.093Z"
   },
   {
    "duration": 8,
    "start_time": "2022-07-20T14:35:15.109Z"
   },
   {
    "duration": 45,
    "start_time": "2022-07-20T14:35:15.118Z"
   },
   {
    "duration": 39,
    "start_time": "2022-07-20T14:35:15.165Z"
   },
   {
    "duration": 10,
    "start_time": "2022-07-20T14:35:15.206Z"
   },
   {
    "duration": 4,
    "start_time": "2022-07-20T14:35:15.217Z"
   },
   {
    "duration": 2572,
    "start_time": "2022-07-20T14:35:15.248Z"
   },
   {
    "duration": 887,
    "start_time": "2022-07-20T14:35:17.823Z"
   },
   {
    "duration": 1599,
    "start_time": "2022-07-20T14:35:18.713Z"
   },
   {
    "duration": 14,
    "start_time": "2022-07-20T14:35:20.314Z"
   },
   {
    "duration": 4666,
    "start_time": "2022-07-20T14:35:20.329Z"
   },
   {
    "duration": 4,
    "start_time": "2022-07-20T14:35:24.997Z"
   },
   {
    "duration": 5,
    "start_time": "2022-07-20T14:35:25.003Z"
   },
   {
    "duration": 7,
    "start_time": "2022-07-20T14:35:25.010Z"
   },
   {
    "duration": 5,
    "start_time": "2022-07-20T14:35:25.019Z"
   },
   {
    "duration": 324570,
    "start_time": "2022-07-20T14:35:25.027Z"
   },
   {
    "duration": 4,
    "start_time": "2022-07-20T14:40:49.598Z"
   },
   {
    "duration": 13,
    "start_time": "2022-07-20T14:40:49.603Z"
   },
   {
    "duration": 1049,
    "start_time": "2022-07-20T14:40:49.618Z"
   },
   {
    "duration": 1013,
    "start_time": "2022-07-20T14:40:50.669Z"
   },
   {
    "duration": 967,
    "start_time": "2022-07-20T14:40:51.684Z"
   },
   {
    "duration": 580,
    "start_time": "2022-07-20T14:40:52.653Z"
   },
   {
    "duration": 5,
    "start_time": "2022-07-20T14:40:53.234Z"
   },
   {
    "duration": 17,
    "start_time": "2022-07-20T14:40:53.250Z"
   },
   {
    "duration": 3773,
    "start_time": "2022-07-20T14:40:53.269Z"
   },
   {
    "duration": 1238,
    "start_time": "2022-07-20T14:40:57.045Z"
   },
   {
    "duration": 9,
    "start_time": "2022-07-20T14:40:58.285Z"
   },
   {
    "duration": 6,
    "start_time": "2022-07-20T14:44:45.719Z"
   },
   {
    "duration": 6,
    "start_time": "2022-07-20T14:45:05.100Z"
   },
   {
    "duration": 84,
    "start_time": "2022-07-20T14:45:11.700Z"
   },
   {
    "duration": 6,
    "start_time": "2022-07-20T14:45:16.859Z"
   },
   {
    "duration": 6,
    "start_time": "2022-07-20T14:45:27.489Z"
   },
   {
    "duration": 6,
    "start_time": "2022-07-20T14:45:32.857Z"
   },
   {
    "duration": 5,
    "start_time": "2022-07-20T14:45:39.556Z"
   },
   {
    "duration": 5,
    "start_time": "2022-07-20T14:45:44.547Z"
   },
   {
    "duration": 5,
    "start_time": "2022-07-20T14:46:36.823Z"
   },
   {
    "duration": 6,
    "start_time": "2022-07-20T14:46:53.958Z"
   },
   {
    "duration": 1342,
    "start_time": "2022-07-20T14:48:15.574Z"
   },
   {
    "duration": 1508,
    "start_time": "2022-07-20T14:48:44.433Z"
   },
   {
    "duration": 36,
    "start_time": "2022-07-20T14:48:45.943Z"
   },
   {
    "duration": 6,
    "start_time": "2022-07-20T14:48:45.981Z"
   },
   {
    "duration": 68,
    "start_time": "2022-07-20T14:48:45.988Z"
   },
   {
    "duration": 8,
    "start_time": "2022-07-20T14:48:46.057Z"
   },
   {
    "duration": 31,
    "start_time": "2022-07-20T14:48:46.066Z"
   },
   {
    "duration": 20,
    "start_time": "2022-07-20T14:48:46.099Z"
   },
   {
    "duration": 48,
    "start_time": "2022-07-20T14:48:46.121Z"
   },
   {
    "duration": 43,
    "start_time": "2022-07-20T14:48:46.170Z"
   },
   {
    "duration": 14,
    "start_time": "2022-07-20T14:48:46.215Z"
   },
   {
    "duration": 29,
    "start_time": "2022-07-20T14:48:46.231Z"
   },
   {
    "duration": 22,
    "start_time": "2022-07-20T14:48:46.261Z"
   },
   {
    "duration": 2652,
    "start_time": "2022-07-20T14:48:46.284Z"
   },
   {
    "duration": 947,
    "start_time": "2022-07-20T14:48:48.939Z"
   },
   {
    "duration": 1520,
    "start_time": "2022-07-20T14:48:49.887Z"
   },
   {
    "duration": 15,
    "start_time": "2022-07-20T14:48:51.409Z"
   },
   {
    "duration": 7256,
    "start_time": "2022-07-20T14:48:51.426Z"
   },
   {
    "duration": 5,
    "start_time": "2022-07-20T14:48:58.684Z"
   },
   {
    "duration": 5,
    "start_time": "2022-07-20T14:48:58.747Z"
   },
   {
    "duration": 22,
    "start_time": "2022-07-20T14:48:58.754Z"
   },
   {
    "duration": 10,
    "start_time": "2022-07-20T14:48:58.778Z"
   },
   {
    "duration": 1634,
    "start_time": "2022-07-20T15:03:31.225Z"
   },
   {
    "duration": 36,
    "start_time": "2022-07-20T15:03:32.865Z"
   },
   {
    "duration": 8,
    "start_time": "2022-07-20T15:03:32.903Z"
   },
   {
    "duration": 83,
    "start_time": "2022-07-20T15:03:32.914Z"
   },
   {
    "duration": 8,
    "start_time": "2022-07-20T15:03:32.999Z"
   },
   {
    "duration": 22,
    "start_time": "2022-07-20T15:03:33.009Z"
   },
   {
    "duration": 28,
    "start_time": "2022-07-20T15:03:33.033Z"
   },
   {
    "duration": 28,
    "start_time": "2022-07-20T15:03:33.063Z"
   },
   {
    "duration": 40,
    "start_time": "2022-07-20T15:03:33.093Z"
   },
   {
    "duration": 30,
    "start_time": "2022-07-20T15:03:33.135Z"
   },
   {
    "duration": 10,
    "start_time": "2022-07-20T15:03:33.167Z"
   },
   {
    "duration": 147,
    "start_time": "2022-07-20T15:03:33.178Z"
   },
   {
    "duration": 0,
    "start_time": "2022-07-20T15:03:33.326Z"
   },
   {
    "duration": 0,
    "start_time": "2022-07-20T15:03:33.328Z"
   },
   {
    "duration": 0,
    "start_time": "2022-07-20T15:03:33.329Z"
   },
   {
    "duration": 0,
    "start_time": "2022-07-20T15:03:33.330Z"
   },
   {
    "duration": 0,
    "start_time": "2022-07-20T15:03:33.331Z"
   },
   {
    "duration": 0,
    "start_time": "2022-07-20T15:03:33.332Z"
   },
   {
    "duration": 0,
    "start_time": "2022-07-20T15:03:33.333Z"
   },
   {
    "duration": 0,
    "start_time": "2022-07-20T15:03:33.334Z"
   },
   {
    "duration": 0,
    "start_time": "2022-07-20T15:03:33.345Z"
   },
   {
    "duration": 0,
    "start_time": "2022-07-20T15:03:33.346Z"
   },
   {
    "duration": 0,
    "start_time": "2022-07-20T15:03:33.347Z"
   },
   {
    "duration": 0,
    "start_time": "2022-07-20T15:03:33.348Z"
   },
   {
    "duration": 0,
    "start_time": "2022-07-20T15:03:33.348Z"
   },
   {
    "duration": 0,
    "start_time": "2022-07-20T15:03:33.349Z"
   },
   {
    "duration": 0,
    "start_time": "2022-07-20T15:03:33.350Z"
   },
   {
    "duration": 0,
    "start_time": "2022-07-20T15:03:33.351Z"
   },
   {
    "duration": 0,
    "start_time": "2022-07-20T15:03:33.353Z"
   },
   {
    "duration": 9,
    "start_time": "2022-07-20T15:03:58.603Z"
   },
   {
    "duration": 12,
    "start_time": "2022-07-20T15:04:34.674Z"
   },
   {
    "duration": 10,
    "start_time": "2022-07-20T15:04:36.499Z"
   },
   {
    "duration": 9,
    "start_time": "2022-07-20T15:04:38.867Z"
   },
   {
    "duration": 6,
    "start_time": "2022-07-20T15:10:11.585Z"
   },
   {
    "duration": 7,
    "start_time": "2022-07-20T15:10:20.199Z"
   },
   {
    "duration": 5,
    "start_time": "2022-07-20T15:19:18.065Z"
   },
   {
    "duration": 6,
    "start_time": "2022-07-20T15:19:27.396Z"
   },
   {
    "duration": 5,
    "start_time": "2022-07-20T15:20:27.681Z"
   },
   {
    "duration": 5,
    "start_time": "2022-07-20T15:20:55.304Z"
   },
   {
    "duration": 13,
    "start_time": "2022-07-20T16:13:43.205Z"
   },
   {
    "duration": 13,
    "start_time": "2022-07-20T16:17:50.763Z"
   },
   {
    "duration": 13,
    "start_time": "2022-07-20T16:17:57.474Z"
   },
   {
    "duration": 15,
    "start_time": "2022-07-20T16:18:05.888Z"
   },
   {
    "duration": 4,
    "start_time": "2022-07-20T16:18:08.610Z"
   },
   {
    "duration": 607,
    "start_time": "2022-07-20T16:18:10.453Z"
   },
   {
    "duration": 1490,
    "start_time": "2022-07-20T16:24:33.074Z"
   },
   {
    "duration": 31,
    "start_time": "2022-07-20T16:24:34.566Z"
   },
   {
    "duration": 6,
    "start_time": "2022-07-20T16:24:34.599Z"
   },
   {
    "duration": 52,
    "start_time": "2022-07-20T16:24:34.607Z"
   },
   {
    "duration": 14,
    "start_time": "2022-07-20T16:24:34.660Z"
   },
   {
    "duration": 19,
    "start_time": "2022-07-20T16:24:34.676Z"
   },
   {
    "duration": 12,
    "start_time": "2022-07-20T16:24:34.697Z"
   },
   {
    "duration": 33,
    "start_time": "2022-07-20T16:24:34.711Z"
   },
   {
    "duration": 39,
    "start_time": "2022-07-20T16:24:34.746Z"
   },
   {
    "duration": 11,
    "start_time": "2022-07-20T16:24:34.787Z"
   },
   {
    "duration": 2,
    "start_time": "2022-07-20T16:24:34.800Z"
   },
   {
    "duration": 10,
    "start_time": "2022-07-20T16:24:34.804Z"
   },
   {
    "duration": 31,
    "start_time": "2022-07-20T16:24:34.816Z"
   },
   {
    "duration": 12,
    "start_time": "2022-07-20T16:24:34.849Z"
   },
   {
    "duration": 9,
    "start_time": "2022-07-20T16:24:34.862Z"
   },
   {
    "duration": 5,
    "start_time": "2022-07-20T16:24:34.873Z"
   },
   {
    "duration": 4,
    "start_time": "2022-07-20T16:24:35.356Z"
   },
   {
    "duration": 2516,
    "start_time": "2022-07-20T16:24:35.362Z"
   },
   {
    "duration": 945,
    "start_time": "2022-07-20T16:24:37.880Z"
   },
   {
    "duration": 1494,
    "start_time": "2022-07-20T16:24:38.828Z"
   },
   {
    "duration": 29,
    "start_time": "2022-07-20T16:24:40.324Z"
   },
   {
    "duration": 4,
    "start_time": "2022-07-20T16:24:40.355Z"
   },
   {
    "duration": 900,
    "start_time": "2022-07-20T16:24:40.360Z"
   },
   {
    "duration": 3,
    "start_time": "2022-07-20T16:24:41.261Z"
   },
   {
    "duration": 10,
    "start_time": "2022-07-20T16:24:41.266Z"
   },
   {
    "duration": 118,
    "start_time": "2022-07-20T16:24:41.277Z"
   },
   {
    "duration": 0,
    "start_time": "2022-07-20T16:24:41.396Z"
   },
   {
    "duration": 0,
    "start_time": "2022-07-20T16:24:41.398Z"
   },
   {
    "duration": 0,
    "start_time": "2022-07-20T16:24:41.399Z"
   },
   {
    "duration": 0,
    "start_time": "2022-07-20T16:24:41.400Z"
   },
   {
    "duration": 0,
    "start_time": "2022-07-20T16:24:41.401Z"
   },
   {
    "duration": 0,
    "start_time": "2022-07-20T16:24:41.402Z"
   },
   {
    "duration": 0,
    "start_time": "2022-07-20T16:24:41.403Z"
   },
   {
    "duration": 0,
    "start_time": "2022-07-20T16:24:41.404Z"
   },
   {
    "duration": 0,
    "start_time": "2022-07-20T16:24:41.405Z"
   },
   {
    "duration": 4,
    "start_time": "2022-07-20T16:26:19.949Z"
   },
   {
    "duration": 1493,
    "start_time": "2022-07-20T16:39:03.362Z"
   },
   {
    "duration": 30,
    "start_time": "2022-07-20T16:39:04.857Z"
   },
   {
    "duration": 5,
    "start_time": "2022-07-20T16:39:04.889Z"
   },
   {
    "duration": 62,
    "start_time": "2022-07-20T16:39:04.897Z"
   },
   {
    "duration": 8,
    "start_time": "2022-07-20T16:39:04.961Z"
   },
   {
    "duration": 17,
    "start_time": "2022-07-20T16:39:04.970Z"
   },
   {
    "duration": 13,
    "start_time": "2022-07-20T16:39:04.989Z"
   },
   {
    "duration": 26,
    "start_time": "2022-07-20T16:39:05.004Z"
   },
   {
    "duration": 40,
    "start_time": "2022-07-20T16:39:05.031Z"
   },
   {
    "duration": 10,
    "start_time": "2022-07-20T16:39:05.073Z"
   },
   {
    "duration": 9,
    "start_time": "2022-07-20T16:39:05.085Z"
   },
   {
    "duration": 21,
    "start_time": "2022-07-20T16:39:05.096Z"
   },
   {
    "duration": 15,
    "start_time": "2022-07-20T16:39:05.119Z"
   },
   {
    "duration": 27,
    "start_time": "2022-07-20T16:39:05.135Z"
   },
   {
    "duration": 16,
    "start_time": "2022-07-20T16:39:05.164Z"
   },
   {
    "duration": 13,
    "start_time": "2022-07-20T16:39:05.181Z"
   },
   {
    "duration": 20,
    "start_time": "2022-07-20T16:39:05.196Z"
   },
   {
    "duration": 2419,
    "start_time": "2022-07-20T16:39:05.217Z"
   },
   {
    "duration": 838,
    "start_time": "2022-07-20T16:39:07.638Z"
   },
   {
    "duration": 1669,
    "start_time": "2022-07-20T16:39:08.478Z"
   },
   {
    "duration": 16,
    "start_time": "2022-07-20T16:39:10.151Z"
   },
   {
    "duration": 5,
    "start_time": "2022-07-20T16:39:10.169Z"
   },
   {
    "duration": 793,
    "start_time": "2022-07-20T16:39:10.175Z"
   },
   {
    "duration": 3,
    "start_time": "2022-07-20T16:39:10.970Z"
   },
   {
    "duration": 6,
    "start_time": "2022-07-20T16:39:10.975Z"
   },
   {
    "duration": 872805,
    "start_time": "2022-07-20T16:39:10.982Z"
   },
   {
    "duration": 5,
    "start_time": "2022-07-20T16:53:43.789Z"
   },
   {
    "duration": 1596,
    "start_time": "2022-07-20T16:53:43.797Z"
   },
   {
    "duration": 909,
    "start_time": "2022-07-20T16:53:45.395Z"
   },
   {
    "duration": 1442,
    "start_time": "2022-07-20T16:53:46.306Z"
   },
   {
    "duration": 522,
    "start_time": "2022-07-20T16:53:47.750Z"
   },
   {
    "duration": 5,
    "start_time": "2022-07-20T16:53:48.274Z"
   },
   {
    "duration": 20,
    "start_time": "2022-07-20T16:53:48.281Z"
   },
   {
    "duration": 3714,
    "start_time": "2022-07-20T16:53:48.303Z"
   },
   {
    "duration": 1298,
    "start_time": "2022-07-20T16:53:52.018Z"
   },
   {
    "duration": 10,
    "start_time": "2022-07-20T16:53:53.318Z"
   },
   {
    "duration": 806,
    "start_time": "2022-07-20T16:56:21.869Z"
   },
   {
    "duration": 959,
    "start_time": "2022-07-20T16:56:41.755Z"
   },
   {
    "duration": 1392,
    "start_time": "2022-07-20T16:59:54.647Z"
   },
   {
    "duration": 32,
    "start_time": "2022-07-20T16:59:56.041Z"
   },
   {
    "duration": 5,
    "start_time": "2022-07-20T16:59:56.075Z"
   },
   {
    "duration": 47,
    "start_time": "2022-07-20T16:59:56.082Z"
   },
   {
    "duration": 6,
    "start_time": "2022-07-20T16:59:56.131Z"
   },
   {
    "duration": 13,
    "start_time": "2022-07-20T16:59:56.139Z"
   },
   {
    "duration": 7,
    "start_time": "2022-07-20T16:59:56.154Z"
   },
   {
    "duration": 30,
    "start_time": "2022-07-20T16:59:56.162Z"
   },
   {
    "duration": 37,
    "start_time": "2022-07-20T16:59:56.194Z"
   },
   {
    "duration": 15,
    "start_time": "2022-07-20T16:59:56.232Z"
   },
   {
    "duration": 2,
    "start_time": "2022-07-20T16:59:56.249Z"
   },
   {
    "duration": 12,
    "start_time": "2022-07-20T16:59:56.252Z"
   },
   {
    "duration": 4,
    "start_time": "2022-07-20T16:59:56.265Z"
   },
   {
    "duration": 6,
    "start_time": "2022-07-20T16:59:56.271Z"
   },
   {
    "duration": 14,
    "start_time": "2022-07-20T16:59:56.278Z"
   },
   {
    "duration": 7,
    "start_time": "2022-07-20T16:59:56.294Z"
   },
   {
    "duration": 6,
    "start_time": "2022-07-20T16:59:56.302Z"
   },
   {
    "duration": 2347,
    "start_time": "2022-07-20T16:59:56.309Z"
   },
   {
    "duration": 873,
    "start_time": "2022-07-20T16:59:58.658Z"
   },
   {
    "duration": 1548,
    "start_time": "2022-07-20T16:59:59.533Z"
   },
   {
    "duration": 14,
    "start_time": "2022-07-20T17:00:01.083Z"
   },
   {
    "duration": 73,
    "start_time": "2022-07-20T17:00:01.098Z"
   },
   {
    "duration": 607,
    "start_time": "2022-07-20T17:00:01.173Z"
   },
   {
    "duration": 3,
    "start_time": "2022-07-20T17:00:01.782Z"
   },
   {
    "duration": 199,
    "start_time": "2022-07-20T17:00:01.786Z"
   },
   {
    "duration": 1376,
    "start_time": "2022-07-20T17:03:09.876Z"
   },
   {
    "duration": 30,
    "start_time": "2022-07-20T17:03:11.254Z"
   },
   {
    "duration": 5,
    "start_time": "2022-07-20T17:03:11.286Z"
   },
   {
    "duration": 43,
    "start_time": "2022-07-20T17:03:11.293Z"
   },
   {
    "duration": 13,
    "start_time": "2022-07-20T17:03:11.338Z"
   },
   {
    "duration": 7,
    "start_time": "2022-07-20T17:03:11.353Z"
   },
   {
    "duration": 7,
    "start_time": "2022-07-20T17:03:11.361Z"
   },
   {
    "duration": 20,
    "start_time": "2022-07-20T17:03:11.369Z"
   },
   {
    "duration": 58,
    "start_time": "2022-07-20T17:03:11.391Z"
   },
   {
    "duration": 11,
    "start_time": "2022-07-20T17:03:11.452Z"
   },
   {
    "duration": 2,
    "start_time": "2022-07-20T17:03:11.465Z"
   },
   {
    "duration": 14,
    "start_time": "2022-07-20T17:03:11.468Z"
   },
   {
    "duration": 7,
    "start_time": "2022-07-20T17:03:11.483Z"
   },
   {
    "duration": 8,
    "start_time": "2022-07-20T17:03:11.492Z"
   },
   {
    "duration": 6,
    "start_time": "2022-07-20T17:03:11.503Z"
   },
   {
    "duration": 35,
    "start_time": "2022-07-20T17:03:11.510Z"
   },
   {
    "duration": 3,
    "start_time": "2022-07-20T17:03:11.547Z"
   },
   {
    "duration": 2433,
    "start_time": "2022-07-20T17:03:11.551Z"
   },
   {
    "duration": 1457,
    "start_time": "2022-07-20T17:03:13.986Z"
   },
   {
    "duration": 1478,
    "start_time": "2022-07-20T17:03:15.446Z"
   },
   {
    "duration": 21,
    "start_time": "2022-07-20T17:03:16.925Z"
   },
   {
    "duration": 3,
    "start_time": "2022-07-20T17:03:16.948Z"
   },
   {
    "duration": 605,
    "start_time": "2022-07-20T17:03:16.952Z"
   },
   {
    "duration": 2,
    "start_time": "2022-07-20T17:03:17.559Z"
   },
   {
    "duration": 8,
    "start_time": "2022-07-20T17:03:17.563Z"
   },
   {
    "duration": 827240,
    "start_time": "2022-07-20T17:03:17.572Z"
   },
   {
    "duration": 3,
    "start_time": "2022-07-20T17:17:04.815Z"
   },
   {
    "duration": 913,
    "start_time": "2022-07-20T17:17:04.821Z"
   },
   {
    "duration": 936,
    "start_time": "2022-07-20T17:17:05.736Z"
   },
   {
    "duration": 1272,
    "start_time": "2022-07-20T17:17:06.674Z"
   },
   {
    "duration": 489,
    "start_time": "2022-07-20T17:17:07.949Z"
   },
   {
    "duration": 6,
    "start_time": "2022-07-20T17:17:08.440Z"
   },
   {
    "duration": 15,
    "start_time": "2022-07-20T17:17:08.448Z"
   },
   {
    "duration": 3418,
    "start_time": "2022-07-20T17:17:08.465Z"
   },
   {
    "duration": 1026,
    "start_time": "2022-07-20T17:17:11.885Z"
   },
   {
    "duration": 9,
    "start_time": "2022-07-20T17:17:12.913Z"
   },
   {
    "duration": 873,
    "start_time": "2022-07-20T17:17:53.098Z"
   },
   {
    "duration": 1013,
    "start_time": "2022-07-20T17:21:24.281Z"
   },
   {
    "duration": 1364,
    "start_time": "2022-08-06T15:33:16.725Z"
   },
   {
    "duration": 67,
    "start_time": "2022-08-06T15:33:18.091Z"
   },
   {
    "duration": 6,
    "start_time": "2022-08-06T15:33:18.159Z"
   },
   {
    "duration": 52,
    "start_time": "2022-08-06T15:33:18.167Z"
   },
   {
    "duration": 6,
    "start_time": "2022-08-06T15:33:18.221Z"
   },
   {
    "duration": 9,
    "start_time": "2022-08-06T15:33:18.229Z"
   },
   {
    "duration": 5,
    "start_time": "2022-08-06T15:33:18.239Z"
   },
   {
    "duration": 49,
    "start_time": "2022-08-06T15:33:18.245Z"
   },
   {
    "duration": 39,
    "start_time": "2022-08-06T15:33:18.297Z"
   },
   {
    "duration": 10,
    "start_time": "2022-08-06T15:33:18.339Z"
   },
   {
    "duration": 2,
    "start_time": "2022-08-06T15:33:18.351Z"
   },
   {
    "duration": 37,
    "start_time": "2022-08-06T15:33:18.355Z"
   },
   {
    "duration": 4,
    "start_time": "2022-08-06T15:33:18.394Z"
   },
   {
    "duration": 19,
    "start_time": "2022-08-06T15:33:18.400Z"
   },
   {
    "duration": 11,
    "start_time": "2022-08-06T15:33:18.421Z"
   },
   {
    "duration": 9,
    "start_time": "2022-08-06T15:33:18.434Z"
   },
   {
    "duration": 5,
    "start_time": "2022-08-06T15:33:18.445Z"
   },
   {
    "duration": 2505,
    "start_time": "2022-08-06T15:33:18.452Z"
   },
   {
    "duration": 834,
    "start_time": "2022-08-06T15:33:20.958Z"
   },
   {
    "duration": 2237,
    "start_time": "2022-08-06T15:33:21.795Z"
   },
   {
    "duration": 72,
    "start_time": "2022-08-06T15:33:24.033Z"
   },
   {
    "duration": 4,
    "start_time": "2022-08-06T15:33:24.107Z"
   },
   {
    "duration": 2654,
    "start_time": "2022-08-06T15:33:24.114Z"
   },
   {
    "duration": 2,
    "start_time": "2022-08-06T15:33:26.770Z"
   },
   {
    "duration": 18,
    "start_time": "2022-08-06T15:33:26.774Z"
   },
   {
    "duration": 1520,
    "start_time": "2022-08-28T15:28:37.699Z"
   },
   {
    "duration": 77,
    "start_time": "2022-08-28T15:28:39.221Z"
   },
   {
    "duration": 5,
    "start_time": "2022-08-28T15:28:39.300Z"
   },
   {
    "duration": 77,
    "start_time": "2022-08-28T15:28:39.307Z"
   },
   {
    "duration": 5,
    "start_time": "2022-08-28T15:28:39.386Z"
   },
   {
    "duration": 6,
    "start_time": "2022-08-28T15:28:39.411Z"
   },
   {
    "duration": 9,
    "start_time": "2022-08-28T15:28:39.418Z"
   },
   {
    "duration": 22,
    "start_time": "2022-08-28T15:28:39.429Z"
   },
   {
    "duration": 39,
    "start_time": "2022-08-28T15:28:39.453Z"
   },
   {
    "duration": 9,
    "start_time": "2022-08-28T15:28:39.512Z"
   },
   {
    "duration": 2,
    "start_time": "2022-08-28T15:28:39.523Z"
   },
   {
    "duration": 11,
    "start_time": "2022-08-28T15:28:39.527Z"
   },
   {
    "duration": 4,
    "start_time": "2022-08-28T15:28:39.539Z"
   },
   {
    "duration": 7,
    "start_time": "2022-08-28T15:28:39.545Z"
   },
   {
    "duration": 5,
    "start_time": "2022-08-28T15:28:39.553Z"
   },
   {
    "duration": 5,
    "start_time": "2022-08-28T15:28:39.560Z"
   },
   {
    "duration": 3,
    "start_time": "2022-08-28T15:28:39.567Z"
   },
   {
    "duration": 2188,
    "start_time": "2022-08-28T15:28:39.611Z"
   },
   {
    "duration": 794,
    "start_time": "2022-08-28T15:28:41.801Z"
   },
   {
    "duration": 1376,
    "start_time": "2022-08-28T15:28:42.597Z"
   },
   {
    "duration": 12,
    "start_time": "2022-08-28T15:28:43.975Z"
   },
   {
    "duration": 3,
    "start_time": "2022-08-28T15:28:43.988Z"
   },
   {
    "duration": 561,
    "start_time": "2022-08-28T15:28:43.993Z"
   },
   {
    "duration": 2,
    "start_time": "2022-08-28T15:28:44.556Z"
   },
   {
    "duration": 6,
    "start_time": "2022-08-28T15:28:44.559Z"
   },
   {
    "duration": 843762,
    "start_time": "2022-08-28T15:28:44.566Z"
   },
   {
    "duration": 3,
    "start_time": "2022-08-28T15:42:48.329Z"
   },
   {
    "duration": 1026,
    "start_time": "2022-08-28T15:42:48.336Z"
   },
   {
    "duration": 1117,
    "start_time": "2022-08-28T15:42:49.363Z"
   },
   {
    "duration": 1634,
    "start_time": "2022-08-28T15:42:50.482Z"
   },
   {
    "duration": 1527,
    "start_time": "2022-08-28T15:42:52.118Z"
   },
   {
    "duration": 5,
    "start_time": "2022-08-28T15:42:53.647Z"
   },
   {
    "duration": 46,
    "start_time": "2022-08-28T15:42:53.654Z"
   },
   {
    "duration": 3031,
    "start_time": "2022-08-28T15:42:53.702Z"
   },
   {
    "duration": 959,
    "start_time": "2022-08-28T15:42:56.735Z"
   },
   {
    "duration": 17,
    "start_time": "2022-08-28T15:42:57.695Z"
   },
   {
    "duration": 8,
    "start_time": "2022-08-28T15:42:57.713Z"
   },
   {
    "duration": 1347,
    "start_time": "2022-08-28T15:55:05.306Z"
   },
   {
    "duration": 33,
    "start_time": "2022-08-28T15:55:06.655Z"
   },
   {
    "duration": 6,
    "start_time": "2022-08-28T15:55:06.689Z"
   },
   {
    "duration": 82,
    "start_time": "2022-08-28T15:55:06.696Z"
   },
   {
    "duration": 5,
    "start_time": "2022-08-28T15:55:06.779Z"
   },
   {
    "duration": 5,
    "start_time": "2022-08-28T15:55:06.785Z"
   },
   {
    "duration": 29,
    "start_time": "2022-08-28T15:55:06.791Z"
   },
   {
    "duration": 32,
    "start_time": "2022-08-28T15:55:06.821Z"
   },
   {
    "duration": 9,
    "start_time": "2022-08-28T15:55:06.854Z"
   },
   {
    "duration": 7,
    "start_time": "2022-08-28T15:55:06.866Z"
   },
   {
    "duration": 4,
    "start_time": "2022-08-28T15:55:06.874Z"
   },
   {
    "duration": 6,
    "start_time": "2022-08-28T15:55:06.911Z"
   },
   {
    "duration": 5,
    "start_time": "2022-08-28T15:55:06.918Z"
   },
   {
    "duration": 6,
    "start_time": "2022-08-28T15:55:06.924Z"
   },
   {
    "duration": 4,
    "start_time": "2022-08-28T15:55:06.931Z"
   },
   {
    "duration": 2155,
    "start_time": "2022-08-28T15:55:06.936Z"
   },
   {
    "duration": 785,
    "start_time": "2022-08-28T15:55:09.092Z"
   },
   {
    "duration": 1426,
    "start_time": "2022-08-28T15:55:09.879Z"
   },
   {
    "duration": 12,
    "start_time": "2022-08-28T15:55:11.306Z"
   },
   {
    "duration": 3,
    "start_time": "2022-08-28T15:55:11.320Z"
   },
   {
    "duration": 628,
    "start_time": "2022-08-28T15:55:11.325Z"
   },
   {
    "duration": 2,
    "start_time": "2022-08-28T15:55:11.955Z"
   },
   {
    "duration": 853110,
    "start_time": "2022-08-28T15:55:11.959Z"
   },
   {
    "duration": 4,
    "start_time": "2022-08-28T16:09:25.070Z"
   },
   {
    "duration": 871,
    "start_time": "2022-08-28T16:09:25.075Z"
   },
   {
    "duration": 801,
    "start_time": "2022-08-28T16:09:25.948Z"
   },
   {
    "duration": 1161,
    "start_time": "2022-08-28T16:09:26.750Z"
   },
   {
    "duration": 543,
    "start_time": "2022-08-28T16:09:27.915Z"
   },
   {
    "duration": 11,
    "start_time": "2022-08-28T16:09:28.459Z"
   },
   {
    "duration": 3229,
    "start_time": "2022-08-28T16:09:28.472Z"
   },
   {
    "duration": 974,
    "start_time": "2022-08-28T16:09:31.703Z"
   },
   {
    "duration": 11,
    "start_time": "2022-08-28T16:09:32.679Z"
   }
  ],
  "kernelspec": {
   "display_name": "Python 3 (ipykernel)",
   "language": "python",
   "name": "python3"
  },
  "language_info": {
   "codemirror_mode": {
    "name": "ipython",
    "version": 3
   },
   "file_extension": ".py",
   "mimetype": "text/x-python",
   "name": "python",
   "nbconvert_exporter": "python",
   "pygments_lexer": "ipython3",
   "version": "3.9.5"
  },
  "toc": {
   "base_numbering": 1,
   "nav_menu": {},
   "number_sections": true,
   "sideBar": true,
   "skip_h1_title": true,
   "title_cell": "Содержание",
   "title_sidebar": "Contents",
   "toc_cell": true,
   "toc_position": {
    "height": "calc(100% - 180px)",
    "left": "10px",
    "top": "150px",
    "width": "255.594px"
   },
   "toc_section_display": true,
   "toc_window_display": true
  }
 },
 "nbformat": 4,
 "nbformat_minor": 2
}
